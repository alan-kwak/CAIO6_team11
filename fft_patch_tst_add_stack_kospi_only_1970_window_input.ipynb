{
 "cells": [
  {
   "cell_type": "markdown",
   "metadata": {},
   "source": [
    "## 0. Import libraries"
   ]
  },
  {
   "cell_type": "code",
   "execution_count": 1,
   "metadata": {},
   "outputs": [],
   "source": [
    "import torch\n",
    "import pandas as pd\n",
    "import numpy as np\n",
    "import math, copy, time\n",
    "import torch.nn as nn\n",
    "import matplotlib.pyplot as plt\n",
    "import torch.nn.functional as F\n",
    "from torch.utils.data import DataLoader, Dataset \n",
    "from torch.optim import Adam\n",
    "import tqdm\n",
    "from sklearn.metrics import mean_absolute_percentage_error, mean_squared_error"
   ]
  },
  {
   "cell_type": "markdown",
   "metadata": {},
   "source": [
    "## 1. Load Data"
   ]
  },
  {
   "cell_type": "code",
   "execution_count": 2,
   "metadata": {},
   "outputs": [
    {
     "data": {
      "text/html": [
       "<div>\n",
       "<style scoped>\n",
       "    .dataframe tbody tr th:only-of-type {\n",
       "        vertical-align: middle;\n",
       "    }\n",
       "\n",
       "    .dataframe tbody tr th {\n",
       "        vertical-align: top;\n",
       "    }\n",
       "\n",
       "    .dataframe thead th {\n",
       "        text-align: right;\n",
       "    }\n",
       "</style>\n",
       "<table border=\"1\" class=\"dataframe\">\n",
       "  <thead>\n",
       "    <tr style=\"text-align: right;\">\n",
       "      <th></th>\n",
       "      <th>Date</th>\n",
       "      <th>Open</th>\n",
       "      <th>High</th>\n",
       "      <th>Low</th>\n",
       "      <th>Close</th>\n",
       "      <th>Adj Close</th>\n",
       "      <th>Volume</th>\n",
       "    </tr>\n",
       "  </thead>\n",
       "  <tbody>\n",
       "    <tr>\n",
       "      <th>6762</th>\n",
       "      <td>2024-05-23</td>\n",
       "      <td>2719.030029</td>\n",
       "      <td>2734.270020</td>\n",
       "      <td>2704.000000</td>\n",
       "      <td>2721.810059</td>\n",
       "      <td>2721.810059</td>\n",
       "      <td>427400</td>\n",
       "    </tr>\n",
       "    <tr>\n",
       "      <th>6763</th>\n",
       "      <td>2024-05-24</td>\n",
       "      <td>2693.649902</td>\n",
       "      <td>2696.989990</td>\n",
       "      <td>2681.169922</td>\n",
       "      <td>2687.600098</td>\n",
       "      <td>2687.600098</td>\n",
       "      <td>501600</td>\n",
       "    </tr>\n",
       "    <tr>\n",
       "      <th>6764</th>\n",
       "      <td>2024-05-27</td>\n",
       "      <td>2697.159912</td>\n",
       "      <td>2725.080078</td>\n",
       "      <td>2693.659912</td>\n",
       "      <td>2722.989990</td>\n",
       "      <td>2722.989990</td>\n",
       "      <td>556700</td>\n",
       "    </tr>\n",
       "    <tr>\n",
       "      <th>6765</th>\n",
       "      <td>2024-05-28</td>\n",
       "      <td>2715.520020</td>\n",
       "      <td>2730.120117</td>\n",
       "      <td>2714.340088</td>\n",
       "      <td>2722.850098</td>\n",
       "      <td>2722.850098</td>\n",
       "      <td>441000</td>\n",
       "    </tr>\n",
       "    <tr>\n",
       "      <th>6766</th>\n",
       "      <td>2024-05-29</td>\n",
       "      <td>2719.560059</td>\n",
       "      <td>2721.629883</td>\n",
       "      <td>2678.090088</td>\n",
       "      <td>2679.189941</td>\n",
       "      <td>2679.189941</td>\n",
       "      <td>409427</td>\n",
       "    </tr>\n",
       "  </tbody>\n",
       "</table>\n",
       "</div>"
      ],
      "text/plain": [
       "            Date         Open         High          Low        Close  \\\n",
       "6762  2024-05-23  2719.030029  2734.270020  2704.000000  2721.810059   \n",
       "6763  2024-05-24  2693.649902  2696.989990  2681.169922  2687.600098   \n",
       "6764  2024-05-27  2697.159912  2725.080078  2693.659912  2722.989990   \n",
       "6765  2024-05-28  2715.520020  2730.120117  2714.340088  2722.850098   \n",
       "6766  2024-05-29  2719.560059  2721.629883  2678.090088  2679.189941   \n",
       "\n",
       "        Adj Close  Volume  \n",
       "6762  2721.810059  427400  \n",
       "6763  2687.600098  501600  \n",
       "6764  2722.989990  556700  \n",
       "6765  2722.850098  441000  \n",
       "6766  2679.189941  409427  "
      ]
     },
     "execution_count": 2,
     "metadata": {},
     "output_type": "execute_result"
    }
   ],
   "source": [
    "df = pd.read_csv('./kospi.csv')\n",
    "df.tail()"
   ]
  },
  {
   "cell_type": "code",
   "execution_count": 3,
   "metadata": {},
   "outputs": [
    {
     "data": {
      "text/html": [
       "<div>\n",
       "<style scoped>\n",
       "    .dataframe tbody tr th:only-of-type {\n",
       "        vertical-align: middle;\n",
       "    }\n",
       "\n",
       "    .dataframe tbody tr th {\n",
       "        vertical-align: top;\n",
       "    }\n",
       "\n",
       "    .dataframe thead th {\n",
       "        text-align: right;\n",
       "    }\n",
       "</style>\n",
       "<table border=\"1\" class=\"dataframe\">\n",
       "  <thead>\n",
       "    <tr style=\"text-align: right;\">\n",
       "      <th></th>\n",
       "      <th>Date</th>\n",
       "      <th>Open</th>\n",
       "      <th>High</th>\n",
       "      <th>Low</th>\n",
       "      <th>Close</th>\n",
       "      <th>Adj Close</th>\n",
       "      <th>Volume</th>\n",
       "      <th>kospi_shift</th>\n",
       "    </tr>\n",
       "  </thead>\n",
       "  <tbody>\n",
       "    <tr>\n",
       "      <th>0</th>\n",
       "      <td>1996-12-11</td>\n",
       "      <td>705.989990</td>\n",
       "      <td>709.479980</td>\n",
       "      <td>704.429993</td>\n",
       "      <td>704.679993</td>\n",
       "      <td>704.679993</td>\n",
       "      <td>28000</td>\n",
       "      <td>689.380005</td>\n",
       "    </tr>\n",
       "    <tr>\n",
       "      <th>1</th>\n",
       "      <td>1996-12-12</td>\n",
       "      <td>705.109985</td>\n",
       "      <td>706.010010</td>\n",
       "      <td>688.739990</td>\n",
       "      <td>689.380005</td>\n",
       "      <td>689.380005</td>\n",
       "      <td>25900</td>\n",
       "      <td>689.070007</td>\n",
       "    </tr>\n",
       "    <tr>\n",
       "      <th>2</th>\n",
       "      <td>1996-12-13</td>\n",
       "      <td>690.440002</td>\n",
       "      <td>695.719971</td>\n",
       "      <td>677.640015</td>\n",
       "      <td>689.070007</td>\n",
       "      <td>689.070007</td>\n",
       "      <td>26500</td>\n",
       "      <td>673.919983</td>\n",
       "    </tr>\n",
       "    <tr>\n",
       "      <th>3</th>\n",
       "      <td>1996-12-16</td>\n",
       "      <td>686.969971</td>\n",
       "      <td>686.969971</td>\n",
       "      <td>667.710022</td>\n",
       "      <td>673.919983</td>\n",
       "      <td>673.919983</td>\n",
       "      <td>22800</td>\n",
       "      <td>663.349976</td>\n",
       "    </tr>\n",
       "    <tr>\n",
       "      <th>4</th>\n",
       "      <td>1996-12-17</td>\n",
       "      <td>675.349976</td>\n",
       "      <td>680.090027</td>\n",
       "      <td>660.390015</td>\n",
       "      <td>663.349976</td>\n",
       "      <td>663.349976</td>\n",
       "      <td>31600</td>\n",
       "      <td>661.390015</td>\n",
       "    </tr>\n",
       "  </tbody>\n",
       "</table>\n",
       "</div>"
      ],
      "text/plain": [
       "         Date        Open        High         Low       Close   Adj Close  \\\n",
       "0  1996-12-11  705.989990  709.479980  704.429993  704.679993  704.679993   \n",
       "1  1996-12-12  705.109985  706.010010  688.739990  689.380005  689.380005   \n",
       "2  1996-12-13  690.440002  695.719971  677.640015  689.070007  689.070007   \n",
       "3  1996-12-16  686.969971  686.969971  667.710022  673.919983  673.919983   \n",
       "4  1996-12-17  675.349976  680.090027  660.390015  663.349976  663.349976   \n",
       "\n",
       "   Volume  kospi_shift  \n",
       "0   28000   689.380005  \n",
       "1   25900   689.070007  \n",
       "2   26500   673.919983  \n",
       "3   22800   663.349976  \n",
       "4   31600   661.390015  "
      ]
     },
     "execution_count": 3,
     "metadata": {},
     "output_type": "execute_result"
    }
   ],
   "source": [
    "df['kospi_shift'] = df['Adj Close'].shift(-1)\n",
    "df.head()"
   ]
  },
  {
   "cell_type": "code",
   "execution_count": 4,
   "metadata": {},
   "outputs": [
    {
     "name": "stdout",
     "output_type": "stream",
     "text": [
      "['Date' 'Open' 'High' 'Low' 'Close' 'Adj Close' 'Volume' 'kospi_shift']\n"
     ]
    }
   ],
   "source": [
    "col_names = df.columns.values\n",
    "print(col_names)"
   ]
  },
  {
   "cell_type": "code",
   "execution_count": 5,
   "metadata": {},
   "outputs": [],
   "source": [
    "# global variables and hyperparameter\n",
    "IN_DIM = 128\n",
    "DAY_INT = 1\n",
    "BATCH_SIZE = 64\n",
    "SCALER = 'MINMAX'   # 'NORMAL'\n",
    "# SCALER = 'NORMAL'   # 'NORMAL'\n",
    "TRAIN_TEST_SPLIT = 0.95\n",
    "LR = 1e-4"
   ]
  },
  {
   "cell_type": "markdown",
   "metadata": {},
   "source": [
    "## 2. Split data train and test"
   ]
  },
  {
   "cell_type": "code",
   "execution_count": 6,
   "metadata": {},
   "outputs": [
    {
     "data": {
      "text/html": [
       "<div>\n",
       "<style scoped>\n",
       "    .dataframe tbody tr th:only-of-type {\n",
       "        vertical-align: middle;\n",
       "    }\n",
       "\n",
       "    .dataframe tbody tr th {\n",
       "        vertical-align: top;\n",
       "    }\n",
       "\n",
       "    .dataframe thead th {\n",
       "        text-align: right;\n",
       "    }\n",
       "</style>\n",
       "<table border=\"1\" class=\"dataframe\">\n",
       "  <thead>\n",
       "    <tr style=\"text-align: right;\">\n",
       "      <th></th>\n",
       "      <th>Open</th>\n",
       "      <th>High</th>\n",
       "      <th>Low</th>\n",
       "      <th>Close</th>\n",
       "      <th>Adj Close</th>\n",
       "      <th>Volume</th>\n",
       "      <th>kospi_shift</th>\n",
       "    </tr>\n",
       "  </thead>\n",
       "  <tbody>\n",
       "    <tr>\n",
       "      <th>mean</th>\n",
       "      <td>1567.444804</td>\n",
       "      <td>1577.017282</td>\n",
       "      <td>1555.558617</td>\n",
       "      <td>1566.653486</td>\n",
       "      <td>1566.653486</td>\n",
       "      <td>4.352549e+05</td>\n",
       "      <td>1566.909651</td>\n",
       "    </tr>\n",
       "    <tr>\n",
       "      <th>var</th>\n",
       "      <td>516459.039009</td>\n",
       "      <td>518614.771196</td>\n",
       "      <td>512750.743107</td>\n",
       "      <td>515807.315879</td>\n",
       "      <td>515807.315879</td>\n",
       "      <td>7.423809e+10</td>\n",
       "      <td>515787.441260</td>\n",
       "    </tr>\n",
       "    <tr>\n",
       "      <th>max</th>\n",
       "      <td>3305.459961</td>\n",
       "      <td>3316.080078</td>\n",
       "      <td>3295.439941</td>\n",
       "      <td>3305.209961</td>\n",
       "      <td>3305.209961</td>\n",
       "      <td>3.455500e+06</td>\n",
       "      <td>3305.209961</td>\n",
       "    </tr>\n",
       "    <tr>\n",
       "      <th>min</th>\n",
       "      <td>283.410004</td>\n",
       "      <td>291.010010</td>\n",
       "      <td>277.369995</td>\n",
       "      <td>280.000000</td>\n",
       "      <td>280.000000</td>\n",
       "      <td>1.390000e+04</td>\n",
       "      <td>280.000000</td>\n",
       "    </tr>\n",
       "  </tbody>\n",
       "</table>\n",
       "</div>"
      ],
      "text/plain": [
       "               Open           High            Low          Close  \\\n",
       "mean    1567.444804    1577.017282    1555.558617    1566.653486   \n",
       "var   516459.039009  518614.771196  512750.743107  515807.315879   \n",
       "max     3305.459961    3316.080078    3295.439941    3305.209961   \n",
       "min      283.410004     291.010010     277.369995     280.000000   \n",
       "\n",
       "          Adj Close        Volume    kospi_shift  \n",
       "mean    1566.653486  4.352549e+05    1566.909651  \n",
       "var   515807.315879  7.423809e+10  515787.441260  \n",
       "max     3305.209961  3.455500e+06    3305.209961  \n",
       "min      280.000000  1.390000e+04     280.000000  "
      ]
     },
     "execution_count": 6,
     "metadata": {},
     "output_type": "execute_result"
    }
   ],
   "source": [
    "# train test split\n",
    "df_train = df.iloc[:int(len(df) * TRAIN_TEST_SPLIT), :]\n",
    "df_test = df.iloc[int(len(df) * TRAIN_TEST_SPLIT): , :]\n",
    "# print(df_train.tail())\n",
    "# print(df_test.head())\n",
    "scale_params = pd.DataFrame(index=['mean', 'var', 'max', 'min'])\n",
    "for i in col_names[1:]:\n",
    "    scale_params[i] = [df_train[i].mean(), df_train[i].var(), df_train[i].max(), df_train[i].min()]\n",
    "scale_params"
   ]
  },
  {
   "cell_type": "code",
   "execution_count": 7,
   "metadata": {},
   "outputs": [
    {
     "data": {
      "text/html": [
       "<div>\n",
       "<style scoped>\n",
       "    .dataframe tbody tr th:only-of-type {\n",
       "        vertical-align: middle;\n",
       "    }\n",
       "\n",
       "    .dataframe tbody tr th {\n",
       "        vertical-align: top;\n",
       "    }\n",
       "\n",
       "    .dataframe thead th {\n",
       "        text-align: right;\n",
       "    }\n",
       "</style>\n",
       "<table border=\"1\" class=\"dataframe\">\n",
       "  <thead>\n",
       "    <tr style=\"text-align: right;\">\n",
       "      <th></th>\n",
       "      <th>Open</th>\n",
       "      <th>High</th>\n",
       "      <th>Low</th>\n",
       "      <th>Close</th>\n",
       "      <th>Adj Close</th>\n",
       "      <th>Volume</th>\n",
       "      <th>kospi_shift</th>\n",
       "    </tr>\n",
       "  </thead>\n",
       "  <tbody>\n",
       "    <tr>\n",
       "      <th>6762</th>\n",
       "      <td>0.805950</td>\n",
       "      <td>0.807671</td>\n",
       "      <td>0.804034</td>\n",
       "      <td>0.807154</td>\n",
       "      <td>0.807154</td>\n",
       "      <td>0.120148</td>\n",
       "      <td>0.795846</td>\n",
       "    </tr>\n",
       "    <tr>\n",
       "      <th>6763</th>\n",
       "      <td>0.797551</td>\n",
       "      <td>0.795347</td>\n",
       "      <td>0.796469</td>\n",
       "      <td>0.795846</td>\n",
       "      <td>0.795846</td>\n",
       "      <td>0.141707</td>\n",
       "      <td>0.807544</td>\n",
       "    </tr>\n",
       "    <tr>\n",
       "      <th>6764</th>\n",
       "      <td>0.798713</td>\n",
       "      <td>0.804633</td>\n",
       "      <td>0.800608</td>\n",
       "      <td>0.807544</td>\n",
       "      <td>0.807544</td>\n",
       "      <td>0.157717</td>\n",
       "      <td>0.807498</td>\n",
       "    </tr>\n",
       "    <tr>\n",
       "      <th>6765</th>\n",
       "      <td>0.804788</td>\n",
       "      <td>0.806299</td>\n",
       "      <td>0.807460</td>\n",
       "      <td>0.807498</td>\n",
       "      <td>0.807498</td>\n",
       "      <td>0.124099</td>\n",
       "      <td>0.793066</td>\n",
       "    </tr>\n",
       "    <tr>\n",
       "      <th>6766</th>\n",
       "      <td>0.806125</td>\n",
       "      <td>0.803492</td>\n",
       "      <td>0.795449</td>\n",
       "      <td>0.793066</td>\n",
       "      <td>0.793066</td>\n",
       "      <td>0.114925</td>\n",
       "      <td>NaN</td>\n",
       "    </tr>\n",
       "  </tbody>\n",
       "</table>\n",
       "</div>"
      ],
      "text/plain": [
       "          Open      High       Low     Close  Adj Close    Volume  kospi_shift\n",
       "6762  0.805950  0.807671  0.804034  0.807154   0.807154  0.120148     0.795846\n",
       "6763  0.797551  0.795347  0.796469  0.795846   0.795846  0.141707     0.807544\n",
       "6764  0.798713  0.804633  0.800608  0.807544   0.807544  0.157717     0.807498\n",
       "6765  0.804788  0.806299  0.807460  0.807498   0.807498  0.124099     0.793066\n",
       "6766  0.806125  0.803492  0.795449  0.793066   0.793066  0.114925          NaN"
      ]
     },
     "execution_count": 7,
     "metadata": {},
     "output_type": "execute_result"
    }
   ],
   "source": [
    "# scaling\n",
    "train_data = pd.DataFrame()\n",
    "test_data = pd.DataFrame()\n",
    "if SCALER == 'MINMAX':\n",
    "    for i in col_names[1:]:\n",
    "        train_data[i] = df_train[i].apply(lambda x: (x - scale_params.loc['min', i])/(scale_params.loc['max', i] - scale_params.loc['min', i]))\n",
    "        test_data[i] = df_test[i].apply(lambda x: (x - scale_params.loc['min', i])/(scale_params.loc['max', i] - scale_params.loc['min', i]))\n",
    "elif SCALER == 'NORMAL':\n",
    "    for i in col_names[1:]:\n",
    "        train_data[i] = df_train[i].apply(lambda x: (x - scale_params.loc['mean', i])/scale_params.loc['var', i])\n",
    "        test_data[i] = df_test[i].apply(lambda x: (x - scale_params.loc['mean', i])/scale_params.loc['var', i])\n",
    "test_data.tail()"
   ]
  },
  {
   "cell_type": "code",
   "execution_count": 8,
   "metadata": {},
   "outputs": [
    {
     "data": {
      "text/plain": [
       "((6365, 64), (276, 64))"
      ]
     },
     "execution_count": 8,
     "metadata": {},
     "output_type": "execute_result"
    }
   ],
   "source": [
    "train_x = np.zeros([(len(train_data) - 64 + 1), 64])\n",
    "test_x = np.zeros([(len(test_data) - 64 + 1), 64])\n",
    "train_x.shape, test_x.shape"
   ]
  },
  {
   "cell_type": "code",
   "execution_count": 9,
   "metadata": {},
   "outputs": [],
   "source": [
    "class StockDataset(Dataset):\n",
    "    def __init__(self, y, seq_len, input_window=128, output_window=1, stride=1):\n",
    "        #총 데이터의 개수\n",
    "        L = y.shape[0]\n",
    "        #stride씩 움직일 때 생기는 총 sample의 개수\n",
    "        num_samples = (L - input_window - output_window) // stride + 1\n",
    "        start_pos = (L - input_window - output_window) % stride\n",
    "        iter_times = (L - input_window - output_window) // stride + 1\n",
    "        seq_iter = num_samples - seq_len + 1\n",
    "        # print(y.shape, num_samples, iter_times, start_pos, L)\n",
    "\n",
    "        #input과 output\n",
    "        # X = np.zeros([input_window, num_samples])\n",
    "        # Y = np.zeros([output_window, num_samples])\n",
    "        X = np.zeros([num_samples, input_window])\n",
    "        X_FFT = np.zeros([num_samples, input_window])\n",
    "        Y = np.zeros([num_samples, output_window])\n",
    "\n",
    "        for i in np.arange(num_samples):\n",
    "            start_x = start_pos + i * stride\n",
    "            end_x = start_x + input_window\n",
    "            X[i, :] = y[start_x:end_x]\n",
    "            ft = np.fft.fftn(y[start_x:end_x], norm='forward')\n",
    "            X_FFT[i, :] = abs(ft)\n",
    "\n",
    "            # end_y = start_y + output_window\n",
    "            # print(i, start_x, end_x)\n",
    "            Y[i, :] = y[end_x: end_x + output_window]\n",
    "        print(X.shape, Y.shape)\n",
    "        print(X[-1, -1], '\\n', Y[0])\n",
    "        # X = X.reshape(X.shape[0], X.shape[1], 1).transpose((1,0,2))\n",
    "        # Y = Y.reshape(Y.shape[0], Y.shape[1], 1).transpose((1,0,2))\n",
    "\n",
    "        start_pos = num_samples % seq_len\n",
    "        seq_iter = seq_iter - start_pos - 1\n",
    "        X_ = np.zeros([seq_iter, seq_len, 2, input_window])\n",
    "        Y_ = np.zeros([seq_iter, output_window])\n",
    "        print('start pos:', start_pos, 'seq_iter:', seq_iter)\n",
    "        for i in range(seq_iter):\n",
    "            X_[i, :, 0, :] = X[(start_pos+i):(start_pos+seq_len+i), :]\n",
    "            X_[i, :, 1, :] = X_FFT[(start_pos+i):(start_pos+seq_len+i), :]\n",
    "            Y_[i, :] = Y[start_pos+seq_len+i-1, :]\n",
    "            # print('i:', i, 'index start:', start_pos+i, 'index end:', start_pos+seq_len+i)\n",
    "        # X_[0, :, :] = X[(start_pos+0*seq_len):(start_pos+(0+1)*seq_len), :]\n",
    "        # Y_[0, :] = Y[start_pos+0*seq_len, :]\n",
    "        print(X[(start_pos+i):(start_pos+seq_len+i), :].shape)\n",
    "        print(X_.shape, Y_.shape)\n",
    "        self.x = X_\n",
    "        self.y = Y_\n",
    "        \n",
    "        self.len = len(X_)\n",
    "    def __getitem__(self, i):\n",
    "        return self.x[i], self.y[i]\n",
    "    def __len__(self):\n",
    "        return self.len"
   ]
  },
  {
   "cell_type": "code",
   "execution_count": 10,
   "metadata": {},
   "outputs": [
    {
     "name": "stdout",
     "output_type": "stream",
     "text": [
      "[1.31988255e-01 3.12271658e-03 1.29683371e-03 2.35780424e-03\n",
      " 2.80902610e-03 9.73406883e-04 1.45464698e-03 7.41390180e-04\n",
      " 5.13405540e-04 5.54392750e-04 6.60125892e-04 3.03655271e-04\n",
      " 7.31274817e-04 4.41558934e-04 1.01014959e-04 1.81445632e-04\n",
      " 5.30915635e-04 4.19992340e-04 5.34497679e-04 1.23551995e-04\n",
      " 2.60700292e-04 7.37847060e-05 3.18493456e-04 3.70558504e-04\n",
      " 1.07783208e-04 1.47474140e-04 1.16297853e-04 2.22296420e-04\n",
      " 3.64346220e-04 1.53758572e-04 3.54410473e-04 3.88272864e-04\n",
      " 1.69404937e-05 3.88272864e-04 3.54410473e-04 1.53758572e-04\n",
      " 3.64346220e-04 2.22296420e-04 1.16297853e-04 1.47474140e-04\n",
      " 1.07783208e-04 3.70558504e-04 3.18493456e-04 7.37847060e-05\n",
      " 2.60700292e-04 1.23551995e-04 5.34497679e-04 4.19992340e-04\n",
      " 5.30915635e-04 1.81445632e-04 1.01014959e-04 4.41558934e-04\n",
      " 7.31274817e-04 3.03655271e-04 6.60125892e-04 5.54392750e-04\n",
      " 5.13405540e-04 7.41390180e-04 1.45464698e-03 9.73406883e-04\n",
      " 2.80902610e-03 2.35780424e-03 1.29683371e-03 3.12271658e-03] 0.17346486151359236\n"
     ]
    },
    {
     "data": {
      "image/png": "[encoded data removed]",
      "text/plain": [
       "<Figure size 640x480 with 1 Axes>"
      ]
     },
     "metadata": {},
     "output_type": "display_data"
    }
   ],
   "source": [
    "aa = train_data.loc[:63, 'Adj Close']\n",
    "aa_ft = np.fft.fftn(aa, norm='forward')\n",
    "print(abs(aa_ft), np.sum(abs(aa_ft)))\n",
    "plt.plot(abs(aa_ft))\n",
    "plt.show()"
   ]
  },
  {
   "cell_type": "code",
   "execution_count": 11,
   "metadata": {},
   "outputs": [
    {
     "name": "stdout",
     "output_type": "stream",
     "text": [
      "(6364, 64) (6364, 1)\n",
      "0.6644067673505358 \n",
      " [0.12107919]\n",
      "start pos: 28 seq_iter: 6272\n",
      "(64, 64)\n",
      "(6272, 64, 2, 64) (6272, 1)\n",
      "length of data 6272\n",
      "[0.14746745]\n"
     ]
    }
   ],
   "source": [
    "train_x = StockDataset(train_data['Adj Close'], 64, 64, 1, 1)\n",
    "print('length of data', len(train_x))\n",
    "print(next(iter(train_x))[1])"
   ]
  },
  {
   "cell_type": "markdown",
   "metadata": {},
   "source": [
    "### 3. create dataloader"
   ]
  },
  {
   "cell_type": "code",
   "execution_count": 12,
   "metadata": {},
   "outputs": [
    {
     "name": "stdout",
     "output_type": "stream",
     "text": [
      "(6364, 64) (6364, 1)\n",
      "0.6644067673505358 \n",
      " [0.12107919]\n",
      "start pos: 28 seq_iter: 6272\n",
      "(64, 64)\n",
      "(6272, 64, 2, 64) (6272, 1)\n",
      "(275, 64) (275, 1)\n",
      "0.8074977040268706 \n",
      " [0.75421539]\n",
      "start pos: 19 seq_iter: 192\n",
      "(64, 64)\n",
      "(192, 64, 2, 64) (192, 1)\n",
      "98 6272 (64, 2, 64) (1,)\n"
     ]
    }
   ],
   "source": [
    "train_dataset = StockDataset(train_data['Adj Close'], 64, 64, 1, 1)\n",
    "train_dataloader = DataLoader(train_dataset, batch_size=BATCH_SIZE, shuffle=True)\n",
    "\n",
    "test_dataset = StockDataset(test_data['Adj Close'], 64, 64, 1, 1)\n",
    "test_dataloader = DataLoader(test_dataset, batch_size=BATCH_SIZE, shuffle=False)\n",
    "a1 = next(iter(train_dataset))\n",
    "print(len(train_dataloader), len(train_dataloader.dataset), a1[0].shape, a1[1].shape)\n",
    "# print(next(iter(test_dataset)))"
   ]
  },
  {
   "cell_type": "code",
   "execution_count": 13,
   "metadata": {},
   "outputs": [
    {
     "name": "stdout",
     "output_type": "stream",
     "text": [
      "tensor([[[0.2052, 0.1947, 0.1838,  ..., 0.2274, 0.2295, 0.2352],\n",
      "         [0.2099, 0.0150, 0.0025,  ..., 0.0036, 0.0025, 0.0150]],\n",
      "\n",
      "        [[0.1947, 0.1838, 0.1849,  ..., 0.2295, 0.2352, 0.2399],\n",
      "         [0.2105, 0.0149, 0.0030,  ..., 0.0031, 0.0030, 0.0149]],\n",
      "\n",
      "        [[0.1838, 0.1849, 0.1780,  ..., 0.2352, 0.2399, 0.2473],\n",
      "         [0.2113, 0.0147, 0.0037,  ..., 0.0024, 0.0037, 0.0147]],\n",
      "\n",
      "        ...,\n",
      "\n",
      "        [[0.2274, 0.2295, 0.2352,  ..., 0.2014, 0.2006, 0.2021],\n",
      "         [0.2109, 0.0087, 0.0038,  ..., 0.0054, 0.0038, 0.0087]],\n",
      "\n",
      "        [[0.2295, 0.2352, 0.2399,  ..., 0.2006, 0.2021, 0.2078],\n",
      "         [0.2106, 0.0086, 0.0036,  ..., 0.0054, 0.0036, 0.0086]],\n",
      "\n",
      "        [[0.2352, 0.2399, 0.2473,  ..., 0.2021, 0.2078, 0.2016],\n",
      "         [0.2102, 0.0085, 0.0033,  ..., 0.0055, 0.0033, 0.0085]]],\n",
      "       dtype=torch.float64) \n",
      " tensor([0.1112], dtype=torch.float64)\n"
     ]
    }
   ],
   "source": [
    "for x1, y1 in train_dataloader:\n",
    "    pass\n",
    "print(x1[0], '\\n', y1[63])"
   ]
  },
  {
   "cell_type": "code",
   "execution_count": 14,
   "metadata": {},
   "outputs": [
    {
     "name": "stdout",
     "output_type": "stream",
     "text": [
      "torch.Size([64, 2, 64]) \n",
      " torch.Size([1])\n"
     ]
    }
   ],
   "source": [
    "for x1, y1 in test_dataloader:\n",
    "    pass\n",
    "print(x1[0].shape, '\\n', y1[0].shape)"
   ]
  },
  {
   "cell_type": "markdown",
   "metadata": {},
   "source": [
    "## 4. Make a Transformer model"
   ]
  },
  {
   "cell_type": "markdown",
   "metadata": {},
   "source": [
    "In this sections, we will implement the building blocks of the transformer: [Positional encoding](#1a), [Multi-head attention](#1b) and [Position wise feedforward network](#1c)"
   ]
  },
  {
   "cell_type": "markdown",
   "metadata": {},
   "source": [
    "### a. Sinusoidal Positional Encoding\n",
    "<a id='1a'></a>\n",
    "In this section, we will implement sinusoidal positional encoding\n",
    "\n",
    "$$\\begin{align}\n",
    "PE(pos, 2i) &= \\sin \\left( pos / 10000^{2i / d_{model}} \\right)  \\\\\n",
    "PE(pos, 2i+1) &= \\cos \\left( pos / 10000^{2i / d_{model}} \\right)  \n",
    "\\end{align}$$"
   ]
  },
  {
   "cell_type": "code",
   "execution_count": 15,
   "metadata": {},
   "outputs": [],
   "source": [
    "class PositionalEncoding(nn.Module):\n",
    "    def __init__(self, d_model , max_len, device):\n",
    "        \"\"\"\n",
    "        d_model: dimension of model\n",
    "        max_len: maximum sequence length\n",
    "        device: 'cuda' or 'cpu'\n",
    "        \"\"\"\n",
    "        super().__init__()\n",
    "        self.encoding = torch.zeros(max_len, d_model, device=device)\n",
    "        self.encoding.required_grad = False\n",
    "\n",
    "        pos = torch.arange(0, max_len, device=device)\n",
    "        pos = pos.float().unsqueeze(dim=1) # [a, b, ...] -> [[a], [b], [c], ...]\n",
    "\n",
    "        _2i = torch.arange(0, d_model, step=2, device=device) # i is d_model and step=2 means 2*i\n",
    "        self.encoding[:, 0::2] = torch.sin(pos / (10000 ** (_2i / d_model)))\n",
    "        self.encoding[:, 1::2] = torch.cos(pos / (10000 ** (_2i / d_model)))\n",
    "    \n",
    "    def forward(self, x):\n",
    "        # x: Tensor, shape ``[batch_size, seq_len, embedding_dim]\n",
    "        # d_model = 512\n",
    "        # print(x.size())\n",
    "        batch_size, seq_len = x.size()[:2]\n",
    "        pe = self.encoding[:seq_len, :]\n",
    "        return pe"
   ]
  },
  {
   "cell_type": "code",
   "execution_count": 16,
   "metadata": {},
   "outputs": [
    {
     "data": {
      "image/png": "[encoded data removed]",
      "text/plain": [
       "<Figure size 640x480 with 2 Axes>"
      ]
     },
     "metadata": {},
     "output_type": "display_data"
    }
   ],
   "source": [
    "sample_pos_encoding = PositionalEncoding(128, 50, device='cpu')\n",
    "\n",
    "plt.pcolormesh(sample_pos_encoding.encoding.numpy(), cmap='RdBu')\n",
    "plt.xlabel('Depth')\n",
    "plt.ylabel('Position')\n",
    "plt.colorbar()\n",
    "plt.show()\n"
   ]
  },
  {
   "cell_type": "markdown",
   "metadata": {},
   "source": [
    "### b. Scaled dot product attention"
   ]
  },
  {
   "cell_type": "markdown",
   "metadata": {},
   "source": [
    "__Scaled dot product:__\n",
    "![picture](./assets/transformer_2.png)"
   ]
  },
  {
   "cell_type": "code",
   "execution_count": 17,
   "metadata": {},
   "outputs": [],
   "source": [
    "class ScaleDotProductAttention(nn.Module):\n",
    "    \"\"\"\n",
    "    Query: given setence\n",
    "    Key: same with query(encoder)\n",
    "    Value: same with key\n",
    "    \"\"\"\n",
    "\n",
    "    def __init__(self):\n",
    "        super().__init__()\n",
    "        self.softmax = nn.Softmax(dim=-1)\n",
    "    \n",
    "    def forward(self, q, k, v, mask=None, e=1e-12):\n",
    "        # input: 4 dimension tensor\n",
    "        # [batch_size, head, length, d_tensor]\n",
    "        batch_size, head, length, d_tensor = k.size()\n",
    "\n",
    "        # 1. q @ K.T\n",
    "        k_t = k.transpose(2, 3)\n",
    "        # print(q.size(), k_t.size())\n",
    "        score = (q @ k_t) / math.sqrt(d_tensor)\n",
    "\n",
    "        # 2. masking(decoder self attention only)\n",
    "        if mask is not None:\n",
    "            score = score.masked_fill(mask == 0, -10000)\n",
    "        \n",
    "        # 3. pass them softmax to [0, 1] range\n",
    "        score = self.softmax(score)\n",
    "\n",
    "        # 4. multiply with value\n",
    "        v = score @ v\n",
    "\n",
    "        return v, score"
   ]
  },
  {
   "cell_type": "markdown",
   "metadata": {},
   "source": [
    "### c. MultiheadAttention\n",
    "<a id='1b'></a>\n",
    "Equation:\n",
    "\n",
    "$$\\begin{align} \\text{MultiHead}(Q, K, V) &= \\text{Concat}(head_1, ...., head_h) W^O \\\\\n",
    "\\text{where head}_i &= \\text{Attention} \\left( QW^Q_i, K W^K_i, VW^v_i \\right)\n",
    "\\end{align}$$"
   ]
  },
  {
   "cell_type": "code",
   "execution_count": 18,
   "metadata": {},
   "outputs": [],
   "source": [
    "class MultiHeadAttention(nn.Module):\n",
    "    def __init__(self, d_model, n_head):\n",
    "        super().__init__()\n",
    "        self.n_head = n_head\n",
    "        self.attention = ScaleDotProductAttention()\n",
    "        self.w_q = nn.Linear(d_model, d_model)\n",
    "        self.w_k = nn.Linear(d_model, d_model)\n",
    "        self.w_v = nn.Linear(d_model, d_model)\n",
    "        self.w_concat = nn.Linear(d_model, d_model)\n",
    "    \n",
    "    def forward(self, q, k, v, mask=None):\n",
    "        # 1. dot product with weight matrices\n",
    "        q, k, v = self.w_q(q), self.w_k(k), self.w_v(v)\n",
    "\n",
    "        # 2. split tensor by heads\n",
    "        q, k, v = self.split(q), self.split(k), self.split(v)\n",
    "\n",
    "        # 3. scale dot product\n",
    "        out, attention = self.attention(q, k, v, mask=mask)\n",
    "\n",
    "        # 4. concat and pass to linear layer\n",
    "        out = self.concat(out)\n",
    "        out = self.w_concat(out)\n",
    "\n",
    "        return out\n",
    "    \n",
    "    def split(self, tensor):\n",
    "        '''\n",
    "        split tensor by heads\n",
    "        tensor: [batch_size, seq_len, d_model]\n",
    "        return: [batch_size, head, seq_len, d_tensor] --- d_model = head * d_tensor\n",
    "        '''\n",
    "        batch_size, seq_len, d_model = tensor.size()\n",
    "        d_tensor = d_model // self.n_head\n",
    "        tensor = tensor.view(batch_size, seq_len, self.n_head, d_tensor).transpose(1, 2)\n",
    "        # split by # of heads\n",
    "        return tensor\n",
    "    \n",
    "    def concat(self, tensor):\n",
    "        '''\n",
    "        inverse of split(tensor)\n",
    "        tensor: [batch_size, head, seq_len, d_tensor]\n",
    "        return: [batch_size, seq_len, d_model]\n",
    "        '''\n",
    "        batch_size, head, seq_len, d_tensor = tensor.size()\n",
    "        d_model = head * d_tensor\n",
    "\n",
    "        tensor = tensor.transpose(1, 2).contiguous().view(batch_size, seq_len, d_model)\n",
    "        return tensor\n",
    "        "
   ]
  },
  {
   "cell_type": "markdown",
   "metadata": {},
   "source": [
    "### d. Position-wise feed forward network\n",
    "<a id='1c'></a>\n",
    "In this section, we will implement position-wise feed forward network\n",
    "\n",
    "$$\\text{FFN}(x) = \\max \\left(0, x W_1 + b_1 \\right) W_2 + b_2$$"
   ]
  },
  {
   "cell_type": "code",
   "execution_count": 19,
   "metadata": {},
   "outputs": [],
   "source": [
    "class PositionwiseFeedForward(nn.Module):\n",
    "    def __init__(self, d_model, hidden, dropout):\n",
    "        super().__init__()\n",
    "        self.linear1 = nn.Linear(d_model, hidden)\n",
    "        self.linear2 = nn.Linear(hidden, d_model)\n",
    "        self.relu = nn.ReLU()\n",
    "        self.dropout = nn.Dropout(p=dropout)\n",
    "    \n",
    "    def forward(self, x):\n",
    "        x = self.linear1(x)\n",
    "        x = self.relu(x)\n",
    "        x = self.dropout(x)\n",
    "        x = self.linear2(x)\n",
    "        x = self.relu(x)\n",
    "        return x"
   ]
  },
  {
   "cell_type": "markdown",
   "metadata": {},
   "source": [
    "### e. Layer Normalization"
   ]
  },
  {
   "cell_type": "code",
   "execution_count": 20,
   "metadata": {},
   "outputs": [],
   "source": [
    "class LayerNorm(nn.Module):\n",
    "    def __init__(self, d_model, eps=1e-12):\n",
    "        super().__init__()\n",
    "        self.gamma = nn.Parameter(torch.ones(d_model))\n",
    "        self.beta = nn.Parameter(torch.zeros(d_model))\n",
    "        self.eps = eps\n",
    "    \n",
    "    def forward(self, x):\n",
    "        mean = x.mean(-1, keepdim=True)\n",
    "        var = x.var(-1, keepdim=True)\n",
    "        # -1 to get mean and var for the last dimension(d_model)\n",
    "\n",
    "        out = (x - mean) / torch.sqrt(var + self.eps)\n",
    "        out = self.gamma * out + self.beta\n",
    "        return out"
   ]
  },
  {
   "cell_type": "markdown",
   "metadata": {},
   "source": [
    "## 5. Embedding input data\n",
    "\n",
    "make 1 input dimension data to d_model dimentions"
   ]
  },
  {
   "cell_type": "code",
   "execution_count": 21,
   "metadata": {},
   "outputs": [],
   "source": [
    "class LinearEmbedding(nn.Module):\n",
    "    def __init__(self, in_d, dropout, d_model):\n",
    "        '''\n",
    "        data: [batch_size, seq_len, 1]\n",
    "        In this model, only kospi input window\n",
    "        '''\n",
    "        super().__init__()\n",
    "        self.d_model = d_model\n",
    "        self.in_d = in_d\n",
    "        print(type(in_d), type(d_model))\n",
    "        self.linear1 = nn.Linear(in_d, d_model//2)\n",
    "        self.linear2 = nn.Linear(d_model//2, d_model)\n",
    "        self.relu = nn.ReLU()\n",
    "        self.dropout = nn.Dropout(p=dropout)\n",
    "        self.normal1 = LayerNorm(d_model//2)\n",
    "    \n",
    "    def forward(self, x):\n",
    "        '''\n",
    "        input: [batch_size, seq_len, 1]\n",
    "        output: [batch_size, seq_len, d_model]\n",
    "        '''\n",
    "        if self.in_d == self.d_model:\n",
    "            return x\n",
    "        else:\n",
    "            x = self.linear1(x)\n",
    "            x = self.relu(x)\n",
    "            x = self.dropout(x)\n",
    "            x = self.normal1(x)\n",
    "            x = self.linear2(x)\n",
    "            x = self.relu(x)\n",
    "            return x\n"
   ]
  },
  {
   "cell_type": "code",
   "execution_count": 22,
   "metadata": {},
   "outputs": [],
   "source": [
    "class TrnasformerEmbedding(nn.Module):\n",
    "    '''\n",
    "    d_model: dimension of input data\n",
    "    seq_len: max length of sequence\n",
    "    '''\n",
    "    def __init__(self, in_d, dropout, d_model, seq_len, device):\n",
    "        # in_d, dropout, d_model, seq_len, device\n",
    "        super().__init__()\n",
    "        self.in_d = in_d\n",
    "        self.d_model = d_model\n",
    "        self.lin_emb = LinearEmbedding(in_d, dropout, d_model)\n",
    "        # self.pos_emb = PositionalEncoding(d_model, seq_len, device)\n",
    "        self.dropout = nn.Dropout(p=dropout)\n",
    "\n",
    "    def forward(self, x):\n",
    "        if self.in_d == self.d_model:\n",
    "            lin_emb = x\n",
    "        else:\n",
    "            lin_emb = self.lin_emb(x)\n",
    "        # pos_emb = self.pos_emb(x)\n",
    "        # print(pos_emb.size(), lin_emb.size())\n",
    "        return self.dropout(lin_emb)\n",
    "        # return self.dropout(lin_emb + pos_emb)"
   ]
  },
  {
   "cell_type": "markdown",
   "metadata": {},
   "source": [
    "## 6. Encoder Layer\n",
    "Trnasformer Encoder Except Embedding"
   ]
  },
  {
   "cell_type": "code",
   "execution_count": 23,
   "metadata": {},
   "outputs": [],
   "source": [
    "class EncoderLayer(nn.Module):\n",
    "    def __init__(self, d_model, ffn_hidden, n_head, dropout):\n",
    "        super().__init__()\n",
    "        self.attention = MultiHeadAttention(d_model=d_model, n_head=n_head)\n",
    "        self.normal1 = LayerNorm(d_model=d_model)\n",
    "        self.dropout1 = nn.Dropout(p=dropout)\n",
    "\n",
    "        self.ffn = PositionwiseFeedForward(d_model=d_model, hidden=ffn_hidden, dropout=dropout)\n",
    "        self.normal2 = LayerNorm(d_model=d_model)\n",
    "        self.dropout2 = nn.Dropout(p=dropout)\n",
    "    \n",
    "    def forward(self, x, src_mask=None):\n",
    "        # 1. multihead Attention\n",
    "        residual = x\n",
    "        x = self.attention(x, x, x)\n",
    "\n",
    "        # 2. add and norm\n",
    "        x = self.dropout1(x)\n",
    "        x = self.normal1(x + residual)\n",
    "\n",
    "        # 3. positionwise FFN\n",
    "        residual = x\n",
    "        x = self.ffn(x)\n",
    "\n",
    "        # 4. add and norm\n",
    "        x = self.dropout2(x)\n",
    "        x = self.normal2(x + residual)\n",
    "\n",
    "        return x"
   ]
  },
  {
   "cell_type": "markdown",
   "metadata": {},
   "source": [
    "## 7. Encoder\n",
    "Build Embedding and Encoder Block"
   ]
  },
  {
   "cell_type": "code",
   "execution_count": 24,
   "metadata": {},
   "outputs": [],
   "source": [
    "class Encoder(nn.Module):\n",
    "    def __init__(self, in_d, seq_len, d_model, ffn_hidden, n_head, dropout, n_layers, device):\n",
    "        # in_d, seq_len, d_model, ffn_hidden, n_head, dropout, n_layers, device)\n",
    "        super().__init__()\n",
    "        self.emb = TrnasformerEmbedding(in_d, dropout, d_model, seq_len, device)\n",
    "        self.layers = nn.ModuleList([EncoderLayer(d_model, ffn_hidden, n_head, dropout)\n",
    "                                     for _ in range(n_layers)])\n",
    "    \n",
    "    def forward(self, x):\n",
    "        x = self.emb(x)\n",
    "        for layer in self.layers:\n",
    "            x = layer(x)\n",
    "        \n",
    "        return x"
   ]
  },
  {
   "cell_type": "markdown",
   "metadata": {},
   "source": [
    "## 8. Transformer Encoder\n",
    "Only use encoder module and FFN "
   ]
  },
  {
   "cell_type": "code",
   "execution_count": 25,
   "metadata": {},
   "outputs": [],
   "source": [
    "class TransformerEncoder(nn.Module):\n",
    "    def __init__(self, in_d, seq_len, d_model, ffn_hidden, n_head, dropout, n_layers, lstm_hidden_size, lstm_layers, device, stage):\n",
    "        super().__init__()\n",
    "        self.stage = stage\n",
    "        self.encoder1 = Encoder(in_d, seq_len, d_model, ffn_hidden, n_head, dropout, n_layers, device)\n",
    "        self.encoder2 = Encoder(in_d, seq_len, d_model, ffn_hidden, n_head, dropout, n_layers, device)\n",
    "        # self.flatten = nn.Flatten()\n",
    "        self.lstm = nn.LSTM(d_model, lstm_hidden_size, lstm_layers, batch_first=True, dropout=dropout)\n",
    "        # self.flatten_dim = seq_len * d_model\n",
    "        self.linear1 = nn.Linear(lstm_hidden_size, lstm_hidden_size//2)\n",
    "        self.linear2 = nn.Linear(lstm_hidden_size//2, 1)\n",
    "        self.normal1 = nn.LayerNorm(lstm_hidden_size//2)\n",
    "\n",
    "        self.dropout = nn.Dropout(p=dropout)\n",
    "        self.relu = nn.ReLU()\n",
    "    \n",
    "    def forward(self, x):\n",
    "        # print('model dimention', x.size())\n",
    "        # print('encode input0 dim', x[:, :, 0, :].squeeze().size())\n",
    "        # print('encode input1 dim', x[:, :, 1, :].squeeze().size())\n",
    "        if self.stage == 'First':\n",
    "            x_t = self.encoder1(x[:, :, 0, :].squeeze())\n",
    "            x_fft = self.encoder2(x[:, :, 1, :].squeeze())\n",
    "            xs = x_t + x_fft\n",
    "        else:\n",
    "            xs = self.encoder1(x)\n",
    "        \n",
    "        lstm_out, (hs, cs) = self.lstm(xs)\n",
    "        # print('lstm out dim', lstm_out[:, -1, :].size())\n",
    "        out = lstm_out[:, -1, :]\n",
    "        # x = self.flatten(out)\n",
    "        # print('flatten out', x.size())\n",
    "        x = self.linear1(out)\n",
    "        # print(x.size())\n",
    "        x = self.relu(x)\n",
    "        x = self.dropout(x)\n",
    "        x = self.normal1(x)\n",
    "        x = self.linear2(x)\n",
    "        x = self.relu(x)\n",
    "        return x, lstm_out"
   ]
  },
  {
   "cell_type": "markdown",
   "metadata": {},
   "source": [
    "## 9. model, loss_fn, optimizer\n"
   ]
  },
  {
   "cell_type": "code",
   "execution_count": 26,
   "metadata": {},
   "outputs": [
    {
     "name": "stdout",
     "output_type": "stream",
     "text": [
      "64 64 64\n"
     ]
    }
   ],
   "source": [
    "# next(iter(train_dataloader)).shape\n",
    "# torch.cuda.empty.cache()\n",
    "batch_size, seq_len, _, input_dim = next(iter(train_dataloader))[0].size()\n",
    "print(batch_size, seq_len, input_dim)\n",
    "device = 'cuda' if torch.cuda.is_available() else 'cpu'\n",
    "in_d = 64\n",
    "model_d = 512\n",
    "dropout = 0\n",
    "ffn_hidden = model_d * 2\n",
    "n_layers = 4\n",
    "n_head = 4\n",
    "lstm_hidden_size = model_d\n",
    "lstm_layers = 1\n",
    "stage = 'First'\n",
    "lr_sched = True\n",
    "lr = 1e-5"
   ]
  },
  {
   "cell_type": "code",
   "execution_count": 27,
   "metadata": {},
   "outputs": [
    {
     "name": "stdout",
     "output_type": "stream",
     "text": [
      "<class 'int'> <class 'int'>\n",
      "<class 'int'> <class 'int'>\n"
     ]
    }
   ],
   "source": [
    "model1 = TransformerEncoder(in_d, seq_len, model_d, ffn_hidden, n_head, dropout, n_layers, lstm_hidden_size, lstm_layers, device, stage).to(device)\n",
    "loss_fn = nn.MSELoss()\n",
    "optimizer = torch.optim.Adam(params=model1.parameters(), lr = lr)\n",
    "if lr_sched == True:\n",
    "    # scheduler = torch.optim.lr_scheduler.LambdaLR(optimizer=optimizer,\n",
    "    #                                     lr_lambda=lambda epoch: 0.95 ** epoch,\n",
    "    #                                     last_epoch=-1,\n",
    "    #                                     verbose=False)\n",
    "    # scheduler = torch.optim.lr_scheduler.ExponentialLR(optimizer, gamma=0.95)\n",
    "    scheduler = torch.optim.lr_scheduler.StepLR(optimizer, step_size=30, gamma=0.3)"
   ]
  },
  {
   "cell_type": "code",
   "execution_count": 28,
   "metadata": {},
   "outputs": [
    {
     "data": {
      "text/plain": [
       "TransformerEncoder(\n",
       "  (encoder1): Encoder(\n",
       "    (emb): TrnasformerEmbedding(\n",
       "      (lin_emb): LinearEmbedding(\n",
       "        (linear1): Linear(in_features=64, out_features=256, bias=True)\n",
       "        (linear2): Linear(in_features=256, out_features=512, bias=True)\n",
       "        (relu): ReLU()\n",
       "        (dropout): Dropout(p=0, inplace=False)\n",
       "        (normal1): LayerNorm()\n",
       "      )\n",
       "      (dropout): Dropout(p=0, inplace=False)\n",
       "    )\n",
       "    (layers): ModuleList(\n",
       "      (0-3): 4 x EncoderLayer(\n",
       "        (attention): MultiHeadAttention(\n",
       "          (attention): ScaleDotProductAttention(\n",
       "            (softmax): Softmax(dim=-1)\n",
       "          )\n",
       "          (w_q): Linear(in_features=512, out_features=512, bias=True)\n",
       "          (w_k): Linear(in_features=512, out_features=512, bias=True)\n",
       "          (w_v): Linear(in_features=512, out_features=512, bias=True)\n",
       "          (w_concat): Linear(in_features=512, out_features=512, bias=True)\n",
       "        )\n",
       "        (normal1): LayerNorm()\n",
       "        (dropout1): Dropout(p=0, inplace=False)\n",
       "        (ffn): PositionwiseFeedForward(\n",
       "          (linear1): Linear(in_features=512, out_features=1024, bias=True)\n",
       "          (linear2): Linear(in_features=1024, out_features=512, bias=True)\n",
       "          (relu): ReLU()\n",
       "          (dropout): Dropout(p=0, inplace=False)\n",
       "        )\n",
       "        (normal2): LayerNorm()\n",
       "        (dropout2): Dropout(p=0, inplace=False)\n",
       "      )\n",
       "    )\n",
       "  )\n",
       "  (encoder2): Encoder(\n",
       "    (emb): TrnasformerEmbedding(\n",
       "      (lin_emb): LinearEmbedding(\n",
       "        (linear1): Linear(in_features=64, out_features=256, bias=True)\n",
       "        (linear2): Linear(in_features=256, out_features=512, bias=True)\n",
       "        (relu): ReLU()\n",
       "        (dropout): Dropout(p=0, inplace=False)\n",
       "        (normal1): LayerNorm()\n",
       "      )\n",
       "      (dropout): Dropout(p=0, inplace=False)\n",
       "    )\n",
       "    (layers): ModuleList(\n",
       "      (0-3): 4 x EncoderLayer(\n",
       "        (attention): MultiHeadAttention(\n",
       "          (attention): ScaleDotProductAttention(\n",
       "            (softmax): Softmax(dim=-1)\n",
       "          )\n",
       "          (w_q): Linear(in_features=512, out_features=512, bias=True)\n",
       "          (w_k): Linear(in_features=512, out_features=512, bias=True)\n",
       "          (w_v): Linear(in_features=512, out_features=512, bias=True)\n",
       "          (w_concat): Linear(in_features=512, out_features=512, bias=True)\n",
       "        )\n",
       "        (normal1): LayerNorm()\n",
       "        (dropout1): Dropout(p=0, inplace=False)\n",
       "        (ffn): PositionwiseFeedForward(\n",
       "          (linear1): Linear(in_features=512, out_features=1024, bias=True)\n",
       "          (linear2): Linear(in_features=1024, out_features=512, bias=True)\n",
       "          (relu): ReLU()\n",
       "          (dropout): Dropout(p=0, inplace=False)\n",
       "        )\n",
       "        (normal2): LayerNorm()\n",
       "        (dropout2): Dropout(p=0, inplace=False)\n",
       "      )\n",
       "    )\n",
       "  )\n",
       "  (lstm): LSTM(512, 512, batch_first=True)\n",
       "  (linear1): Linear(in_features=512, out_features=256, bias=True)\n",
       "  (linear2): Linear(in_features=256, out_features=1, bias=True)\n",
       "  (normal1): LayerNorm((256,), eps=1e-05, elementwise_affine=True)\n",
       "  (dropout): Dropout(p=0, inplace=False)\n",
       "  (relu): ReLU()\n",
       ")"
      ]
     },
     "execution_count": 28,
     "metadata": {},
     "output_type": "execute_result"
    }
   ],
   "source": [
    "model1"
   ]
  },
  {
   "cell_type": "markdown",
   "metadata": {},
   "source": [
    "## 10. Train and Test function"
   ]
  },
  {
   "cell_type": "code",
   "execution_count": 29,
   "metadata": {},
   "outputs": [
    {
     "data": {
      "text/plain": [
       "int"
      ]
     },
     "execution_count": 29,
     "metadata": {},
     "output_type": "execute_result"
    }
   ],
   "source": [
    "type(in_d)"
   ]
  },
  {
   "cell_type": "code",
   "execution_count": 30,
   "metadata": {},
   "outputs": [
    {
     "name": "stdout",
     "output_type": "stream",
     "text": [
      "<class 'int'> <class 'int'>\n"
     ]
    },
    {
     "data": {
      "text/plain": [
       "torch.Size([64, 64, 2, 512])"
      ]
     },
     "execution_count": 30,
     "metadata": {},
     "output_type": "execute_result"
    }
   ],
   "source": [
    "linear_model = LinearEmbedding(in_d, dropout, model_d).to(device)\n",
    "in_x, in_y = next(iter(train_dataloader))\n",
    "in_x = in_x.to(device).float()\n",
    "out = linear_model(in_x)\n",
    "out.size()"
   ]
  },
  {
   "cell_type": "code",
   "execution_count": 31,
   "metadata": {},
   "outputs": [
    {
     "name": "stdout",
     "output_type": "stream",
     "text": [
      "<class 'int'> <class 'int'>\n",
      "torch.Size([64, 64, 2, 64]) torch.Size([64, 1])\n"
     ]
    },
    {
     "data": {
      "text/plain": [
       "torch.Size([64, 64, 512])"
      ]
     },
     "execution_count": 31,
     "metadata": {},
     "output_type": "execute_result"
    }
   ],
   "source": [
    "emb_model = TrnasformerEmbedding(in_d, dropout, model_d, seq_len, device).to(device)\n",
    "in_x, in_y = next(iter(train_dataloader))\n",
    "in_x = in_x.to(device).float()\n",
    "print(in_x.shape, in_y.shape)\n",
    "out = emb_model(in_x[:, :, 0, :].squeeze())\n",
    "out.size()"
   ]
  },
  {
   "cell_type": "code",
   "execution_count": 32,
   "metadata": {},
   "outputs": [
    {
     "name": "stdout",
     "output_type": "stream",
     "text": [
      "<class 'int'> <class 'int'>\n",
      "torch.Size([64, 64, 512])\n",
      "torch.Size([64, 1])\n",
      "torch.Size([64])\n"
     ]
    }
   ],
   "source": [
    "encoder_model = Encoder(in_d, seq_len, model_d, ffn_hidden, n_head, dropout, n_layers, device).to(device)\n",
    "in_x, in_y = next(iter(train_dataloader))\n",
    "in_x = in_x.to(device).float()\n",
    "out = encoder_model(in_x[:, :, 0, :].squeeze())\n",
    "print(out.size())\n",
    "print(in_y.shape)\n",
    "print(in_y.contiguous().view(-1).shape)"
   ]
  },
  {
   "cell_type": "code",
   "execution_count": 33,
   "metadata": {},
   "outputs": [
    {
     "name": "stdout",
     "output_type": "stream",
     "text": [
      "torch.Size([64, 64, 2, 64])\n",
      "torch.Size([64, 1])\n",
      "torch.Size([64, 1])\n",
      "torch.Size([64])\n",
      "lstm out shape: torch.Size([64, 64, 512])\n"
     ]
    }
   ],
   "source": [
    "in_x, in_y = next(iter(train_dataloader))\n",
    "in_x = in_x.to(device).float()\n",
    "out, lstm_out = model1(in_x)\n",
    "print(in_x.size())\n",
    "print(out.size())\n",
    "print(in_y.shape)\n",
    "print(in_y.contiguous().view(-1).shape)\n",
    "print('lstm out shape:', lstm_out.size())"
   ]
  },
  {
   "cell_type": "code",
   "execution_count": 34,
   "metadata": {},
   "outputs": [
    {
     "name": "stdout",
     "output_type": "stream",
     "text": [
      "epochs: 0, loss: 23.772429, lr:  1e-05\n",
      "epochs: 1, loss: 23.772429, lr:  1e-05\n",
      "epochs: 2, loss: 23.772429, lr:  1e-05\n",
      "epochs: 3, loss: 23.772429, lr:  1e-05\n",
      "epochs: 4, loss: 23.772429, lr:  1e-05\n",
      "epochs: 5, loss: 23.772429, lr:  1e-05\n",
      "epochs: 6, loss: 23.772429, lr:  1e-05\n",
      "epochs: 7, loss: 23.772429, lr:  1e-05\n",
      "epochs: 8, loss: 23.772429, lr:  1e-05\n",
      "epochs: 9, loss: 23.772429, lr:  1e-05\n",
      "epochs: 10, loss: 23.772429, lr:  1e-05\n",
      "epochs: 11, loss: 23.772429, lr:  1e-05\n",
      "epochs: 12, loss: 23.772429, lr:  1e-05\n",
      "epochs: 13, loss: 23.772429, lr:  1e-05\n",
      "epochs: 14, loss: 23.772429, lr:  1e-05\n",
      "epochs: 15, loss: 23.772429, lr:  1e-05\n",
      "epochs: 16, loss: 23.772429, lr:  1e-05\n",
      "epochs: 17, loss: 23.772429, lr:  1e-05\n",
      "epochs: 18, loss: 23.772429, lr:  1e-05\n",
      "epochs: 19, loss: 23.772429, lr:  1e-05\n",
      "epochs: 20, loss: 23.772429, lr:  1e-05\n",
      "epochs: 21, loss: 23.772429, lr:  1e-05\n",
      "epochs: 22, loss: 23.772429, lr:  1e-05\n",
      "epochs: 23, loss: 23.772429, lr:  1e-05\n",
      "epochs: 24, loss: 23.772429, lr:  1e-05\n",
      "epochs: 25, loss: 23.772429, lr:  1e-05\n",
      "epochs: 26, loss: 23.772429, lr:  1e-05\n",
      "epochs: 27, loss: 23.772429, lr:  1e-05\n",
      "epochs: 28, loss: 23.772429, lr:  1e-05\n",
      "epochs: 29, loss: 23.772429, lr:  1e-05\n",
      "epochs: 30, loss: 23.772429, lr:  3e-06\n",
      "epochs: 31, loss: 23.772429, lr:  3e-06\n",
      "epochs: 32, loss: 23.772429, lr:  3e-06\n",
      "epochs: 33, loss: 23.772429, lr:  3e-06\n",
      "epochs: 34, loss: 23.772429, lr:  3e-06\n",
      "epochs: 35, loss: 23.772429, lr:  3e-06\n",
      "epochs: 36, loss: 23.772429, lr:  3e-06\n",
      "epochs: 37, loss: 23.772429, lr:  3e-06\n",
      "epochs: 38, loss: 23.772429, lr:  3e-06\n",
      "epochs: 39, loss: 23.772429, lr:  3e-06\n",
      "epochs: 40, loss: 23.772429, lr:  3e-06\n",
      "epochs: 41, loss: 23.772429, lr:  3e-06\n",
      "epochs: 42, loss: 23.772429, lr:  3e-06\n",
      "epochs: 43, loss: 23.772429, lr:  3e-06\n",
      "epochs: 44, loss: 23.772429, lr:  3e-06\n",
      "epochs: 45, loss: 23.772429, lr:  3e-06\n",
      "epochs: 46, loss: 23.772429, lr:  3e-06\n",
      "epochs: 47, loss: 23.772429, lr:  3e-06\n",
      "epochs: 48, loss: 23.772429, lr:  3e-06\n",
      "epochs: 49, loss: 23.772429, lr:  3e-06\n",
      "epochs: 50, loss: 23.772429, lr:  3e-06\n",
      "epochs: 51, loss: 23.772429, lr:  3e-06\n",
      "epochs: 52, loss: 23.772429, lr:  3e-06\n",
      "epochs: 53, loss: 23.772429, lr:  3e-06\n",
      "epochs: 54, loss: 23.772429, lr:  3e-06\n",
      "epochs: 55, loss: 23.772429, lr:  3e-06\n",
      "epochs: 56, loss: 23.772429, lr:  3e-06\n",
      "epochs: 57, loss: 23.772429, lr:  3e-06\n",
      "epochs: 58, loss: 23.772429, lr:  3e-06\n",
      "epochs: 59, loss: 23.772429, lr:  3e-06\n",
      "epochs: 60, loss: 23.772429, lr:  9e-07\n",
      "epochs: 61, loss: 23.772429, lr:  9e-07\n",
      "epochs: 62, loss: 23.772429, lr:  9e-07\n",
      "epochs: 63, loss: 23.772429, lr:  9e-07\n",
      "epochs: 64, loss: 23.772429, lr:  9e-07\n",
      "epochs: 65, loss: 23.772429, lr:  9e-07\n",
      "epochs: 66, loss: 23.772429, lr:  9e-07\n",
      "epochs: 67, loss: 23.772429, lr:  9e-07\n",
      "epochs: 68, loss: 23.772429, lr:  9e-07\n",
      "epochs: 69, loss: 23.772429, lr:  9e-07\n",
      "epochs: 70, loss: 23.772429, lr:  9e-07\n",
      "epochs: 71, loss: 23.772429, lr:  9e-07\n",
      "epochs: 72, loss: 23.772429, lr:  9e-07\n",
      "epochs: 73, loss: 23.772429, lr:  9e-07\n",
      "epochs: 74, loss: 23.772429, lr:  9e-07\n",
      "epochs: 75, loss: 23.772429, lr:  9e-07\n",
      "epochs: 76, loss: 23.772429, lr:  9e-07\n",
      "epochs: 77, loss: 23.772429, lr:  9e-07\n",
      "epochs: 78, loss: 23.772429, lr:  9e-07\n",
      "epochs: 79, loss: 23.772429, lr:  9e-07\n",
      "epochs: 80, loss: 23.772429, lr:  9e-07\n",
      "epochs: 81, loss: 23.772429, lr:  9e-07\n",
      "epochs: 82, loss: 23.772429, lr:  9e-07\n",
      "epochs: 83, loss: 23.772429, lr:  9e-07\n",
      "epochs: 84, loss: 23.772429, lr:  9e-07\n",
      "epochs: 85, loss: 23.772429, lr:  9e-07\n",
      "epochs: 86, loss: 23.772429, lr:  9e-07\n",
      "epochs: 87, loss: 23.772429, lr:  9e-07\n",
      "epochs: 88, loss: 23.772429, lr:  9e-07\n",
      "epochs: 89, loss: 23.772429, lr:  9e-07\n",
      "epochs: 90, loss: 23.772429, lr:  2.7e-07\n",
      "epochs: 91, loss: 23.772429, lr:  2.7e-07\n",
      "epochs: 92, loss: 23.772429, lr:  2.7e-07\n",
      "epochs: 93, loss: 23.772429, lr:  2.7e-07\n",
      "epochs: 94, loss: 23.772429, lr:  2.7e-07\n",
      "epochs: 95, loss: 23.772429, lr:  2.7e-07\n",
      "epochs: 96, loss: 23.772429, lr:  2.7e-07\n",
      "epochs: 97, loss: 23.772429, lr:  2.7e-07\n",
      "epochs: 98, loss: 23.772429, lr:  2.7e-07\n",
      "epochs: 99, loss: 23.772429, lr:  2.7e-07\n",
      "epochs: 100, loss: 23.772429, lr:  2.7e-07\n",
      "epochs: 101, loss: 23.772429, lr:  2.7e-07\n",
      "epochs: 102, loss: 23.772429, lr:  2.7e-07\n",
      "epochs: 103, loss: 23.772429, lr:  2.7e-07\n",
      "epochs: 104, loss: 23.772429, lr:  2.7e-07\n",
      "epochs: 105, loss: 23.772429, lr:  2.7e-07\n",
      "epochs: 106, loss: 23.772429, lr:  2.7e-07\n",
      "epochs: 107, loss: 23.772429, lr:  2.7e-07\n",
      "epochs: 108, loss: 23.772429, lr:  2.7e-07\n",
      "epochs: 109, loss: 23.772429, lr:  2.7e-07\n",
      "epochs: 110, loss: 23.772429, lr:  2.7e-07\n",
      "epochs: 111, loss: 23.772429, lr:  2.7e-07\n",
      "epochs: 112, loss: 23.772429, lr:  2.7e-07\n",
      "epochs: 113, loss: 23.772429, lr:  2.7e-07\n",
      "epochs: 114, loss: 23.772429, lr:  2.7e-07\n",
      "epochs: 115, loss: 23.772429, lr:  2.7e-07\n",
      "epochs: 116, loss: 23.772429, lr:  2.7e-07\n",
      "epochs: 117, loss: 23.772429, lr:  2.7e-07\n",
      "epochs: 118, loss: 23.772429, lr:  2.7e-07\n",
      "epochs: 119, loss: 23.772429, lr:  2.7e-07\n",
      "epochs: 120, loss: 23.772429, lr:  8.1e-08\n",
      "epochs: 121, loss: 23.772429, lr:  8.1e-08\n",
      "epochs: 122, loss: 23.772429, lr:  8.1e-08\n",
      "epochs: 123, loss: 23.772429, lr:  8.1e-08\n",
      "epochs: 124, loss: 23.772429, lr:  8.1e-08\n",
      "epochs: 125, loss: 23.772429, lr:  8.1e-08\n",
      "epochs: 126, loss: 23.772429, lr:  8.1e-08\n",
      "epochs: 127, loss: 23.772429, lr:  8.1e-08\n",
      "epochs: 128, loss: 23.772429, lr:  8.1e-08\n",
      "epochs: 129, loss: 23.772429, lr:  8.1e-08\n",
      "epochs: 130, loss: 23.772429, lr:  8.1e-08\n",
      "epochs: 131, loss: 23.772429, lr:  8.1e-08\n",
      "epochs: 132, loss: 23.772429, lr:  8.1e-08\n",
      "epochs: 133, loss: 23.772429, lr:  8.1e-08\n",
      "epochs: 134, loss: 23.772429, lr:  8.1e-08\n",
      "epochs: 135, loss: 23.772429, lr:  8.1e-08\n",
      "epochs: 136, loss: 23.772429, lr:  8.1e-08\n",
      "epochs: 137, loss: 23.772429, lr:  8.1e-08\n",
      "epochs: 138, loss: 23.772429, lr:  8.1e-08\n",
      "epochs: 139, loss: 23.772429, lr:  8.1e-08\n",
      "epochs: 140, loss: 23.772429, lr:  8.1e-08\n",
      "epochs: 141, loss: 23.772429, lr:  8.1e-08\n",
      "epochs: 142, loss: 23.772429, lr:  8.1e-08\n",
      "epochs: 143, loss: 23.772429, lr:  8.1e-08\n",
      "epochs: 144, loss: 23.772429, lr:  8.1e-08\n",
      "epochs: 145, loss: 23.772429, lr:  8.1e-08\n",
      "epochs: 146, loss: 23.772429, lr:  8.1e-08\n",
      "epochs: 147, loss: 23.772429, lr:  8.1e-08\n",
      "epochs: 148, loss: 23.772429, lr:  8.1e-08\n",
      "epochs: 149, loss: 23.772429, lr:  8.1e-08\n",
      "epochs: 150, loss: 23.772429, lr:  2.4e-08\n",
      "epochs: 151, loss: 23.772429, lr:  2.4e-08\n",
      "epochs: 152, loss: 23.772429, lr:  2.4e-08\n",
      "epochs: 153, loss: 23.772429, lr:  2.4e-08\n",
      "epochs: 154, loss: 23.772429, lr:  2.4e-08\n",
      "epochs: 155, loss: 23.772429, lr:  2.4e-08\n",
      "epochs: 156, loss: 23.772429, lr:  2.4e-08\n",
      "epochs: 157, loss: 23.772429, lr:  2.4e-08\n",
      "epochs: 158, loss: 23.772429, lr:  2.4e-08\n",
      "epochs: 159, loss: 23.772429, lr:  2.4e-08\n",
      "epochs: 160, loss: 23.772429, lr:  2.4e-08\n",
      "epochs: 161, loss: 23.772429, lr:  2.4e-08\n",
      "epochs: 162, loss: 23.772429, lr:  2.4e-08\n",
      "epochs: 163, loss: 23.772429, lr:  2.4e-08\n",
      "epochs: 164, loss: 23.772429, lr:  2.4e-08\n",
      "epochs: 165, loss: 23.772429, lr:  2.4e-08\n",
      "epochs: 166, loss: 23.772429, lr:  2.4e-08\n",
      "epochs: 167, loss: 23.772429, lr:  2.4e-08\n",
      "epochs: 168, loss: 23.772429, lr:  2.4e-08\n",
      "epochs: 169, loss: 23.772429, lr:  2.4e-08\n",
      "epochs: 170, loss: 23.772429, lr:  2.4e-08\n",
      "epochs: 171, loss: 23.772429, lr:  2.4e-08\n",
      "epochs: 172, loss: 23.772429, lr:  2.4e-08\n",
      "epochs: 173, loss: 23.772429, lr:  2.4e-08\n",
      "epochs: 174, loss: 23.772429, lr:  2.4e-08\n",
      "epochs: 175, loss: 23.772429, lr:  2.4e-08\n",
      "epochs: 176, loss: 23.772429, lr:  2.4e-08\n",
      "epochs: 177, loss: 23.772429, lr:  2.4e-08\n",
      "epochs: 178, loss: 23.772429, lr:  2.4e-08\n",
      "epochs: 179, loss: 23.772429, lr:  2.4e-08\n",
      "epochs: 180, loss: 23.772429, lr:  7e-09\n",
      "epochs: 181, loss: 23.772429, lr:  7e-09\n",
      "epochs: 182, loss: 23.772429, lr:  7e-09\n",
      "epochs: 183, loss: 23.772429, lr:  7e-09\n",
      "epochs: 184, loss: 23.772429, lr:  7e-09\n",
      "epochs: 185, loss: 23.772429, lr:  7e-09\n",
      "epochs: 186, loss: 23.772429, lr:  7e-09\n",
      "epochs: 187, loss: 23.772429, lr:  7e-09\n",
      "epochs: 188, loss: 23.772429, lr:  7e-09\n",
      "epochs: 189, loss: 23.772429, lr:  7e-09\n",
      "epochs: 190, loss: 23.772429, lr:  7e-09\n",
      "epochs: 191, loss: 23.772429, lr:  7e-09\n",
      "epochs: 192, loss: 23.772429, lr:  7e-09\n",
      "epochs: 193, loss: 23.772429, lr:  7e-09\n",
      "epochs: 194, loss: 23.772429, lr:  7e-09\n",
      "epochs: 195, loss: 23.772429, lr:  7e-09\n",
      "epochs: 196, loss: 23.772429, lr:  7e-09\n",
      "epochs: 197, loss: 23.772429, lr:  7e-09\n",
      "epochs: 198, loss: 23.772429, lr:  7e-09\n",
      "epochs: 199, loss: 23.772429, lr:  7e-09\n",
      "epochs: 200, loss: 23.772429, lr:  7e-09\n",
      "epochs: 201, loss: 23.772429, lr:  7e-09\n",
      "epochs: 202, loss: 23.772429, lr:  7e-09\n",
      "epochs: 203, loss: 23.772429, lr:  7e-09\n",
      "epochs: 204, loss: 23.772429, lr:  7e-09\n",
      "epochs: 205, loss: 23.772429, lr:  7e-09\n",
      "epochs: 206, loss: 23.772429, lr:  7e-09\n",
      "epochs: 207, loss: 23.772429, lr:  7e-09\n",
      "epochs: 208, loss: 23.772429, lr:  7e-09\n",
      "epochs: 209, loss: 23.772429, lr:  7e-09\n",
      "epochs: 210, loss: 23.772429, lr:  2e-09\n",
      "epochs: 211, loss: 23.772429, lr:  2e-09\n",
      "epochs: 212, loss: 23.772429, lr:  2e-09\n",
      "epochs: 213, loss: 23.772429, lr:  2e-09\n",
      "epochs: 214, loss: 23.772429, lr:  2e-09\n",
      "epochs: 215, loss: 23.772429, lr:  2e-09\n",
      "epochs: 216, loss: 23.772429, lr:  2e-09\n"
     ]
    },
    {
     "ename": "KeyboardInterrupt",
     "evalue": "",
     "output_type": "error",
     "traceback": [
      "\u001b[1;31m---------------------------------------------------------------------------\u001b[0m",
      "\u001b[1;31mKeyboardInterrupt\u001b[0m                         Traceback (most recent call last)",
      "Cell \u001b[1;32mIn[34], line 20\u001b[0m\n\u001b[0;32m     18\u001b[0m loss \u001b[38;5;241m=\u001b[39m loss_fn(output\u001b[38;5;241m.\u001b[39msqueeze()\u001b[38;5;241m.\u001b[39mfloat(), labels\u001b[38;5;241m.\u001b[39mfloat())\n\u001b[0;32m     19\u001b[0m \u001b[38;5;66;03m# print(loss)\u001b[39;00m\n\u001b[1;32m---> 20\u001b[0m \u001b[43mloss\u001b[49m\u001b[38;5;241;43m.\u001b[39;49m\u001b[43mbackward\u001b[49m\u001b[43m(\u001b[49m\u001b[43m)\u001b[49m\n\u001b[0;32m     21\u001b[0m \u001b[38;5;66;03m# torch.nn.utils.clip_grad_norm(model.parameters(), 0.5)  # when using scheduler, it is not for grad exploding\u001b[39;00m\n\u001b[0;32m     22\u001b[0m optimizer\u001b[38;5;241m.\u001b[39mstep()\n",
      "File \u001b[1;32mc:\\Users\\alan.kwak\\AppData\\Local\\Programs\\Python\\Python311\\Lib\\site-packages\\torch\\_tensor.py:522\u001b[0m, in \u001b[0;36mTensor.backward\u001b[1;34m(self, gradient, retain_graph, create_graph, inputs)\u001b[0m\n\u001b[0;32m    512\u001b[0m \u001b[38;5;28;01mif\u001b[39;00m has_torch_function_unary(\u001b[38;5;28mself\u001b[39m):\n\u001b[0;32m    513\u001b[0m     \u001b[38;5;28;01mreturn\u001b[39;00m handle_torch_function(\n\u001b[0;32m    514\u001b[0m         Tensor\u001b[38;5;241m.\u001b[39mbackward,\n\u001b[0;32m    515\u001b[0m         (\u001b[38;5;28mself\u001b[39m,),\n\u001b[1;32m   (...)\u001b[0m\n\u001b[0;32m    520\u001b[0m         inputs\u001b[38;5;241m=\u001b[39minputs,\n\u001b[0;32m    521\u001b[0m     )\n\u001b[1;32m--> 522\u001b[0m \u001b[43mtorch\u001b[49m\u001b[38;5;241;43m.\u001b[39;49m\u001b[43mautograd\u001b[49m\u001b[38;5;241;43m.\u001b[39;49m\u001b[43mbackward\u001b[49m\u001b[43m(\u001b[49m\n\u001b[0;32m    523\u001b[0m \u001b[43m    \u001b[49m\u001b[38;5;28;43mself\u001b[39;49m\u001b[43m,\u001b[49m\u001b[43m \u001b[49m\u001b[43mgradient\u001b[49m\u001b[43m,\u001b[49m\u001b[43m \u001b[49m\u001b[43mretain_graph\u001b[49m\u001b[43m,\u001b[49m\u001b[43m \u001b[49m\u001b[43mcreate_graph\u001b[49m\u001b[43m,\u001b[49m\u001b[43m \u001b[49m\u001b[43minputs\u001b[49m\u001b[38;5;241;43m=\u001b[39;49m\u001b[43minputs\u001b[49m\n\u001b[0;32m    524\u001b[0m \u001b[43m\u001b[49m\u001b[43m)\u001b[49m\n",
      "File \u001b[1;32mc:\\Users\\alan.kwak\\AppData\\Local\\Programs\\Python\\Python311\\Lib\\site-packages\\torch\\autograd\\__init__.py:266\u001b[0m, in \u001b[0;36mbackward\u001b[1;34m(tensors, grad_tensors, retain_graph, create_graph, grad_variables, inputs)\u001b[0m\n\u001b[0;32m    261\u001b[0m     retain_graph \u001b[38;5;241m=\u001b[39m create_graph\n\u001b[0;32m    263\u001b[0m \u001b[38;5;66;03m# The reason we repeat the same comment below is that\u001b[39;00m\n\u001b[0;32m    264\u001b[0m \u001b[38;5;66;03m# some Python versions print out the first line of a multi-line function\u001b[39;00m\n\u001b[0;32m    265\u001b[0m \u001b[38;5;66;03m# calls in the traceback and some print out the last line\u001b[39;00m\n\u001b[1;32m--> 266\u001b[0m \u001b[43mVariable\u001b[49m\u001b[38;5;241;43m.\u001b[39;49m\u001b[43m_execution_engine\u001b[49m\u001b[38;5;241;43m.\u001b[39;49m\u001b[43mrun_backward\u001b[49m\u001b[43m(\u001b[49m\u001b[43m  \u001b[49m\u001b[38;5;66;43;03m# Calls into the C++ engine to run the backward pass\u001b[39;49;00m\n\u001b[0;32m    267\u001b[0m \u001b[43m    \u001b[49m\u001b[43mtensors\u001b[49m\u001b[43m,\u001b[49m\n\u001b[0;32m    268\u001b[0m \u001b[43m    \u001b[49m\u001b[43mgrad_tensors_\u001b[49m\u001b[43m,\u001b[49m\n\u001b[0;32m    269\u001b[0m \u001b[43m    \u001b[49m\u001b[43mretain_graph\u001b[49m\u001b[43m,\u001b[49m\n\u001b[0;32m    270\u001b[0m \u001b[43m    \u001b[49m\u001b[43mcreate_graph\u001b[49m\u001b[43m,\u001b[49m\n\u001b[0;32m    271\u001b[0m \u001b[43m    \u001b[49m\u001b[43minputs\u001b[49m\u001b[43m,\u001b[49m\n\u001b[0;32m    272\u001b[0m \u001b[43m    \u001b[49m\u001b[43mallow_unreachable\u001b[49m\u001b[38;5;241;43m=\u001b[39;49m\u001b[38;5;28;43;01mTrue\u001b[39;49;00m\u001b[43m,\u001b[49m\n\u001b[0;32m    273\u001b[0m \u001b[43m    \u001b[49m\u001b[43maccumulate_grad\u001b[49m\u001b[38;5;241;43m=\u001b[39;49m\u001b[38;5;28;43;01mTrue\u001b[39;49;00m\u001b[43m,\u001b[49m\n\u001b[0;32m    274\u001b[0m \u001b[43m\u001b[49m\u001b[43m)\u001b[49m\n",
      "\u001b[1;31mKeyboardInterrupt\u001b[0m: "
     ]
    }
   ],
   "source": [
    "epochs = 300\n",
    "loss_np = np.zeros((epochs, 2))\n",
    "df_loss = pd.DataFrame(loss_np, columns=['epoch', 'loss'])\n",
    "second_inputs = []\n",
    "second_outputs = []\n",
    "for i in range(epochs):\n",
    "    epoch_loss = 0\n",
    "    for inputs, labels in train_dataloader:\n",
    "        inputs = inputs.to(device).float()\n",
    "        labels = labels.squeeze(1).to(device)\n",
    "\n",
    "        optimizer.zero_grad()\n",
    "        output, hs = model1(inputs)\n",
    "        if i == (epochs-1):\n",
    "            second_inputs.append(hs.detach().cpu().numpy())\n",
    "            second_outputs.append(labels.detach().cpu().numpy())\n",
    "        # print(output, labels)\n",
    "        loss = loss_fn(output.squeeze().float(), labels.float())\n",
    "        # print(loss)\n",
    "        loss.backward()\n",
    "        # torch.nn.utils.clip_grad_norm(model.parameters(), 0.5)  # when using scheduler, it is not for grad exploding\n",
    "        optimizer.step()\n",
    "\n",
    "        epoch_loss += loss.item()\n",
    "    \n",
    "    print(f'epochs: {i}, loss: {epoch_loss:.6f}, lr: ', round(optimizer.param_groups[0]['lr'], 9))\n",
    "    if lr_sched == True:\n",
    "        scheduler.step()\n",
    "    df_loss.loc[i, :] = [i, epoch_loss]"
   ]
  },
  {
   "cell_type": "code",
   "execution_count": null,
   "metadata": {},
   "outputs": [
    {
     "name": "stdout",
     "output_type": "stream",
     "text": [
      "(98, 64, 64, 512)\n",
      "(98, 64)\n"
     ]
    }
   ],
   "source": [
    "second_inputs = np.array(second_inputs)\n",
    "second_outputs = np.array(second_outputs)\n",
    "print(second_inputs.shape)\n",
    "print(second_outputs.shape)\n"
   ]
  },
  {
   "cell_type": "code",
   "execution_count": null,
   "metadata": {},
   "outputs": [],
   "source": [
    "# save_path = 'fft_patch_tst_add_stack_kospi_only_1970_window_model1_modeld_' + str(model_d) + '_seqlen' + str(seq_len) + '_lstmlayaers' + str(lstm_layers) +'_layaers' + str(n_layers) + '_nhead' + str(n_head) + '.pt'\n",
    "\n",
    "# torch.save(model1.state_dict(), save_path)\n",
    "# print(save_path)"
   ]
  },
  {
   "cell_type": "code",
   "execution_count": null,
   "metadata": {},
   "outputs": [
    {
     "data": {
      "image/png": "[encoded data removed]",
      "text/plain": [
       "<Figure size 2000x500 with 1 Axes>"
      ]
     },
     "metadata": {},
     "output_type": "display_data"
    }
   ],
   "source": [
    "plt.figure(figsize=(20, 5))\n",
    "plt.plot(df_loss.loc[20: , 'epoch'], df_loss.loc[20: , 'loss'])\n",
    "plt.show()"
   ]
  },
  {
   "cell_type": "code",
   "execution_count": null,
   "metadata": {},
   "outputs": [
    {
     "name": "stdout",
     "output_type": "stream",
     "text": [
      "torch.Size([98, 64, 64, 512])\n",
      "torch.Size([98, 64])\n"
     ]
    }
   ],
   "source": [
    "train_dataloader2_x = torch.from_numpy(second_inputs)\n",
    "train_dataloader2_y = torch.from_numpy(second_outputs)\n",
    "\n",
    "print(train_dataloader2_x.size())\n",
    "print(train_dataloader2_y.size())"
   ]
  },
  {
   "cell_type": "code",
   "execution_count": null,
   "metadata": {},
   "outputs": [
    {
     "name": "stdout",
     "output_type": "stream",
     "text": [
      "<class 'int'> <class 'int'>\n",
      "<class 'int'> <class 'int'>\n"
     ]
    }
   ],
   "source": [
    "batch_size, seq_len, model_d = train_dataloader2_x.size()[1], train_dataloader2_x.size()[2], train_dataloader2_x.size()[3]\n",
    "stage = 'Second'\n",
    "in_d = model_d\n",
    "dropout = 0\n",
    "ffn_hidden = model_d * 2\n",
    "n_layers = 4\n",
    "n_head = 4\n",
    "lstm_hidden_size = model_d\n",
    "lstm_layers = 1\n",
    "lr_sched = True\n",
    "lr = 1e-6\n",
    "model2 = TransformerEncoder(in_d, seq_len, model_d, ffn_hidden, n_head, dropout, n_layers, lstm_hidden_size, lstm_layers, device, stage).to(device)\n",
    "loss_fn2 = nn.MSELoss()\n",
    "optimizer2 = torch.optim.Adam(params=model2.parameters(), lr = lr)\n",
    "if lr_sched == True:\n",
    "    # scheduler = torch.optim.lr_scheduler.LambdaLR(optimizer=optimizer,\n",
    "    #                                     lr_lambda=lambda epoch: 0.95 ** epoch,\n",
    "    #                                     last_epoch=-1,\n",
    "    #                                     verbose=False)\n",
    "    # scheduler = torch.optim.lr_scheduler.ExponentialLR(optimizer, gamma=0.95)\n",
    "    scheduler = torch.optim.lr_scheduler.StepLR(optimizer2, step_size=30, gamma=0.3)"
   ]
  },
  {
   "cell_type": "code",
   "execution_count": null,
   "metadata": {},
   "outputs": [
    {
     "name": "stdout",
     "output_type": "stream",
     "text": [
      "epochs: 0, loss: 23.772429, lr:  1e-06\n",
      "epochs: 1, loss: 23.772429, lr:  1e-06\n",
      "epochs: 2, loss: 23.772429, lr:  1e-06\n"
     ]
    },
    {
     "ename": "KeyboardInterrupt",
     "evalue": "",
     "output_type": "error",
     "traceback": [
      "\u001b[1;31m---------------------------------------------------------------------------\u001b[0m",
      "\u001b[1;31mKeyboardInterrupt\u001b[0m                         Traceback (most recent call last)",
      "Cell \u001b[1;32mIn[138], line 21\u001b[0m\n\u001b[0;32m     18\u001b[0m     \u001b[38;5;66;03m# torch.nn.utils.clip_grad_norm(model.parameters(), 0.5)  # when using scheduler, it is not for grad exploding\u001b[39;00m\n\u001b[0;32m     19\u001b[0m     optimizer2\u001b[38;5;241m.\u001b[39mstep()\n\u001b[1;32m---> 21\u001b[0m     epoch_loss \u001b[38;5;241m+\u001b[39m\u001b[38;5;241m=\u001b[39m \u001b[43mloss\u001b[49m\u001b[38;5;241;43m.\u001b[39;49m\u001b[43mitem\u001b[49m\u001b[43m(\u001b[49m\u001b[43m)\u001b[49m\n\u001b[0;32m     23\u001b[0m \u001b[38;5;28mprint\u001b[39m(\u001b[38;5;124mf\u001b[39m\u001b[38;5;124m'\u001b[39m\u001b[38;5;124mepochs: \u001b[39m\u001b[38;5;132;01m{\u001b[39;00mi\u001b[38;5;132;01m}\u001b[39;00m\u001b[38;5;124m, loss: \u001b[39m\u001b[38;5;132;01m{\u001b[39;00mepoch_loss\u001b[38;5;132;01m:\u001b[39;00m\u001b[38;5;124m.6f\u001b[39m\u001b[38;5;132;01m}\u001b[39;00m\u001b[38;5;124m, lr: \u001b[39m\u001b[38;5;124m'\u001b[39m, \u001b[38;5;28mround\u001b[39m(optimizer2\u001b[38;5;241m.\u001b[39mparam_groups[\u001b[38;5;241m0\u001b[39m][\u001b[38;5;124m'\u001b[39m\u001b[38;5;124mlr\u001b[39m\u001b[38;5;124m'\u001b[39m], \u001b[38;5;241m9\u001b[39m))\n\u001b[0;32m     24\u001b[0m \u001b[38;5;28;01mif\u001b[39;00m lr_sched \u001b[38;5;241m==\u001b[39m \u001b[38;5;28;01mTrue\u001b[39;00m:\n",
      "\u001b[1;31mKeyboardInterrupt\u001b[0m: "
     ]
    }
   ],
   "source": [
    "epochs = 300\n",
    "loss_np = np.zeros((epochs, 2))\n",
    "df_loss = pd.DataFrame(loss_np, columns=['epoch', 'loss'])\n",
    "second_inputs = []\n",
    "for i in range(epochs):\n",
    "    epoch_loss = 0\n",
    "    for (inputs, labels) in zip(train_dataloader2_x, train_dataloader2_y):\n",
    "        inputs = inputs.to(device).float()\n",
    "        labels = labels.to(device).float()\n",
    "\n",
    "        optimizer2.zero_grad()\n",
    "        output, hs = model2(inputs)\n",
    "\n",
    "        # print(output, labels)\n",
    "        loss = loss_fn2(output.squeeze().float(), labels)\n",
    "        # print(loss)\n",
    "        loss.backward()\n",
    "        # torch.nn.utils.clip_grad_norm(model.parameters(), 0.5)  # when using scheduler, it is not for grad exploding\n",
    "        optimizer2.step()\n",
    "\n",
    "        epoch_loss += loss.item()\n",
    "    \n",
    "    print(f'epochs: {i}, loss: {epoch_loss:.6f}, lr: ', round(optimizer2.param_groups[0]['lr'], 9))\n",
    "    if lr_sched == True:\n",
    "        scheduler.step()\n",
    "    df_loss.loc[i, :] = [i, epoch_loss]"
   ]
  },
  {
   "cell_type": "code",
   "execution_count": null,
   "metadata": {},
   "outputs": [
    {
     "name": "stdout",
     "output_type": "stream",
     "text": [
      "torch.Size([64, 64, 512])\n",
      "torch.Size([64, 64, 512])\n",
      "torch.Size([64, 64, 512])\n"
     ]
    }
   ],
   "source": [
    "test_result = pd.DataFrame(columns=['pred', 'pred_rescale', 'real'])\n",
    "num = 0\n",
    "min = scale_params.loc['min', 'Adj Close']\n",
    "max = scale_params.loc['max', 'Adj Close']\n",
    "with torch.no_grad():\n",
    "    for _, data in enumerate(test_dataloader):\n",
    "        inputs = data[0].to(device).float()\n",
    "        # outputs = data[1].to(device).float()\n",
    "        outputs = data[1]\n",
    "\n",
    "        pred1, hs = model1(inputs)\n",
    "        print(hs.size())\n",
    "        pred, hs2 = model2(hs)\n",
    "        for i in range(len(pred)):\n",
    "            pred_ = pred.detach().cpu().numpy()[i][0]\n",
    "            pred_scaled = pred_ * (max - min) + min\n",
    "            out_scaled = outputs.numpy()[i] * (max - min) + min\n",
    "            test_result.loc[num] = [pred_, pred_scaled, out_scaled[0]]\n",
    "            num += 1"
   ]
  },
  {
   "cell_type": "code",
   "execution_count": null,
   "metadata": {},
   "outputs": [
    {
     "data": {
      "text/html": [
       "<div>\n",
       "<style scoped>\n",
       "    .dataframe tbody tr th:only-of-type {\n",
       "        vertical-align: middle;\n",
       "    }\n",
       "\n",
       "    .dataframe tbody tr th {\n",
       "        vertical-align: top;\n",
       "    }\n",
       "\n",
       "    .dataframe thead th {\n",
       "        text-align: right;\n",
       "    }\n",
       "</style>\n",
       "<table border=\"1\" class=\"dataframe\">\n",
       "  <thead>\n",
       "    <tr style=\"text-align: right;\">\n",
       "      <th></th>\n",
       "      <th>pred</th>\n",
       "      <th>pred_rescale</th>\n",
       "      <th>real</th>\n",
       "    </tr>\n",
       "  </thead>\n",
       "  <tbody>\n",
       "    <tr>\n",
       "      <th>0</th>\n",
       "      <td>0.0</td>\n",
       "      <td>280.0</td>\n",
       "      <td>2591.260010</td>\n",
       "    </tr>\n",
       "    <tr>\n",
       "      <th>1</th>\n",
       "      <td>0.0</td>\n",
       "      <td>280.0</td>\n",
       "      <td>2570.870117</td>\n",
       "    </tr>\n",
       "    <tr>\n",
       "      <th>2</th>\n",
       "      <td>0.0</td>\n",
       "      <td>280.0</td>\n",
       "      <td>2525.639893</td>\n",
       "    </tr>\n",
       "    <tr>\n",
       "      <th>3</th>\n",
       "      <td>0.0</td>\n",
       "      <td>280.0</td>\n",
       "      <td>2519.850098</td>\n",
       "    </tr>\n",
       "    <tr>\n",
       "      <th>4</th>\n",
       "      <td>0.0</td>\n",
       "      <td>280.0</td>\n",
       "      <td>2504.500000</td>\n",
       "    </tr>\n",
       "    <tr>\n",
       "      <th>...</th>\n",
       "      <td>...</td>\n",
       "      <td>...</td>\n",
       "      <td>...</td>\n",
       "    </tr>\n",
       "    <tr>\n",
       "      <th>187</th>\n",
       "      <td>0.0</td>\n",
       "      <td>280.0</td>\n",
       "      <td>2723.459961</td>\n",
       "    </tr>\n",
       "    <tr>\n",
       "      <th>188</th>\n",
       "      <td>0.0</td>\n",
       "      <td>280.0</td>\n",
       "      <td>2721.810059</td>\n",
       "    </tr>\n",
       "    <tr>\n",
       "      <th>189</th>\n",
       "      <td>0.0</td>\n",
       "      <td>280.0</td>\n",
       "      <td>2687.600098</td>\n",
       "    </tr>\n",
       "    <tr>\n",
       "      <th>190</th>\n",
       "      <td>0.0</td>\n",
       "      <td>280.0</td>\n",
       "      <td>2722.989990</td>\n",
       "    </tr>\n",
       "    <tr>\n",
       "      <th>191</th>\n",
       "      <td>0.0</td>\n",
       "      <td>280.0</td>\n",
       "      <td>2722.850098</td>\n",
       "    </tr>\n",
       "  </tbody>\n",
       "</table>\n",
       "<p>192 rows × 3 columns</p>\n",
       "</div>"
      ],
      "text/plain": [
       "     pred  pred_rescale         real\n",
       "0     0.0         280.0  2591.260010\n",
       "1     0.0         280.0  2570.870117\n",
       "2     0.0         280.0  2525.639893\n",
       "3     0.0         280.0  2519.850098\n",
       "4     0.0         280.0  2504.500000\n",
       "..    ...           ...          ...\n",
       "187   0.0         280.0  2723.459961\n",
       "188   0.0         280.0  2721.810059\n",
       "189   0.0         280.0  2687.600098\n",
       "190   0.0         280.0  2722.989990\n",
       "191   0.0         280.0  2722.850098\n",
       "\n",
       "[192 rows x 3 columns]"
      ]
     },
     "execution_count": 126,
     "metadata": {},
     "output_type": "execute_result"
    }
   ],
   "source": [
    "test_result"
   ]
  },
  {
   "cell_type": "code",
   "execution_count": null,
   "metadata": {},
   "outputs": [],
   "source": [
    "# test_result.to_csv('./test_result_ffn_2048_lstm_1024_model_512_lstmlayers_2.csv')"
   ]
  },
  {
   "cell_type": "code",
   "execution_count": null,
   "metadata": {},
   "outputs": [
    {
     "data": {
      "image/png": "[encoded data removed]",
      "text/plain": [
       "<Figure size 2000x500 with 1 Axes>"
      ]
     },
     "metadata": {},
     "output_type": "display_data"
    }
   ],
   "source": [
    "plt.figure(figsize=(20, 5))\n",
    "# plt.plot(idx_num, test_result['pred'], label='pred')\n",
    "# plt.plot(range(len(test_result)), test_result['pred_rescale'], label='pred')\n",
    "plt.scatter(range(len(test_result)), test_result['pred_rescale'], label='pred')\n",
    "plt.plot(range(len(test_result)), test_result['real'], 'g--', label='real')\n",
    "plt.legend()\n",
    "plt.show()"
   ]
  },
  {
   "cell_type": "code",
   "execution_count": null,
   "metadata": {},
   "outputs": [
    {
     "data": {
      "image/png": "[encoded data removed]",
      "text/plain": [
       "<Figure size 2000x500 with 1 Axes>"
      ]
     },
     "metadata": {},
     "output_type": "display_data"
    }
   ],
   "source": [
    "plt.figure(figsize=(20, 5))\n",
    "# plt.plot(idx_num, test_result['pred'], label='pred')\n",
    "plt.scatter(range(20), test_result.iloc[-20: , 1], label='pred')\n",
    "plt.plot(range(20), test_result.iloc[-20: , 2], 'g--', label='real')\n",
    "# plt.scatter(range(len(test_result)), test_result['pred'], label='pred')\n",
    "# plt.plot(range(len(test_result)), test_result['real'], 'g--', label='real')\n",
    "plt.legend()\n",
    "plt.show()"
   ]
  },
  {
   "cell_type": "code",
   "execution_count": null,
   "metadata": {},
   "outputs": [
    {
     "data": {
      "image/png": "[encoded data removed]",
      "text/plain": [
       "<Figure size 2000x500 with 1 Axes>"
      ]
     },
     "metadata": {},
     "output_type": "display_data"
    }
   ],
   "source": [
    "plt.figure(figsize=(20, 5))\n",
    "# plt.plot(idx_num, test_result['pred'], label='pred')\n",
    "plt.scatter(range(20), test_result.iloc[-50:-30 , 1], label='pred')\n",
    "plt.plot(range(20), test_result.iloc[-50:-30 , 2], 'g--', label='real')\n",
    "# plt.scatter(range(len(test_result)), test_result['pred'], label='pred')\n",
    "# plt.plot(range(len(test_result)), test_result['real'], 'g--', label='real')\n",
    "plt.legend()\n",
    "plt.show()"
   ]
  },
  {
   "cell_type": "code",
   "execution_count": null,
   "metadata": {},
   "outputs": [
    {
     "data": {
      "text/html": [
       "<div>\n",
       "<style scoped>\n",
       "    .dataframe tbody tr th:only-of-type {\n",
       "        vertical-align: middle;\n",
       "    }\n",
       "\n",
       "    .dataframe tbody tr th {\n",
       "        vertical-align: top;\n",
       "    }\n",
       "\n",
       "    .dataframe thead th {\n",
       "        text-align: right;\n",
       "    }\n",
       "</style>\n",
       "<table border=\"1\" class=\"dataframe\">\n",
       "  <thead>\n",
       "    <tr style=\"text-align: right;\">\n",
       "      <th></th>\n",
       "      <th>pred</th>\n",
       "      <th>pred_rescale</th>\n",
       "      <th>real</th>\n",
       "      <th>sma_pred_5d</th>\n",
       "      <th>sma_pred_10d</th>\n",
       "      <th>sma_pred_20d</th>\n",
       "      <th>sma_real_5d</th>\n",
       "      <th>sma_real_10d</th>\n",
       "      <th>sma_real_20d</th>\n",
       "      <th>ewm_pred_5d</th>\n",
       "      <th>ewm_pred_10d</th>\n",
       "      <th>ewm_pred_20d</th>\n",
       "      <th>ewm_real_5d</th>\n",
       "      <th>ewm_real_10d</th>\n",
       "      <th>ewm_real_20d</th>\n",
       "    </tr>\n",
       "  </thead>\n",
       "  <tbody>\n",
       "    <tr>\n",
       "      <th>19</th>\n",
       "      <td>0.0</td>\n",
       "      <td>280.0</td>\n",
       "      <td>2547.679932</td>\n",
       "      <td>280.0</td>\n",
       "      <td>280.0</td>\n",
       "      <td>280.0</td>\n",
       "      <td>2565.202002</td>\n",
       "      <td>2560.277979</td>\n",
       "      <td>2545.087988</td>\n",
       "      <td>280.0</td>\n",
       "      <td>280.0</td>\n",
       "      <td>280.0</td>\n",
       "      <td>2554.978804</td>\n",
       "      <td>2550.852041</td>\n",
       "      <td>2547.991777</td>\n",
       "    </tr>\n",
       "    <tr>\n",
       "      <th>20</th>\n",
       "      <td>0.0</td>\n",
       "      <td>280.0</td>\n",
       "      <td>2556.879883</td>\n",
       "      <td>280.0</td>\n",
       "      <td>280.0</td>\n",
       "      <td>280.0</td>\n",
       "      <td>2559.667969</td>\n",
       "      <td>2561.624976</td>\n",
       "      <td>2543.368982</td>\n",
       "      <td>280.0</td>\n",
       "      <td>280.0</td>\n",
       "      <td>280.0</td>\n",
       "      <td>2555.302691</td>\n",
       "      <td>2551.485646</td>\n",
       "      <td>2548.652003</td>\n",
       "    </tr>\n",
       "    <tr>\n",
       "      <th>21</th>\n",
       "      <td>0.0</td>\n",
       "      <td>280.0</td>\n",
       "      <td>2536.580078</td>\n",
       "      <td>280.0</td>\n",
       "      <td>280.0</td>\n",
       "      <td>280.0</td>\n",
       "      <td>2550.547998</td>\n",
       "      <td>2560.066992</td>\n",
       "      <td>2541.654480</td>\n",
       "      <td>280.0</td>\n",
       "      <td>280.0</td>\n",
       "      <td>280.0</td>\n",
       "      <td>2552.124689</td>\n",
       "      <td>2549.940818</td>\n",
       "      <td>2547.778565</td>\n",
       "    </tr>\n",
       "    <tr>\n",
       "      <th>22</th>\n",
       "      <td>0.0</td>\n",
       "      <td>280.0</td>\n",
       "      <td>2534.699951</td>\n",
       "      <td>280.0</td>\n",
       "      <td>280.0</td>\n",
       "      <td>280.0</td>\n",
       "      <td>2544.819971</td>\n",
       "      <td>2557.414990</td>\n",
       "      <td>2542.107483</td>\n",
       "      <td>280.0</td>\n",
       "      <td>280.0</td>\n",
       "      <td>280.0</td>\n",
       "      <td>2549.176057</td>\n",
       "      <td>2548.381098</td>\n",
       "      <td>2546.855130</td>\n",
       "    </tr>\n",
       "    <tr>\n",
       "      <th>23</th>\n",
       "      <td>0.0</td>\n",
       "      <td>280.0</td>\n",
       "      <td>2572.889893</td>\n",
       "      <td>280.0</td>\n",
       "      <td>280.0</td>\n",
       "      <td>280.0</td>\n",
       "      <td>2549.745947</td>\n",
       "      <td>2559.076978</td>\n",
       "      <td>2544.759473</td>\n",
       "      <td>280.0</td>\n",
       "      <td>280.0</td>\n",
       "      <td>280.0</td>\n",
       "      <td>2553.178713</td>\n",
       "      <td>2550.860938</td>\n",
       "      <td>2548.652046</td>\n",
       "    </tr>\n",
       "    <tr>\n",
       "      <th>...</th>\n",
       "      <td>...</td>\n",
       "      <td>...</td>\n",
       "      <td>...</td>\n",
       "      <td>...</td>\n",
       "      <td>...</td>\n",
       "      <td>...</td>\n",
       "      <td>...</td>\n",
       "      <td>...</td>\n",
       "      <td>...</td>\n",
       "      <td>...</td>\n",
       "      <td>...</td>\n",
       "      <td>...</td>\n",
       "      <td>...</td>\n",
       "      <td>...</td>\n",
       "      <td>...</td>\n",
       "    </tr>\n",
       "    <tr>\n",
       "      <th>187</th>\n",
       "      <td>0.0</td>\n",
       "      <td>280.0</td>\n",
       "      <td>2723.459961</td>\n",
       "      <td>280.0</td>\n",
       "      <td>280.0</td>\n",
       "      <td>280.0</td>\n",
       "      <td>2733.479980</td>\n",
       "      <td>2730.976978</td>\n",
       "      <td>2699.853491</td>\n",
       "      <td>280.0</td>\n",
       "      <td>280.0</td>\n",
       "      <td>280.0</td>\n",
       "      <td>2722.007220</td>\n",
       "      <td>2709.457601</td>\n",
       "      <td>2693.483271</td>\n",
       "    </tr>\n",
       "    <tr>\n",
       "      <th>188</th>\n",
       "      <td>0.0</td>\n",
       "      <td>280.0</td>\n",
       "      <td>2721.810059</td>\n",
       "      <td>280.0</td>\n",
       "      <td>280.0</td>\n",
       "      <td>280.0</td>\n",
       "      <td>2727.241992</td>\n",
       "      <td>2728.652979</td>\n",
       "      <td>2704.471997</td>\n",
       "      <td>280.0</td>\n",
       "      <td>280.0</td>\n",
       "      <td>280.0</td>\n",
       "      <td>2721.974360</td>\n",
       "      <td>2710.580551</td>\n",
       "      <td>2694.832299</td>\n",
       "    </tr>\n",
       "    <tr>\n",
       "      <th>189</th>\n",
       "      <td>0.0</td>\n",
       "      <td>280.0</td>\n",
       "      <td>2687.600098</td>\n",
       "      <td>280.0</td>\n",
       "      <td>280.0</td>\n",
       "      <td>280.0</td>\n",
       "      <td>2719.837988</td>\n",
       "      <td>2726.198999</td>\n",
       "      <td>2707.701001</td>\n",
       "      <td>280.0</td>\n",
       "      <td>280.0</td>\n",
       "      <td>280.0</td>\n",
       "      <td>2716.245316</td>\n",
       "      <td>2708.491419</td>\n",
       "      <td>2694.487876</td>\n",
       "    </tr>\n",
       "    <tr>\n",
       "      <th>190</th>\n",
       "      <td>0.0</td>\n",
       "      <td>280.0</td>\n",
       "      <td>2722.989990</td>\n",
       "      <td>280.0</td>\n",
       "      <td>280.0</td>\n",
       "      <td>280.0</td>\n",
       "      <td>2716.008008</td>\n",
       "      <td>2725.735010</td>\n",
       "      <td>2710.063000</td>\n",
       "      <td>280.0</td>\n",
       "      <td>280.0</td>\n",
       "      <td>280.0</td>\n",
       "      <td>2717.369429</td>\n",
       "      <td>2709.809471</td>\n",
       "      <td>2695.845241</td>\n",
       "    </tr>\n",
       "    <tr>\n",
       "      <th>191</th>\n",
       "      <td>0.0</td>\n",
       "      <td>280.0</td>\n",
       "      <td>2722.850098</td>\n",
       "      <td>280.0</td>\n",
       "      <td>280.0</td>\n",
       "      <td>280.0</td>\n",
       "      <td>2715.742041</td>\n",
       "      <td>2725.299023</td>\n",
       "      <td>2714.774500</td>\n",
       "      <td>280.0</td>\n",
       "      <td>280.0</td>\n",
       "      <td>280.0</td>\n",
       "      <td>2718.282873</td>\n",
       "      <td>2710.994983</td>\n",
       "      <td>2697.131297</td>\n",
       "    </tr>\n",
       "  </tbody>\n",
       "</table>\n",
       "<p>173 rows × 15 columns</p>\n",
       "</div>"
      ],
      "text/plain": [
       "     pred  pred_rescale         real  sma_pred_5d  sma_pred_10d  sma_pred_20d  \\\n",
       "19    0.0         280.0  2547.679932        280.0         280.0         280.0   \n",
       "20    0.0         280.0  2556.879883        280.0         280.0         280.0   \n",
       "21    0.0         280.0  2536.580078        280.0         280.0         280.0   \n",
       "22    0.0         280.0  2534.699951        280.0         280.0         280.0   \n",
       "23    0.0         280.0  2572.889893        280.0         280.0         280.0   \n",
       "..    ...           ...          ...          ...           ...           ...   \n",
       "187   0.0         280.0  2723.459961        280.0         280.0         280.0   \n",
       "188   0.0         280.0  2721.810059        280.0         280.0         280.0   \n",
       "189   0.0         280.0  2687.600098        280.0         280.0         280.0   \n",
       "190   0.0         280.0  2722.989990        280.0         280.0         280.0   \n",
       "191   0.0         280.0  2722.850098        280.0         280.0         280.0   \n",
       "\n",
       "     sma_real_5d  sma_real_10d  sma_real_20d  ewm_pred_5d  ewm_pred_10d  \\\n",
       "19   2565.202002   2560.277979   2545.087988        280.0         280.0   \n",
       "20   2559.667969   2561.624976   2543.368982        280.0         280.0   \n",
       "21   2550.547998   2560.066992   2541.654480        280.0         280.0   \n",
       "22   2544.819971   2557.414990   2542.107483        280.0         280.0   \n",
       "23   2549.745947   2559.076978   2544.759473        280.0         280.0   \n",
       "..           ...           ...           ...          ...           ...   \n",
       "187  2733.479980   2730.976978   2699.853491        280.0         280.0   \n",
       "188  2727.241992   2728.652979   2704.471997        280.0         280.0   \n",
       "189  2719.837988   2726.198999   2707.701001        280.0         280.0   \n",
       "190  2716.008008   2725.735010   2710.063000        280.0         280.0   \n",
       "191  2715.742041   2725.299023   2714.774500        280.0         280.0   \n",
       "\n",
       "     ewm_pred_20d  ewm_real_5d  ewm_real_10d  ewm_real_20d  \n",
       "19          280.0  2554.978804   2550.852041   2547.991777  \n",
       "20          280.0  2555.302691   2551.485646   2548.652003  \n",
       "21          280.0  2552.124689   2549.940818   2547.778565  \n",
       "22          280.0  2549.176057   2548.381098   2546.855130  \n",
       "23          280.0  2553.178713   2550.860938   2548.652046  \n",
       "..            ...          ...           ...           ...  \n",
       "187         280.0  2722.007220   2709.457601   2693.483271  \n",
       "188         280.0  2721.974360   2710.580551   2694.832299  \n",
       "189         280.0  2716.245316   2708.491419   2694.487876  \n",
       "190         280.0  2717.369429   2709.809471   2695.845241  \n",
       "191         280.0  2718.282873   2710.994983   2697.131297  \n",
       "\n",
       "[173 rows x 15 columns]"
      ]
     },
     "execution_count": 131,
     "metadata": {},
     "output_type": "execute_result"
    }
   ],
   "source": [
    "df_ma = test_result.copy()\n",
    "df_ma['sma_pred_5d'] = df_ma['pred_rescale'].rolling(5).mean()\n",
    "df_ma['sma_pred_10d'] = df_ma['pred_rescale'].rolling(10).mean()\n",
    "df_ma['sma_pred_20d'] = df_ma['pred_rescale'].ewm(20).mean()\n",
    "df_ma['sma_real_5d'] = df_ma['real'].rolling(5).mean()\n",
    "df_ma['sma_real_10d'] = df_ma['real'].rolling(10).mean()\n",
    "df_ma['sma_real_20d'] = df_ma['real'].rolling(20).mean()\n",
    "df_ma['ewm_pred_5d'] = df_ma['pred_rescale'].ewm(5).mean()\n",
    "df_ma['ewm_pred_10d'] = df_ma['pred_rescale'].ewm(10).mean()\n",
    "df_ma['ewm_pred_20d'] = df_ma['pred_rescale'].ewm(20).mean()\n",
    "df_ma['ewm_real_5d'] = df_ma['real'].ewm(5).mean()\n",
    "df_ma['ewm_real_10d'] = df_ma['real'].ewm(10).mean()\n",
    "df_ma['ewm_real_20d'] = df_ma['real'].ewm(20).mean()\n",
    "df_ma = df_ma.dropna()\n",
    "df_ma"
   ]
  },
  {
   "cell_type": "code",
   "execution_count": null,
   "metadata": {},
   "outputs": [
    {
     "data": {
      "image/png": "[encoded data removed]",
      "text/plain": [
       "<Figure size 2000x500 with 1 Axes>"
      ]
     },
     "metadata": {},
     "output_type": "display_data"
    }
   ],
   "source": [
    "plt.figure(figsize=(20, 5))\n",
    "plt.plot(range(len(df_ma)), df_ma['sma_pred_5d'], 'r-', label='sma_pred_5d')\n",
    "plt.plot(range(len(df_ma)), df_ma['sma_pred_10d'], 'g-', label='sma_pred_10d')\n",
    "plt.plot(range(len(df_ma)), df_ma['sma_pred_20d'], 'b-', label='sma_pred_20d')\n",
    "plt.plot(range(len(df_ma)), df_ma['sma_real_5d'], 'r--', label='sma_real_5d')\n",
    "plt.plot(range(len(df_ma)), df_ma['sma_real_10d'], 'g--', label='sma_real_10d')\n",
    "plt.plot(range(len(df_ma)), df_ma['sma_real_20d'], 'b--', label='sma_real_20d')\n",
    "plt.plot(range(len(df_ma)), df_ma['real'], 'k-.', label='real')\n",
    "plt.legend()\n",
    "plt.show()"
   ]
  },
  {
   "cell_type": "code",
   "execution_count": null,
   "metadata": {},
   "outputs": [
    {
     "data": {
      "image/png": "[encoded data removed]",
      "text/plain": [
       "<Figure size 2000x500 with 1 Axes>"
      ]
     },
     "metadata": {},
     "output_type": "display_data"
    }
   ],
   "source": [
    "plt.figure(figsize=(20, 5))\n",
    "plt.plot(range(len(df_ma)), df_ma['sma_pred_5d'], 'r-', label='sma_pred_5d')\n",
    "plt.plot(range(len(df_ma)), df_ma['sma_pred_10d'], 'g-', label='sma_pred_10d')\n",
    "plt.plot(range(len(df_ma)), df_ma['sma_pred_20d'], 'b-', label='sma_pred_20d')\n",
    "# plt.plot(range(len(df_ma)), df_ma['sma_real_5d'], 'r--', label='sma_real_5d')\n",
    "# plt.plot(range(len(df_ma)), df_ma['sma_real_10d'], 'g--', label='sma_real_10d')\n",
    "# plt.plot(range(len(df_ma)), df_ma['sma_real_20d'], 'b--', label='sma_real_20d')\n",
    "plt.plot(range(len(df_ma)), df_ma['real'], 'k-.', label='real')\n",
    "plt.legend()\n",
    "plt.show()"
   ]
  },
  {
   "cell_type": "code",
   "execution_count": null,
   "metadata": {},
   "outputs": [
    {
     "data": {
      "image/png": "[encoded data removed]",
      "text/plain": [
       "<Figure size 2000x500 with 1 Axes>"
      ]
     },
     "metadata": {},
     "output_type": "display_data"
    }
   ],
   "source": [
    "plt.figure(figsize=(20, 5))\n",
    "plt.plot(range(len(df_ma)), df_ma['ewm_pred_5d'], 'r-', label='ewm_pred_5d')\n",
    "plt.plot(range(len(df_ma)), df_ma['ewm_pred_10d'], 'g-', label='ewm_pred_10d')\n",
    "plt.plot(range(len(df_ma)), df_ma['ewm_pred_20d'], 'b-', label='ewm_pred_20d')\n",
    "plt.plot(range(len(df_ma)), df_ma['ewm_real_5d'], 'r--', label='ewm_real_5d')\n",
    "plt.plot(range(len(df_ma)), df_ma['ewm_real_10d'], 'g--', label='ewm_real_10d')\n",
    "plt.plot(range(len(df_ma)), df_ma['ewm_real_20d'], 'b--', label='ewm_real_20d')\n",
    "plt.plot(range(len(df_ma)), df_ma['real'], 'k-.', label='real')\n",
    "plt.legend()\n",
    "plt.show()"
   ]
  },
  {
   "cell_type": "markdown",
   "metadata": {},
   "source": [
    "## 11. evaluation metrics\n",
    "MAPE, MSE"
   ]
  },
  {
   "cell_type": "code",
   "execution_count": null,
   "metadata": {},
   "outputs": [
    {
     "name": "stdout",
     "output_type": "stream",
     "text": [
      "MSE: 5263019.4686, MAPE: 0.8909\n"
     ]
    }
   ],
   "source": [
    "mse = mean_squared_error(test_result['real'], test_result['pred_rescale'])\n",
    "mape = mean_absolute_percentage_error(test_result['real'], test_result['pred_rescale'])\n",
    "print(f'MSE: {mse:.4f}, MAPE: {mape:.4f}')"
   ]
  }
 ],
 "metadata": {
  "kernelspec": {
   "display_name": "Python 3",
   "language": "python",
   "name": "python3"
  },
  "language_info": {
   "codemirror_mode": {
    "name": "ipython",
    "version": 3
   },
   "file_extension": ".py",
   "mimetype": "text/x-python",
   "name": "python",
   "nbconvert_exporter": "python",
   "pygments_lexer": "ipython3",
   "version": "3.11.8"
  }
 },
 "nbformat": 4,
 "nbformat_minor": 2
}
