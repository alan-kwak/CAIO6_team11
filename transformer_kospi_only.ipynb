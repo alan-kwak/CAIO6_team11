{
 "cells": [
  {
   "cell_type": "code",
   "execution_count": 26,
   "metadata": {},
   "outputs": [],
   "source": [
    "import torch\n",
    "import pandas as pd\n",
    "import numpy as np\n",
    "import math, copy, time\n",
    "import torch.nn as nn\n",
    "import matplotlib.pyplot as plt\n",
    "import torch.nn.functional as F\n",
    "from torch.utils.data import DataLoader, Dataset \n",
    "import tqdm\n"
   ]
  },
  {
   "cell_type": "code",
   "execution_count": 27,
   "metadata": {},
   "outputs": [
    {
     "data": {
      "text/html": [
       "<div>\n",
       "<style scoped>\n",
       "    .dataframe tbody tr th:only-of-type {\n",
       "        vertical-align: middle;\n",
       "    }\n",
       "\n",
       "    .dataframe tbody tr th {\n",
       "        vertical-align: top;\n",
       "    }\n",
       "\n",
       "    .dataframe thead th {\n",
       "        text-align: right;\n",
       "    }\n",
       "</style>\n",
       "<table border=\"1\" class=\"dataframe\">\n",
       "  <thead>\n",
       "    <tr style=\"text-align: right;\">\n",
       "      <th></th>\n",
       "      <th>Date</th>\n",
       "      <th>S&amp;P</th>\n",
       "      <th>currency</th>\n",
       "      <th>gold</th>\n",
       "      <th>kospi</th>\n",
       "    </tr>\n",
       "  </thead>\n",
       "  <tbody>\n",
       "    <tr>\n",
       "      <th>5320</th>\n",
       "      <td>2024-04-22</td>\n",
       "      <td>5010.600098</td>\n",
       "      <td>1373.930054</td>\n",
       "      <td>2332.199951</td>\n",
       "      <td>2629.439941</td>\n",
       "    </tr>\n",
       "    <tr>\n",
       "      <th>5321</th>\n",
       "      <td>2024-04-23</td>\n",
       "      <td>5070.549805</td>\n",
       "      <td>1378.839966</td>\n",
       "      <td>2327.699951</td>\n",
       "      <td>2623.020020</td>\n",
       "    </tr>\n",
       "    <tr>\n",
       "      <th>5322</th>\n",
       "      <td>2024-04-24</td>\n",
       "      <td>5071.629883</td>\n",
       "      <td>1370.479980</td>\n",
       "      <td>2324.500000</td>\n",
       "      <td>2675.750000</td>\n",
       "    </tr>\n",
       "    <tr>\n",
       "      <th>5323</th>\n",
       "      <td>2024-04-25</td>\n",
       "      <td>5048.419922</td>\n",
       "      <td>1376.969971</td>\n",
       "      <td>2345.600098</td>\n",
       "      <td>2628.620117</td>\n",
       "    </tr>\n",
       "    <tr>\n",
       "      <th>5324</th>\n",
       "      <td>2024-04-26</td>\n",
       "      <td>5048.419922</td>\n",
       "      <td>1376.969971</td>\n",
       "      <td>2345.600098</td>\n",
       "      <td>2654.820068</td>\n",
       "    </tr>\n",
       "  </tbody>\n",
       "</table>\n",
       "</div>"
      ],
      "text/plain": [
       "            Date          S&P     currency         gold        kospi\n",
       "5320  2024-04-22  5010.600098  1373.930054  2332.199951  2629.439941\n",
       "5321  2024-04-23  5070.549805  1378.839966  2327.699951  2623.020020\n",
       "5322  2024-04-24  5071.629883  1370.479980  2324.500000  2675.750000\n",
       "5323  2024-04-25  5048.419922  1376.969971  2345.600098  2628.620117\n",
       "5324  2024-04-26  5048.419922  1376.969971  2345.600098  2654.820068"
      ]
     },
     "execution_count": 27,
     "metadata": {},
     "output_type": "execute_result"
    }
   ],
   "source": [
    "df = pd.read_csv('./total.csv')\n",
    "df.tail()"
   ]
  },
  {
   "cell_type": "code",
   "execution_count": 28,
   "metadata": {},
   "outputs": [
    {
     "name": "stdout",
     "output_type": "stream",
     "text": [
      "['Date' 'S&P' 'currency' 'gold' 'kospi']\n"
     ]
    }
   ],
   "source": [
    "col_names = df.columns.values\n",
    "print(col_names)"
   ]
  },
  {
   "cell_type": "code",
   "execution_count": 29,
   "metadata": {},
   "outputs": [],
   "source": [
    "# global variables and hyperparameter\n",
    "IN_DIM = 128\n",
    "DAY_INT = 1\n",
    "BATCH_SIZE = 64\n",
    "SCALER = 'MINMAX'   # 'NORMAL'\n",
    "# SCALER = 'NORMAL'   # 'NORMAL'\n",
    "TRAIN_TEST_SPLIT = 0.973\n",
    "LR = 1e-4"
   ]
  },
  {
   "cell_type": "code",
   "execution_count": 30,
   "metadata": {},
   "outputs": [
    {
     "data": {
      "text/html": [
       "<div>\n",
       "<style scoped>\n",
       "    .dataframe tbody tr th:only-of-type {\n",
       "        vertical-align: middle;\n",
       "    }\n",
       "\n",
       "    .dataframe tbody tr th {\n",
       "        vertical-align: top;\n",
       "    }\n",
       "\n",
       "    .dataframe thead th {\n",
       "        text-align: right;\n",
       "    }\n",
       "</style>\n",
       "<table border=\"1\" class=\"dataframe\">\n",
       "  <thead>\n",
       "    <tr style=\"text-align: right;\">\n",
       "      <th></th>\n",
       "      <th>S&amp;P</th>\n",
       "      <th>currency</th>\n",
       "      <th>gold</th>\n",
       "      <th>kospi</th>\n",
       "    </tr>\n",
       "  </thead>\n",
       "  <tbody>\n",
       "    <tr>\n",
       "      <th>mean</th>\n",
       "      <td>2.107460e+03</td>\n",
       "      <td>1124.367166</td>\n",
       "      <td>1226.672090</td>\n",
       "      <td>1921.365886</td>\n",
       "    </tr>\n",
       "    <tr>\n",
       "      <th>var</th>\n",
       "      <td>1.127514e+06</td>\n",
       "      <td>11700.397580</td>\n",
       "      <td>203706.852049</td>\n",
       "      <td>287896.130792</td>\n",
       "    </tr>\n",
       "    <tr>\n",
       "      <th>max</th>\n",
       "      <td>4.796560e+03</td>\n",
       "      <td>1571.400024</td>\n",
       "      <td>2051.500000</td>\n",
       "      <td>3305.209961</td>\n",
       "    </tr>\n",
       "    <tr>\n",
       "      <th>min</th>\n",
       "      <td>6.765300e+02</td>\n",
       "      <td>886.679993</td>\n",
       "      <td>374.799988</td>\n",
       "      <td>719.590027</td>\n",
       "    </tr>\n",
       "  </tbody>\n",
       "</table>\n",
       "</div>"
      ],
      "text/plain": [
       "               S&P      currency           gold          kospi\n",
       "mean  2.107460e+03   1124.367166    1226.672090    1921.365886\n",
       "var   1.127514e+06  11700.397580  203706.852049  287896.130792\n",
       "max   4.796560e+03   1571.400024    2051.500000    3305.209961\n",
       "min   6.765300e+02    886.679993     374.799988     719.590027"
      ]
     },
     "execution_count": 30,
     "metadata": {},
     "output_type": "execute_result"
    }
   ],
   "source": [
    "# train test split\n",
    "df_train = df.iloc[:int(len(df) * TRAIN_TEST_SPLIT), :].drop('Date', axis=1)\n",
    "df_test = df.iloc[int(len(df) * TRAIN_TEST_SPLIT): , :].drop('Date', axis=1)\n",
    "# print(df_train.tail())\n",
    "# print(df_test.head())\n",
    "scale_params = pd.DataFrame(index=['mean', 'var', 'max', 'min'])\n",
    "for i in col_names[1:]:\n",
    "    scale_params[i] = [df_train[i].mean(), df_train[i].var(), df_train[i].max(), df_train[i].min()]\n",
    "scale_params"
   ]
  },
  {
   "cell_type": "code",
   "execution_count": 31,
   "metadata": {},
   "outputs": [
    {
     "data": {
      "text/html": [
       "<div>\n",
       "<style scoped>\n",
       "    .dataframe tbody tr th:only-of-type {\n",
       "        vertical-align: middle;\n",
       "    }\n",
       "\n",
       "    .dataframe tbody tr th {\n",
       "        vertical-align: top;\n",
       "    }\n",
       "\n",
       "    .dataframe thead th {\n",
       "        text-align: right;\n",
       "    }\n",
       "</style>\n",
       "<table border=\"1\" class=\"dataframe\">\n",
       "  <thead>\n",
       "    <tr style=\"text-align: right;\">\n",
       "      <th></th>\n",
       "      <th>S&amp;P</th>\n",
       "      <th>currency</th>\n",
       "      <th>gold</th>\n",
       "      <th>kospi</th>\n",
       "    </tr>\n",
       "  </thead>\n",
       "  <tbody>\n",
       "    <tr>\n",
       "      <th>5320</th>\n",
       "      <td>1.051951</td>\n",
       "      <td>0.711605</td>\n",
       "      <td>1.167412</td>\n",
       "      <td>0.738643</td>\n",
       "    </tr>\n",
       "    <tr>\n",
       "      <th>5321</th>\n",
       "      <td>1.066502</td>\n",
       "      <td>0.718775</td>\n",
       "      <td>1.164728</td>\n",
       "      <td>0.736160</td>\n",
       "    </tr>\n",
       "    <tr>\n",
       "      <th>5322</th>\n",
       "      <td>1.066764</td>\n",
       "      <td>0.706566</td>\n",
       "      <td>1.162820</td>\n",
       "      <td>0.756554</td>\n",
       "    </tr>\n",
       "    <tr>\n",
       "      <th>5323</th>\n",
       "      <td>1.061131</td>\n",
       "      <td>0.716044</td>\n",
       "      <td>1.175404</td>\n",
       "      <td>0.738326</td>\n",
       "    </tr>\n",
       "    <tr>\n",
       "      <th>5324</th>\n",
       "      <td>1.061131</td>\n",
       "      <td>0.716044</td>\n",
       "      <td>1.175404</td>\n",
       "      <td>0.748459</td>\n",
       "    </tr>\n",
       "  </tbody>\n",
       "</table>\n",
       "</div>"
      ],
      "text/plain": [
       "           S&P  currency      gold     kospi\n",
       "5320  1.051951  0.711605  1.167412  0.738643\n",
       "5321  1.066502  0.718775  1.164728  0.736160\n",
       "5322  1.066764  0.706566  1.162820  0.756554\n",
       "5323  1.061131  0.716044  1.175404  0.738326\n",
       "5324  1.061131  0.716044  1.175404  0.748459"
      ]
     },
     "execution_count": 31,
     "metadata": {},
     "output_type": "execute_result"
    }
   ],
   "source": [
    "# scaling\n",
    "train_data = pd.DataFrame()\n",
    "test_data = pd.DataFrame()\n",
    "if SCALER == 'MINMAX':\n",
    "    for i in col_names[1:]:\n",
    "        train_data[i] = df_train[i].apply(lambda x: (x - scale_params.loc['min', i])/(scale_params.loc['max', i] - scale_params.loc['min', i]))\n",
    "        test_data[i] = df_test[i].apply(lambda x: (x - scale_params.loc['min', i])/(scale_params.loc['max', i] - scale_params.loc['min', i]))\n",
    "elif SCALER == 'NORMAL':\n",
    "    for i in col_names[1:]:\n",
    "        train_data[i] = df_train[i].apply(lambda x: (x - scale_params.loc['mean', i])/scale_params.loc['var', i])\n",
    "        test_data[i] = df_test[i].apply(lambda x: (x - scale_params.loc['mean', i])/scale_params.loc['var', i])\n",
    "test_data.tail()"
   ]
  },
  {
   "cell_type": "code",
   "execution_count": 32,
   "metadata": {},
   "outputs": [],
   "source": [
    "class windowDataset(Dataset):\n",
    "    def __init__(self, y, input_window=80, output_window=20, stride=5):\n",
    "        #총 데이터의 개수\n",
    "        L = y.shape[0]\n",
    "        #stride씩 움직일 때 생기는 총 sample의 개수\n",
    "        num_samples = (L - input_window - output_window) // stride + 1\n",
    "\n",
    "        #input과 output\n",
    "        X = np.zeros([input_window, num_samples])\n",
    "        Y = np.zeros([output_window, num_samples])\n",
    "\n",
    "        for i in np.arange(num_samples):\n",
    "            start_x = stride*i\n",
    "            end_x = start_x + input_window\n",
    "            X[:,i] = y[start_x:end_x]\n",
    "\n",
    "            start_y = stride*i + input_window\n",
    "            end_y = start_y + output_window\n",
    "            Y[:,i] = y[start_y:end_y]\n",
    "\n",
    "        X = X.reshape(X.shape[0], X.shape[1], 1).transpose((1,0,2))\n",
    "        Y = Y.reshape(Y.shape[0], Y.shape[1], 1).transpose((1,0,2))\n",
    "        self.x = X\n",
    "        self.y = Y\n",
    "        \n",
    "        self.len = len(X)\n",
    "    def __getitem__(self, i):\n",
    "        return self.x[i], self.y[i]\n",
    "    def __len__(self):\n",
    "        return self.len"
   ]
  },
  {
   "cell_type": "code",
   "execution_count": 33,
   "metadata": {},
   "outputs": [],
   "source": [
    "iw = 128\n",
    "ow = 1\n",
    "# ow = 10\n",
    "\n",
    "train_dataset = windowDataset(train_data['kospi'], input_window=iw, output_window=ow, stride=1)\n",
    "train_loader = DataLoader(train_dataset, batch_size=64, shuffle=True)\n",
    "test_dataset = windowDataset(test_data['kospi'], input_window=iw, output_window=ow, stride=1)\n",
    "test_loader = DataLoader(test_dataset, batch_size=64, shuffle=False)\n"
   ]
  },
  {
   "cell_type": "code",
   "execution_count": 34,
   "metadata": {},
   "outputs": [
    {
     "data": {
      "text/plain": [
       "5053"
      ]
     },
     "execution_count": 34,
     "metadata": {},
     "output_type": "execute_result"
    }
   ],
   "source": [
    "train_dataset.__len__()"
   ]
  },
  {
   "cell_type": "code",
   "execution_count": 35,
   "metadata": {},
   "outputs": [
    {
     "data": {
      "text/plain": [
       "16"
      ]
     },
     "execution_count": 35,
     "metadata": {},
     "output_type": "execute_result"
    }
   ],
   "source": [
    "test_dataset.__len__()"
   ]
  },
  {
   "cell_type": "code",
   "execution_count": 36,
   "metadata": {},
   "outputs": [
    {
     "data": {
      "text/plain": [
       "[tensor([[[0.1576],\n",
       "          [0.1522],\n",
       "          [0.1499],\n",
       "          ...,\n",
       "          [0.3325],\n",
       "          [0.3271],\n",
       "          [0.3268]],\n",
       " \n",
       "         [[0.4313],\n",
       "          [0.4423],\n",
       "          [0.4394],\n",
       "          ...,\n",
       "          [0.4858],\n",
       "          [0.4888],\n",
       "          [0.4940]],\n",
       " \n",
       "         [[0.4929],\n",
       "          [0.4967],\n",
       "          [0.4968],\n",
       "          ...,\n",
       "          [0.4775],\n",
       "          [0.4841],\n",
       "          [0.4858]],\n",
       " \n",
       "         ...,\n",
       " \n",
       "         [[0.4836],\n",
       "          [0.4900],\n",
       "          [0.4900],\n",
       "          ...,\n",
       "          [0.5368],\n",
       "          [0.5381],\n",
       "          [0.5396]],\n",
       " \n",
       "         [[0.2262],\n",
       "          [0.2204],\n",
       "          [0.2288],\n",
       "          ...,\n",
       "          [0.2521],\n",
       "          [0.2489],\n",
       "          [0.2518]],\n",
       " \n",
       "         [[0.8870],\n",
       "          [0.8989],\n",
       "          [0.9141],\n",
       "          ...,\n",
       "          [0.9168],\n",
       "          [0.9354],\n",
       "          [0.9387]]], dtype=torch.float64),\n",
       " tensor([[[0.3372]],\n",
       " \n",
       "         [[0.4958]],\n",
       " \n",
       "         [[0.4854]],\n",
       " \n",
       "         [[0.7304]],\n",
       " \n",
       "         [[0.7724]],\n",
       " \n",
       "         [[0.4949]],\n",
       " \n",
       "         [[0.5152]],\n",
       " \n",
       "         [[0.3406]],\n",
       " \n",
       "         [[0.6047]],\n",
       " \n",
       "         [[0.5370]],\n",
       " \n",
       "         [[0.4805]],\n",
       " \n",
       "         [[0.4724]],\n",
       " \n",
       "         [[0.1767]],\n",
       " \n",
       "         [[0.4511]],\n",
       " \n",
       "         [[0.6754]],\n",
       " \n",
       "         [[0.6670]],\n",
       " \n",
       "         [[0.4845]],\n",
       " \n",
       "         [[0.4964]],\n",
       " \n",
       "         [[0.9687]],\n",
       " \n",
       "         [[0.4799]],\n",
       " \n",
       "         [[0.8845]],\n",
       " \n",
       "         [[0.9525]],\n",
       " \n",
       "         [[0.0403]],\n",
       " \n",
       "         [[0.3350]],\n",
       " \n",
       "         [[0.4866]],\n",
       " \n",
       "         [[0.7445]],\n",
       " \n",
       "         [[0.4918]],\n",
       " \n",
       "         [[0.4669]],\n",
       " \n",
       "         [[0.5807]],\n",
       " \n",
       "         [[0.6837]],\n",
       " \n",
       "         [[0.4390]],\n",
       " \n",
       "         [[0.0546]],\n",
       " \n",
       "         [[0.5337]],\n",
       " \n",
       "         [[0.5141]],\n",
       " \n",
       "         [[0.0547]],\n",
       " \n",
       "         [[0.1709]],\n",
       " \n",
       "         [[0.5507]],\n",
       " \n",
       "         [[0.5213]],\n",
       " \n",
       "         [[0.2521]],\n",
       " \n",
       "         [[0.4754]],\n",
       " \n",
       "         [[0.4860]],\n",
       " \n",
       "         [[0.2381]],\n",
       " \n",
       "         [[0.4772]],\n",
       " \n",
       "         [[0.6693]],\n",
       " \n",
       "         [[0.4683]],\n",
       " \n",
       "         [[0.9489]],\n",
       " \n",
       "         [[0.0809]],\n",
       " \n",
       "         [[0.5460]],\n",
       " \n",
       "         [[0.6811]],\n",
       " \n",
       "         [[0.5098]],\n",
       " \n",
       "         [[0.2703]],\n",
       " \n",
       "         [[0.5007]],\n",
       " \n",
       "         [[0.5751]],\n",
       " \n",
       "         [[0.4677]],\n",
       " \n",
       "         [[0.3325]],\n",
       " \n",
       "         [[0.1733]],\n",
       " \n",
       "         [[0.5705]],\n",
       " \n",
       "         [[0.5133]],\n",
       " \n",
       "         [[0.4677]],\n",
       " \n",
       "         [[0.5028]],\n",
       " \n",
       "         [[0.3190]],\n",
       " \n",
       "         [[0.5348]],\n",
       " \n",
       "         [[0.2478]],\n",
       " \n",
       "         [[0.9317]]], dtype=torch.float64)]"
      ]
     },
     "execution_count": 36,
     "metadata": {},
     "output_type": "execute_result"
    }
   ],
   "source": [
    "next(iter(train_loader))"
   ]
  },
  {
   "cell_type": "code",
   "execution_count": 37,
   "metadata": {},
   "outputs": [],
   "source": [
    "class TFModel(nn.Module):\n",
    "    def __init__(self,iw, ow, d_model, nhead, nlayers, dropout=0.5):\n",
    "        super(TFModel, self).__init__()\n",
    "        self.encoder_layer = nn.TransformerEncoderLayer(d_model=d_model, nhead=nhead, dropout=dropout)\n",
    "        self.transformer_encoder = nn.TransformerEncoder(self.encoder_layer, num_layers=nlayers) \n",
    "        self.pos_encoder = PositionalEncoding(d_model, dropout)\n",
    "\n",
    "        self.encoder = nn.Sequential(\n",
    "            nn.Linear(1, d_model//2),\n",
    "            nn.ReLU(),\n",
    "            nn.Linear(d_model//2, d_model)\n",
    "        )\n",
    "        \n",
    "        self.linear =  nn.Sequential(\n",
    "            nn.Linear(d_model, d_model//2),\n",
    "            nn.ReLU(),\n",
    "            nn.Linear(d_model//2, 1)\n",
    "        )\n",
    "\n",
    "        self.linear2 = nn.Sequential(\n",
    "            nn.Linear(iw, (iw+ow)//2),\n",
    "            nn.ReLU(),\n",
    "            nn.Linear((iw+ow)//2, ow)\n",
    "        ) \n",
    "\n",
    "    def generate_square_subsequent_mask(self, sz):\n",
    "        mask = (torch.triu(torch.ones(sz, sz)) == 1).transpose(0, 1)\n",
    "        mask = mask.float().masked_fill(mask == 0, float('-inf')).masked_fill(mask == 1, float(0.0))\n",
    "        return mask\n",
    "\n",
    "    def forward(self, src, srcmask):\n",
    "        src = self.encoder(src)\n",
    "        src = self.pos_encoder(src)\n",
    "        output = self.transformer_encoder(src.transpose(0,1), srcmask).transpose(0,1)\n",
    "        output = self.linear(output)[:,:,0]\n",
    "        output = self.linear2(output)\n",
    "        return output\n",
    "\n",
    "class PositionalEncoding(nn.Module):\n",
    "    def __init__(self, d_model, dropout=0.1, max_len=5000):\n",
    "        super(PositionalEncoding, self).__init__()\n",
    "        self.dropout = nn.Dropout(p=dropout)\n",
    "\n",
    "        pe = torch.zeros(max_len, d_model)\n",
    "        position = torch.arange(0, max_len, dtype=torch.float).unsqueeze(1)\n",
    "        div_term = torch.exp(torch.arange(0, d_model, 2).float() * (-math.log(10000.0) / d_model))\n",
    "        pe[:, 0::2] = torch.sin(position * div_term)\n",
    "        pe[:, 1::2] = torch.cos(position * div_term)\n",
    "        pe = pe.unsqueeze(0).transpose(0, 1)\n",
    "        self.register_buffer('pe', pe)\n",
    "\n",
    "    def forward(self, x):\n",
    "        x = x + self.pe[:x.size(0), :]\n",
    "        return self.dropout(x)\n",
    "\n",
    "def gen_attention_mask(x):\n",
    "    mask = torch.eq(x, 0)\n",
    "    return mask"
   ]
  },
  {
   "cell_type": "code",
   "execution_count": 38,
   "metadata": {},
   "outputs": [
    {
     "name": "stderr",
     "output_type": "stream",
     "text": [
      "c:\\Users\\alan.kwak\\AppData\\Local\\Programs\\Python\\Python311\\Lib\\site-packages\\torch\\nn\\modules\\transformer.py:286: UserWarning: enable_nested_tensor is True, but self.use_nested_tensor is False because encoder_layer.self_attn.batch_first was not True(use batch_first for better inference performance)\n",
      "  warnings.warn(f\"enable_nested_tensor is True, but self.use_nested_tensor is False because {why_not_sparsity_fast_path}\")\n"
     ]
    }
   ],
   "source": [
    "device = torch.device(\"cuda\")\n",
    "lr = 1e-4\n",
    "nlayers = 12\n",
    "nhead = 8\n",
    "model = TFModel(iw, ow, 512, nhead, nlayers, 0.1).to(device) # iw, ow, d_model, nhead, nlayers, dropout\n",
    "criterion = nn.MSELoss()\n",
    "optimizer = torch.optim.Adam(model.parameters(), lr=lr)"
   ]
  },
  {
   "cell_type": "code",
   "execution_count": 39,
   "metadata": {},
   "outputs": [],
   "source": [
    "train_result = pd.DataFrame(columns=['epoch', 'loss'])"
   ]
  },
  {
   "cell_type": "code",
   "execution_count": 40,
   "metadata": {},
   "outputs": [
    {
     "name": "stderr",
     "output_type": "stream",
     "text": [
      "loss: 0.000132: 100%|██████████| 200/200 [2:16:50<00:00, 41.05s/it]  \n"
     ]
    }
   ],
   "source": [
    "epoch = 200\n",
    "model.train()\n",
    "progress = tqdm.tqdm(range(epoch))\n",
    "for i in progress:\n",
    "    batchloss = 0.0\n",
    "    for (inputs, outputs) in train_loader:\n",
    "        optimizer.zero_grad()\n",
    "        src_mask = model.generate_square_subsequent_mask(inputs.shape[1]).to(device)\n",
    "        result = model(inputs.float().to(device),  src_mask)\n",
    "        loss = criterion(result, outputs[:,:,0].float().to(device))\n",
    "        loss.backward()\n",
    "        optimizer.step()\n",
    "        batchloss += loss\n",
    "    progress.set_description(\"loss: {:0.6f}\".format(batchloss.cpu().item() / len(train_loader)))\n",
    "    train_result.loc[i] = [i, batchloss.cpu().item() / len(train_loader)]"
   ]
  },
  {
   "cell_type": "code",
   "execution_count": 41,
   "metadata": {},
   "outputs": [
    {
     "data": {
      "text/html": [
       "<div>\n",
       "<style scoped>\n",
       "    .dataframe tbody tr th:only-of-type {\n",
       "        vertical-align: middle;\n",
       "    }\n",
       "\n",
       "    .dataframe tbody tr th {\n",
       "        vertical-align: top;\n",
       "    }\n",
       "\n",
       "    .dataframe thead th {\n",
       "        text-align: right;\n",
       "    }\n",
       "</style>\n",
       "<table border=\"1\" class=\"dataframe\">\n",
       "  <thead>\n",
       "    <tr style=\"text-align: right;\">\n",
       "      <th></th>\n",
       "      <th>epoch</th>\n",
       "      <th>loss</th>\n",
       "    </tr>\n",
       "  </thead>\n",
       "  <tbody>\n",
       "    <tr>\n",
       "      <th>0</th>\n",
       "      <td>0.0</td>\n",
       "      <td>0.053054</td>\n",
       "    </tr>\n",
       "    <tr>\n",
       "      <th>1</th>\n",
       "      <td>1.0</td>\n",
       "      <td>0.040121</td>\n",
       "    </tr>\n",
       "    <tr>\n",
       "      <th>2</th>\n",
       "      <td>2.0</td>\n",
       "      <td>0.040373</td>\n",
       "    </tr>\n",
       "    <tr>\n",
       "      <th>3</th>\n",
       "      <td>3.0</td>\n",
       "      <td>0.016409</td>\n",
       "    </tr>\n",
       "    <tr>\n",
       "      <th>4</th>\n",
       "      <td>4.0</td>\n",
       "      <td>0.007906</td>\n",
       "    </tr>\n",
       "    <tr>\n",
       "      <th>...</th>\n",
       "      <td>...</td>\n",
       "      <td>...</td>\n",
       "    </tr>\n",
       "    <tr>\n",
       "      <th>195</th>\n",
       "      <td>195.0</td>\n",
       "      <td>0.000145</td>\n",
       "    </tr>\n",
       "    <tr>\n",
       "      <th>196</th>\n",
       "      <td>196.0</td>\n",
       "      <td>0.000142</td>\n",
       "    </tr>\n",
       "    <tr>\n",
       "      <th>197</th>\n",
       "      <td>197.0</td>\n",
       "      <td>0.000172</td>\n",
       "    </tr>\n",
       "    <tr>\n",
       "      <th>198</th>\n",
       "      <td>198.0</td>\n",
       "      <td>0.000138</td>\n",
       "    </tr>\n",
       "    <tr>\n",
       "      <th>199</th>\n",
       "      <td>199.0</td>\n",
       "      <td>0.000132</td>\n",
       "    </tr>\n",
       "  </tbody>\n",
       "</table>\n",
       "<p>200 rows × 2 columns</p>\n",
       "</div>"
      ],
      "text/plain": [
       "     epoch      loss\n",
       "0      0.0  0.053054\n",
       "1      1.0  0.040121\n",
       "2      2.0  0.040373\n",
       "3      3.0  0.016409\n",
       "4      4.0  0.007906\n",
       "..     ...       ...\n",
       "195  195.0  0.000145\n",
       "196  196.0  0.000142\n",
       "197  197.0  0.000172\n",
       "198  198.0  0.000138\n",
       "199  199.0  0.000132\n",
       "\n",
       "[200 rows x 2 columns]"
      ]
     },
     "execution_count": 41,
     "metadata": {},
     "output_type": "execute_result"
    }
   ],
   "source": [
    "save_path = 'kospi_out' + str(ow) + '_lyaers' + str(nlayers) + '_nhead' + str(nhead) + '.pt'\n",
    "# save_path = 'kospi_only.pt'\n",
    "torch.save(model.state_dict(), save_path)\n",
    "train_result"
   ]
  },
  {
   "cell_type": "code",
   "execution_count": 42,
   "metadata": {},
   "outputs": [
    {
     "data": {
      "image/png": "[encoded data removed]",
      "text/plain": [
       "<Figure size 2000x500 with 1 Axes>"
      ]
     },
     "metadata": {},
     "output_type": "display_data"
    }
   ],
   "source": [
    "plt.figure(figsize=(20,5))\n",
    "plt.plot(train_result['loss'].values)\n",
    "plt.show()"
   ]
  },
  {
   "cell_type": "code",
   "execution_count": 43,
   "metadata": {},
   "outputs": [],
   "source": [
    "def evaluate(data):\n",
    "    input = torch.tensor(data).reshape(1,-1,1).to(device).float().to(device)\n",
    "    model.eval()\n",
    "    \n",
    "    src_mask = model.generate_square_subsequent_mask(input.shape[1]).to(device)\n",
    "    predictions = model(input, src_mask)\n",
    "    return predictions.detach().cpu().numpy()"
   ]
  },
  {
   "cell_type": "code",
   "execution_count": 44,
   "metadata": {},
   "outputs": [
    {
     "data": {
      "text/plain": [
       "5053    0.712429\n",
       "5054    0.716231\n",
       "5055    0.717940\n",
       "5056    0.716076\n",
       "5057    0.717619\n",
       "          ...   \n",
       "5176    0.675072\n",
       "5177    0.652107\n",
       "5178    0.651298\n",
       "5179    0.653282\n",
       "5180    0.653282\n",
       "Name: kospi, Length: 128, dtype: float64"
      ]
     },
     "execution_count": 44,
     "metadata": {},
     "output_type": "execute_result"
    }
   ],
   "source": [
    "train_data['kospi'][-128:]"
   ]
  },
  {
   "cell_type": "code",
   "execution_count": 45,
   "metadata": {},
   "outputs": [
    {
     "data": {
      "text/plain": [
       "array([[0.74845882]])"
      ]
     },
     "execution_count": 45,
     "metadata": {},
     "output_type": "execute_result"
    }
   ],
   "source": [
    "x_data, y_data = test_dataset.__getitem__(-1)\n",
    "y_data"
   ]
  },
  {
   "cell_type": "code",
   "execution_count": 46,
   "metadata": {},
   "outputs": [
    {
     "data": {
      "text/plain": [
       "5305    0.784442\n",
       "5306    0.786492\n",
       "5307    0.768628\n",
       "5308    0.782176\n",
       "5309    0.771428\n",
       "5310    0.772759\n",
       "5311    0.767928\n",
       "5312    0.767928\n",
       "5313    0.768624\n",
       "5314    0.758901\n",
       "5315    0.754496\n",
       "5316    0.730981\n",
       "5317    0.721138\n",
       "5318    0.740677\n",
       "5319    0.724109\n",
       "5320    0.738643\n",
       "5321    0.736160\n",
       "5322    0.756554\n",
       "5323    0.738326\n",
       "5324    0.748459\n",
       "Name: kospi, dtype: float64"
      ]
     },
     "execution_count": 46,
     "metadata": {},
     "output_type": "execute_result"
    }
   ],
   "source": [
    "test_data['kospi'].iloc[-20:]"
   ]
  },
  {
   "cell_type": "code",
   "execution_count": 47,
   "metadata": {},
   "outputs": [
    {
     "data": {
      "image/png": "[encoded data removed]",
      "text/plain": [
       "<Figure size 2000x500 with 1 Axes>"
      ]
     },
     "metadata": {},
     "output_type": "display_data"
    }
   ],
   "source": [
    "df_result = pd.DataFrame()\n",
    "plt.figure(figsize=(20,5))\n",
    "iters = 5\n",
    "for i in range(iters):\n",
    "    x_data, y_data = test_dataset.__getitem__(-(i+1))\n",
    "    result = evaluate(x_data)\n",
    "    x = result[0]\n",
    "    min = scale_params.loc['min', 'kospi']\n",
    "    max = scale_params.loc['max', 'kospi']\n",
    "    x =  x * (max - min) + min\n",
    "    # plt.plot(range(10-i,20-i), x, label=\"predict\" +str(i+1))\n",
    "    plt.scatter(20-i, x, label=\"predict\" +str(i+1))\n",
    "    df_result[str(i)] = x\n",
    "\n",
    "real = df['kospi'].values\n",
    "\n",
    "plt.plot(range(20),real[-20:], label=\"real\")\n",
    "# plt.plot(range(10,20),x, label=\"predict\")\n",
    "plt.legend()\n",
    "plt.show()"
   ]
  },
  {
   "cell_type": "code",
   "execution_count": 48,
   "metadata": {},
   "outputs": [
    {
     "name": "stdout",
     "output_type": "stream",
     "text": [
      "7.804364322772585\n"
     ]
    }
   ],
   "source": [
    "def MAPEval(y_pred, y_true):\n",
    "    return np.mean(np.abs((y_true - y_pred) / y_true)) * 100\n",
    "\n",
    "# for i in range(iters):\n",
    "#     print(MAPEval(df_result[str(i)].values, real[-10-i-1:-i-1]))\n",
    "y_pred = [df_result.iloc[0, i] for i in range(1, iters)]\n",
    "\n",
    "\n",
    "print(MAPEval(y_pred, real[-iters+1:]))\n",
    "# df_result.tail()\n"
   ]
  },
  {
   "cell_type": "code",
   "execution_count": 49,
   "metadata": {},
   "outputs": [
    {
     "data": {
      "text/plain": [
       "array([2629.43994141, 2623.02001953, 2675.75      , 2628.62011719,\n",
       "       2654.82006836])"
      ]
     },
     "execution_count": 49,
     "metadata": {},
     "output_type": "execute_result"
    }
   ],
   "source": [
    "real[-iters:]"
   ]
  },
  {
   "cell_type": "code",
   "execution_count": 50,
   "metadata": {},
   "outputs": [
    {
     "data": {
      "text/html": [
       "<div>\n",
       "<style scoped>\n",
       "    .dataframe tbody tr th:only-of-type {\n",
       "        vertical-align: middle;\n",
       "    }\n",
       "\n",
       "    .dataframe tbody tr th {\n",
       "        vertical-align: top;\n",
       "    }\n",
       "\n",
       "    .dataframe thead th {\n",
       "        text-align: right;\n",
       "    }\n",
       "</style>\n",
       "<table border=\"1\" class=\"dataframe\">\n",
       "  <thead>\n",
       "    <tr style=\"text-align: right;\">\n",
       "      <th></th>\n",
       "      <th>0</th>\n",
       "      <th>1</th>\n",
       "      <th>2</th>\n",
       "      <th>3</th>\n",
       "      <th>4</th>\n",
       "    </tr>\n",
       "  </thead>\n",
       "  <tbody>\n",
       "    <tr>\n",
       "      <th>0</th>\n",
       "      <td>2435.882324</td>\n",
       "      <td>2450.385986</td>\n",
       "      <td>2423.062012</td>\n",
       "      <td>2433.44165</td>\n",
       "      <td>2448.61499</td>\n",
       "    </tr>\n",
       "  </tbody>\n",
       "</table>\n",
       "</div>"
      ],
      "text/plain": [
       "             0            1            2           3           4\n",
       "0  2435.882324  2450.385986  2423.062012  2433.44165  2448.61499"
      ]
     },
     "execution_count": 50,
     "metadata": {},
     "output_type": "execute_result"
    }
   ],
   "source": [
    "df_result"
   ]
  }
 ],
 "metadata": {
  "kernelspec": {
   "display_name": "Python 3",
   "language": "python",
   "name": "python3"
  },
  "language_info": {
   "codemirror_mode": {
    "name": "ipython",
    "version": 3
   },
   "file_extension": ".py",
   "mimetype": "text/x-python",
   "name": "python",
   "nbconvert_exporter": "python",
   "pygments_lexer": "ipython3",
   "version": "3.11.8"
  }
 },
 "nbformat": 4,
 "nbformat_minor": 2
}
