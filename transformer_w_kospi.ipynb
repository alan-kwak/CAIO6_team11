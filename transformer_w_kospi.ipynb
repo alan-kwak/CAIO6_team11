{
 "cells": [
  {
   "cell_type": "code",
   "execution_count": 86,
   "metadata": {},
   "outputs": [],
   "source": [
    "import torch\n",
    "import pandas as pd\n",
    "import numpy as np\n",
    "import math, copy, time\n",
    "import torch.nn as nn\n",
    "import matplotlib.pyplot as plt\n",
    "import torch.nn.functional as F\n",
    "from torch.utils.data import DataLoader, Dataset \n",
    "import tqdm\n"
   ]
  },
  {
   "cell_type": "code",
   "execution_count": 87,
   "metadata": {},
   "outputs": [
    {
     "data": {
      "text/html": [
       "<div>\n",
       "<style scoped>\n",
       "    .dataframe tbody tr th:only-of-type {\n",
       "        vertical-align: middle;\n",
       "    }\n",
       "\n",
       "    .dataframe tbody tr th {\n",
       "        vertical-align: top;\n",
       "    }\n",
       "\n",
       "    .dataframe thead th {\n",
       "        text-align: right;\n",
       "    }\n",
       "</style>\n",
       "<table border=\"1\" class=\"dataframe\">\n",
       "  <thead>\n",
       "    <tr style=\"text-align: right;\">\n",
       "      <th></th>\n",
       "      <th>Date</th>\n",
       "      <th>S&amp;P</th>\n",
       "      <th>currency</th>\n",
       "      <th>gold</th>\n",
       "      <th>kospi</th>\n",
       "    </tr>\n",
       "  </thead>\n",
       "  <tbody>\n",
       "    <tr>\n",
       "      <th>5320</th>\n",
       "      <td>2024-04-22</td>\n",
       "      <td>5010.600098</td>\n",
       "      <td>1373.930054</td>\n",
       "      <td>2332.199951</td>\n",
       "      <td>2629.439941</td>\n",
       "    </tr>\n",
       "    <tr>\n",
       "      <th>5321</th>\n",
       "      <td>2024-04-23</td>\n",
       "      <td>5070.549805</td>\n",
       "      <td>1378.839966</td>\n",
       "      <td>2327.699951</td>\n",
       "      <td>2623.020020</td>\n",
       "    </tr>\n",
       "    <tr>\n",
       "      <th>5322</th>\n",
       "      <td>2024-04-24</td>\n",
       "      <td>5071.629883</td>\n",
       "      <td>1370.479980</td>\n",
       "      <td>2324.500000</td>\n",
       "      <td>2675.750000</td>\n",
       "    </tr>\n",
       "    <tr>\n",
       "      <th>5323</th>\n",
       "      <td>2024-04-25</td>\n",
       "      <td>5048.419922</td>\n",
       "      <td>1376.969971</td>\n",
       "      <td>2345.600098</td>\n",
       "      <td>2628.620117</td>\n",
       "    </tr>\n",
       "    <tr>\n",
       "      <th>5324</th>\n",
       "      <td>2024-04-26</td>\n",
       "      <td>5048.419922</td>\n",
       "      <td>1376.969971</td>\n",
       "      <td>2345.600098</td>\n",
       "      <td>2654.820068</td>\n",
       "    </tr>\n",
       "  </tbody>\n",
       "</table>\n",
       "</div>"
      ],
      "text/plain": [
       "            Date          S&P     currency         gold        kospi\n",
       "5320  2024-04-22  5010.600098  1373.930054  2332.199951  2629.439941\n",
       "5321  2024-04-23  5070.549805  1378.839966  2327.699951  2623.020020\n",
       "5322  2024-04-24  5071.629883  1370.479980  2324.500000  2675.750000\n",
       "5323  2024-04-25  5048.419922  1376.969971  2345.600098  2628.620117\n",
       "5324  2024-04-26  5048.419922  1376.969971  2345.600098  2654.820068"
      ]
     },
     "execution_count": 87,
     "metadata": {},
     "output_type": "execute_result"
    }
   ],
   "source": [
    "df = pd.read_csv('./total.csv')\n",
    "df.tail()"
   ]
  },
  {
   "cell_type": "code",
   "execution_count": 88,
   "metadata": {},
   "outputs": [
    {
     "name": "stdout",
     "output_type": "stream",
     "text": [
      "['Date' 'S&P' 'currency' 'gold' 'kospi']\n"
     ]
    }
   ],
   "source": [
    "col_names = df.columns.values\n",
    "print(col_names)"
   ]
  },
  {
   "cell_type": "code",
   "execution_count": 89,
   "metadata": {},
   "outputs": [],
   "source": [
    "# global variables and hyperparameter\n",
    "IN_DIM = 128\n",
    "DAY_INT = 1\n",
    "BATCH_SIZE = 64\n",
    "SCALER = 'MINMAX'   # 'NORMAL'\n",
    "# SCALER = 'NORMAL'   # 'NORMAL'\n",
    "TRAIN_TEST_SPLIT = 0.9\n",
    "LR = 1e-4"
   ]
  },
  {
   "cell_type": "code",
   "execution_count": 90,
   "metadata": {},
   "outputs": [
    {
     "data": {
      "text/html": [
       "<div>\n",
       "<style scoped>\n",
       "    .dataframe tbody tr th:only-of-type {\n",
       "        vertical-align: middle;\n",
       "    }\n",
       "\n",
       "    .dataframe tbody tr th {\n",
       "        vertical-align: top;\n",
       "    }\n",
       "\n",
       "    .dataframe thead th {\n",
       "        text-align: right;\n",
       "    }\n",
       "</style>\n",
       "<table border=\"1\" class=\"dataframe\">\n",
       "  <thead>\n",
       "    <tr style=\"text-align: right;\">\n",
       "      <th></th>\n",
       "      <th>S&amp;P</th>\n",
       "      <th>currency</th>\n",
       "      <th>gold</th>\n",
       "      <th>kospi</th>\n",
       "    </tr>\n",
       "  </thead>\n",
       "  <tbody>\n",
       "    <tr>\n",
       "      <th>mean</th>\n",
       "      <td>1946.146297</td>\n",
       "      <td>1109.095100</td>\n",
       "      <td>1175.979382</td>\n",
       "      <td>1876.733674</td>\n",
       "    </tr>\n",
       "    <tr>\n",
       "      <th>var</th>\n",
       "      <td>867715.913074</td>\n",
       "      <td>9353.777468</td>\n",
       "      <td>185116.837397</td>\n",
       "      <td>283489.405685</td>\n",
       "    </tr>\n",
       "    <tr>\n",
       "      <th>max</th>\n",
       "      <td>4796.560059</td>\n",
       "      <td>1571.400024</td>\n",
       "      <td>2051.500000</td>\n",
       "      <td>3305.209961</td>\n",
       "    </tr>\n",
       "    <tr>\n",
       "      <th>min</th>\n",
       "      <td>676.530029</td>\n",
       "      <td>886.679993</td>\n",
       "      <td>374.799988</td>\n",
       "      <td>719.590027</td>\n",
       "    </tr>\n",
       "  </tbody>\n",
       "</table>\n",
       "</div>"
      ],
      "text/plain": [
       "                S&P     currency           gold          kospi\n",
       "mean    1946.146297  1109.095100    1175.979382    1876.733674\n",
       "var   867715.913074  9353.777468  185116.837397  283489.405685\n",
       "max     4796.560059  1571.400024    2051.500000    3305.209961\n",
       "min      676.530029   886.679993     374.799988     719.590027"
      ]
     },
     "execution_count": 90,
     "metadata": {},
     "output_type": "execute_result"
    }
   ],
   "source": [
    "# train test split\n",
    "df_train = df.iloc[:int(len(df) * TRAIN_TEST_SPLIT), :].drop('Date', axis=1)\n",
    "df_test = df.iloc[int(len(df) * TRAIN_TEST_SPLIT): , :].drop('Date', axis=1)\n",
    "# print(df_train.tail())\n",
    "# print(df_test.head())\n",
    "scale_params = pd.DataFrame(index=['mean', 'var', 'max', 'min'])\n",
    "for i in col_names[1:]:\n",
    "    scale_params[i] = [df_train[i].mean(), df_train[i].var(), df_train[i].max(), df_train[i].min()]\n",
    "scale_params"
   ]
  },
  {
   "cell_type": "code",
   "execution_count": 91,
   "metadata": {},
   "outputs": [
    {
     "data": {
      "text/html": [
       "<div>\n",
       "<style scoped>\n",
       "    .dataframe tbody tr th:only-of-type {\n",
       "        vertical-align: middle;\n",
       "    }\n",
       "\n",
       "    .dataframe tbody tr th {\n",
       "        vertical-align: top;\n",
       "    }\n",
       "\n",
       "    .dataframe thead th {\n",
       "        text-align: right;\n",
       "    }\n",
       "</style>\n",
       "<table border=\"1\" class=\"dataframe\">\n",
       "  <thead>\n",
       "    <tr style=\"text-align: right;\">\n",
       "      <th></th>\n",
       "      <th>S&amp;P</th>\n",
       "      <th>currency</th>\n",
       "      <th>gold</th>\n",
       "      <th>kospi</th>\n",
       "    </tr>\n",
       "  </thead>\n",
       "  <tbody>\n",
       "    <tr>\n",
       "      <th>5320</th>\n",
       "      <td>1.051951</td>\n",
       "      <td>0.711605</td>\n",
       "      <td>1.167412</td>\n",
       "      <td>0.738643</td>\n",
       "    </tr>\n",
       "    <tr>\n",
       "      <th>5321</th>\n",
       "      <td>1.066502</td>\n",
       "      <td>0.718775</td>\n",
       "      <td>1.164728</td>\n",
       "      <td>0.736160</td>\n",
       "    </tr>\n",
       "    <tr>\n",
       "      <th>5322</th>\n",
       "      <td>1.066764</td>\n",
       "      <td>0.706566</td>\n",
       "      <td>1.162820</td>\n",
       "      <td>0.756554</td>\n",
       "    </tr>\n",
       "    <tr>\n",
       "      <th>5323</th>\n",
       "      <td>1.061131</td>\n",
       "      <td>0.716044</td>\n",
       "      <td>1.175404</td>\n",
       "      <td>0.738326</td>\n",
       "    </tr>\n",
       "    <tr>\n",
       "      <th>5324</th>\n",
       "      <td>1.061131</td>\n",
       "      <td>0.716044</td>\n",
       "      <td>1.175404</td>\n",
       "      <td>0.748459</td>\n",
       "    </tr>\n",
       "  </tbody>\n",
       "</table>\n",
       "</div>"
      ],
      "text/plain": [
       "           S&P  currency      gold     kospi\n",
       "5320  1.051951  0.711605  1.167412  0.738643\n",
       "5321  1.066502  0.718775  1.164728  0.736160\n",
       "5322  1.066764  0.706566  1.162820  0.756554\n",
       "5323  1.061131  0.716044  1.175404  0.738326\n",
       "5324  1.061131  0.716044  1.175404  0.748459"
      ]
     },
     "execution_count": 91,
     "metadata": {},
     "output_type": "execute_result"
    }
   ],
   "source": [
    "# scaling\n",
    "train_data = pd.DataFrame()\n",
    "test_data = pd.DataFrame()\n",
    "if SCALER == 'MINMAX':\n",
    "    for i in col_names[1:]:\n",
    "        train_data[i] = df_train[i].apply(lambda x: (x - scale_params.loc['min', i])/(scale_params.loc['max', i] - scale_params.loc['min', i]))\n",
    "        test_data[i] = df_test[i].apply(lambda x: (x - scale_params.loc['min', i])/(scale_params.loc['max', i] - scale_params.loc['min', i]))\n",
    "elif SCALER == 'NORMAL':\n",
    "    for i in col_names[1:]:\n",
    "        train_data[i] = df_train[i].apply(lambda x: (x - scale_params.loc['mean', i])/scale_params.loc['var', i])\n",
    "        test_data[i] = df_test[i].apply(lambda x: (x - scale_params.loc['mean', i])/scale_params.loc['var', i])\n",
    "test_data.tail()"
   ]
  },
  {
   "cell_type": "code",
   "execution_count": 95,
   "metadata": {},
   "outputs": [],
   "source": [
    "class stockDataset(Dataset):\n",
    "    def __init__(self, data, input_dim=128, output_dim=1, stride=1):\n",
    "        \n",
    "        self.data = data\n",
    "        self.len = len(data)\n",
    "        start_pos = (self.len - input_dim -1) % stride\n",
    "        iter_times = (self.len - input_dim -1) // stride + 1\n",
    "        # col_size = data.shape[1]\n",
    "        # print(self.len, start_pos, iter_times)\n",
    "        # print(data.shape)\n",
    "        X = np.zeros([input_dim, iter_times], dtype=np.float32)\n",
    "        Y = np.zeros([output_dim, iter_times], dtype=np.float32)\n",
    "        # X = np.zeros([input_dim, iter_times], dtype=np.float32)\n",
    "        # Y = np.zeros([output_dim, iter_times], dtype=np.float32)\n",
    "        for i in range(iter_times):  # check iteration number \n",
    "            start = start_pos + i * stride\n",
    "            end = start + input_dim    # -1 if use loc\n",
    "            x_num = data[start:end].to_numpy()\n",
    "            # x_num = x_num.astype(float)\n",
    "            X[:, i] = x_num\n",
    "            Y[:, i] = df.loc[end + 1, 'kospi']\n",
    "        self.x = X.T\n",
    "        self.y = Y\n",
    "        self.len = len(X)\n",
    "        print(self.x.shape, self.y.shape)\n",
    "\n",
    "    def __len__(self):\n",
    "        return self.len\n",
    "\n",
    "    def __getitem__(self, index):\n",
    "        return self.x[index], self.y[:, index]"
   ]
  },
  {
   "cell_type": "code",
   "execution_count": 96,
   "metadata": {},
   "outputs": [
    {
     "name": "stdout",
     "output_type": "stream",
     "text": [
      "(4664, 128) (1, 4664)\n",
      "(4664, 128) (1, 4664)\n",
      "(4664, 128) (1, 4664)\n",
      "(4664, 128) (1, 4664)\n",
      "(405, 128) (1, 405)\n",
      "(405, 128) (1, 405)\n",
      "(405, 128) (1, 405)\n",
      "(405, 128) (1, 405)\n"
     ]
    }
   ],
   "source": [
    "train_snp = stockDataset(train_data[col_names[1]], IN_DIM, 1, 1)\n",
    "train_currency = stockDataset(train_data[col_names[2]], IN_DIM, 1, 1)\n",
    "train_gold = stockDataset(train_data[col_names[3]], IN_DIM, 1, 1)\n",
    "train_kospi = stockDataset(train_data[col_names[4]], IN_DIM, 1, 1)\n",
    "\n",
    "test_snp = stockDataset(test_data[col_names[1]], IN_DIM, 1, 1)\n",
    "test_currency = stockDataset(test_data[col_names[2]], IN_DIM, 1, 1)\n",
    "test_gold = stockDataset(test_data[col_names[3]], IN_DIM, 1, 1)\n",
    "test_kospi = stockDataset(test_data[col_names[4]], IN_DIM, 1, 1)"
   ]
  },
  {
   "cell_type": "code",
   "execution_count": 97,
   "metadata": {},
   "outputs": [
    {
     "data": {
      "text/plain": [
       "(array([0.09553085, 0.09468134, 0.09422261, 0.09543376, 0.09343863,\n",
       "        0.09533183, 0.09311826, 0.09284399, 0.0957954 , 0.09650657,\n",
       "        0.09502601, 0.09674686, 0.09707452, 0.10015704, 0.10003082,\n",
       "        0.10106963, 0.10181721, 0.10133664, 0.10133664, 0.10178566,\n",
       "        0.10508417, 0.10512301, 0.10567642, 0.10567642, 0.10484146,\n",
       "        0.10817638, 0.10852834, 0.10917395, 0.11053075, 0.10808901,\n",
       "        0.1093924 , 0.10793366, 0.11019094, 0.1105623 , 0.11245062,\n",
       "        0.11245062, 0.11219335, 0.11434139, 0.11344818, 0.11286812,\n",
       "        0.11622245, 0.11347491, 0.10969579, 0.11106229, 0.11033899,\n",
       "        0.11134142, 0.11152831, 0.10922007, 0.10972249, 0.11316179,\n",
       "        0.11244579, 0.11383655, 0.11680254, 0.11543119, 0.11390209,\n",
       "        0.11390209, 0.11661565, 0.11536079, 0.11420549, 0.11348946,\n",
       "        0.11273218, 0.11227101, 0.11338267, 0.11368364, 0.1136909 ,\n",
       "        0.11636807, 0.11470061, 0.11516906, 0.11610109, 0.11658409,\n",
       "        0.11423944, 0.11263265, 0.10858173, 0.10442885, 0.1077759 ,\n",
       "        0.10387302, 0.10538028, 0.10854775, 0.10820065, 0.105157  ,\n",
       "        0.10166673, 0.10131478, 0.10067886, 0.10501377, 0.10473953,\n",
       "        0.10823706, 0.10933658, 0.10914482, 0.11059143, 0.11293122,\n",
       "        0.11505739, 0.11447247, 0.11262054, 0.11232683, 0.11232683,\n",
       "        0.113754  , 0.10992879, 0.10962056, 0.10978317, 0.11118364,\n",
       "        0.11147732, 0.10718854, 0.10863026, 0.11247491, 0.11263751,\n",
       "        0.11140695, 0.11203315, 0.10822251, 0.10615456, 0.10455507,\n",
       "        0.10702834, 0.10752834, 0.10800892, 0.10617883, 0.10246768,\n",
       "        0.09965703, 0.10167885, 0.10212304, 0.10191914, 0.10173953,\n",
       "        0.09892403, 0.1007177 , 0.10003568, 0.10015944, 0.10122015,\n",
       "        0.10166916, 0.10595069, 0.1064094 ], dtype=float32),\n",
       " array([816.51], dtype=float32))"
      ]
     },
     "execution_count": 97,
     "metadata": {},
     "output_type": "execute_result"
    }
   ],
   "source": [
    "train_snp.__getitem__(0)"
   ]
  }
 ],
 "metadata": {
  "kernelspec": {
   "display_name": "Python 3",
   "language": "python",
   "name": "python3"
  },
  "language_info": {
   "codemirror_mode": {
    "name": "ipython",
    "version": 3
   },
   "file_extension": ".py",
   "mimetype": "text/x-python",
   "name": "python",
   "nbconvert_exporter": "python",
   "pygments_lexer": "ipython3",
   "version": "3.11.8"
  }
 },
 "nbformat": 4,
 "nbformat_minor": 2
}
