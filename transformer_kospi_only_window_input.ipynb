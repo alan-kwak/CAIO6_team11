{
 "cells": [
  {
   "cell_type": "code",
   "execution_count": 23,
   "metadata": {},
   "outputs": [],
   "source": [
    "import torch\n",
    "import pandas as pd\n",
    "import numpy as np\n",
    "import math, copy, time\n",
    "import torch.nn as nn\n",
    "import matplotlib.pyplot as plt\n",
    "import torch.nn.functional as F\n",
    "from torch.utils.data import DataLoader, Dataset \n",
    "import tqdm\n"
   ]
  },
  {
   "cell_type": "markdown",
   "metadata": {},
   "source": [
    "### 1. Load Data"
   ]
  },
  {
   "cell_type": "code",
   "execution_count": 24,
   "metadata": {},
   "outputs": [
    {
     "data": {
      "text/html": [
       "<div>\n",
       "<style scoped>\n",
       "    .dataframe tbody tr th:only-of-type {\n",
       "        vertical-align: middle;\n",
       "    }\n",
       "\n",
       "    .dataframe tbody tr th {\n",
       "        vertical-align: top;\n",
       "    }\n",
       "\n",
       "    .dataframe thead th {\n",
       "        text-align: right;\n",
       "    }\n",
       "</style>\n",
       "<table border=\"1\" class=\"dataframe\">\n",
       "  <thead>\n",
       "    <tr style=\"text-align: right;\">\n",
       "      <th></th>\n",
       "      <th>Date</th>\n",
       "      <th>S&amp;P</th>\n",
       "      <th>currency</th>\n",
       "      <th>gold</th>\n",
       "      <th>kospi</th>\n",
       "      <th>kospi_shift</th>\n",
       "    </tr>\n",
       "  </thead>\n",
       "  <tbody>\n",
       "    <tr>\n",
       "      <th>5328</th>\n",
       "      <td>2024-05-02</td>\n",
       "      <td>5064.200195</td>\n",
       "      <td>1375.000000</td>\n",
       "      <td>2299.199951</td>\n",
       "      <td>2683.649902</td>\n",
       "      <td>2676.629883</td>\n",
       "    </tr>\n",
       "    <tr>\n",
       "      <th>5329</th>\n",
       "      <td>2024-05-03</td>\n",
       "      <td>5127.790039</td>\n",
       "      <td>1364.640015</td>\n",
       "      <td>2299.000000</td>\n",
       "      <td>2676.629883</td>\n",
       "      <td>2734.360107</td>\n",
       "    </tr>\n",
       "    <tr>\n",
       "      <th>5330</th>\n",
       "      <td>2024-05-06</td>\n",
       "      <td>5180.740234</td>\n",
       "      <td>1355.050049</td>\n",
       "      <td>2321.600098</td>\n",
       "      <td>2676.629883</td>\n",
       "      <td>2734.360107</td>\n",
       "    </tr>\n",
       "    <tr>\n",
       "      <th>5331</th>\n",
       "      <td>2024-05-07</td>\n",
       "      <td>5187.700195</td>\n",
       "      <td>1352.170044</td>\n",
       "      <td>2316.300049</td>\n",
       "      <td>2734.360107</td>\n",
       "      <td>2737.669922</td>\n",
       "    </tr>\n",
       "    <tr>\n",
       "      <th>5332</th>\n",
       "      <td>2024-05-08</td>\n",
       "      <td>5187.700195</td>\n",
       "      <td>1352.170044</td>\n",
       "      <td>2316.300049</td>\n",
       "      <td>2737.669922</td>\n",
       "      <td>2737.669922</td>\n",
       "    </tr>\n",
       "  </tbody>\n",
       "</table>\n",
       "</div>"
      ],
      "text/plain": [
       "            Date          S&P     currency         gold        kospi  \\\n",
       "5328  2024-05-02  5064.200195  1375.000000  2299.199951  2683.649902   \n",
       "5329  2024-05-03  5127.790039  1364.640015  2299.000000  2676.629883   \n",
       "5330  2024-05-06  5180.740234  1355.050049  2321.600098  2676.629883   \n",
       "5331  2024-05-07  5187.700195  1352.170044  2316.300049  2734.360107   \n",
       "5332  2024-05-08  5187.700195  1352.170044  2316.300049  2737.669922   \n",
       "\n",
       "      kospi_shift  \n",
       "5328  2676.629883  \n",
       "5329  2734.360107  \n",
       "5330  2734.360107  \n",
       "5331  2737.669922  \n",
       "5332  2737.669922  "
      ]
     },
     "execution_count": 24,
     "metadata": {},
     "output_type": "execute_result"
    }
   ],
   "source": [
    "df = pd.read_csv('./total.csv')\n",
    "df.tail()"
   ]
  },
  {
   "cell_type": "code",
   "execution_count": 25,
   "metadata": {},
   "outputs": [
    {
     "name": "stdout",
     "output_type": "stream",
     "text": [
      "['Date' 'S&P' 'currency' 'gold' 'kospi' 'kospi_shift']\n"
     ]
    }
   ],
   "source": [
    "col_names = df.columns.values\n",
    "print(col_names)"
   ]
  },
  {
   "cell_type": "code",
   "execution_count": 26,
   "metadata": {},
   "outputs": [],
   "source": [
    "# global variables and hyperparameter\n",
    "IN_DIM = 128\n",
    "DAY_INT = 1\n",
    "BATCH_SIZE = 64\n",
    "SCALER = 'MINMAX'   # 'NORMAL'\n",
    "# SCALER = 'NORMAL'   # 'NORMAL'\n",
    "TRAIN_TEST_SPLIT = 0.95\n",
    "LR = 1e-4"
   ]
  },
  {
   "cell_type": "markdown",
   "metadata": {},
   "source": [
    "### 2. Split data train and test"
   ]
  },
  {
   "cell_type": "code",
   "execution_count": 27,
   "metadata": {},
   "outputs": [
    {
     "data": {
      "text/html": [
       "<div>\n",
       "<style scoped>\n",
       "    .dataframe tbody tr th:only-of-type {\n",
       "        vertical-align: middle;\n",
       "    }\n",
       "\n",
       "    .dataframe tbody tr th {\n",
       "        vertical-align: top;\n",
       "    }\n",
       "\n",
       "    .dataframe thead th {\n",
       "        text-align: right;\n",
       "    }\n",
       "</style>\n",
       "<table border=\"1\" class=\"dataframe\">\n",
       "  <thead>\n",
       "    <tr style=\"text-align: right;\">\n",
       "      <th></th>\n",
       "      <th>S&amp;P</th>\n",
       "      <th>currency</th>\n",
       "      <th>gold</th>\n",
       "      <th>kospi</th>\n",
       "      <th>kospi_shift</th>\n",
       "    </tr>\n",
       "  </thead>\n",
       "  <tbody>\n",
       "    <tr>\n",
       "      <th>mean</th>\n",
       "      <td>2.056123e+03</td>\n",
       "      <td>1120.055541</td>\n",
       "      <td>1210.548914</td>\n",
       "      <td>1906.951823</td>\n",
       "      <td>1907.185882</td>\n",
       "    </tr>\n",
       "    <tr>\n",
       "      <th>var</th>\n",
       "      <td>1.033928e+06</td>\n",
       "      <td>11114.913679</td>\n",
       "      <td>196573.860870</td>\n",
       "      <td>285002.080969</td>\n",
       "      <td>284980.101274</td>\n",
       "    </tr>\n",
       "    <tr>\n",
       "      <th>max</th>\n",
       "      <td>4.796560e+03</td>\n",
       "      <td>1571.400024</td>\n",
       "      <td>2051.500000</td>\n",
       "      <td>3305.209961</td>\n",
       "      <td>3305.209961</td>\n",
       "    </tr>\n",
       "    <tr>\n",
       "      <th>min</th>\n",
       "      <td>6.765300e+02</td>\n",
       "      <td>886.679993</td>\n",
       "      <td>374.799988</td>\n",
       "      <td>719.590027</td>\n",
       "      <td>719.590027</td>\n",
       "    </tr>\n",
       "  </tbody>\n",
       "</table>\n",
       "</div>"
      ],
      "text/plain": [
       "               S&P      currency           gold          kospi    kospi_shift\n",
       "mean  2.056123e+03   1120.055541    1210.548914    1906.951823    1907.185882\n",
       "var   1.033928e+06  11114.913679  196573.860870  285002.080969  284980.101274\n",
       "max   4.796560e+03   1571.400024    2051.500000    3305.209961    3305.209961\n",
       "min   6.765300e+02    886.679993     374.799988     719.590027     719.590027"
      ]
     },
     "execution_count": 27,
     "metadata": {},
     "output_type": "execute_result"
    }
   ],
   "source": [
    "# train test split\n",
    "df_train = df.iloc[:int(len(df) * TRAIN_TEST_SPLIT), :]\n",
    "df_test = df.iloc[int(len(df) * TRAIN_TEST_SPLIT): , :]\n",
    "# print(df_train.tail())\n",
    "# print(df_test.head())\n",
    "scale_params = pd.DataFrame(index=['mean', 'var', 'max', 'min'])\n",
    "for i in col_names[1:]:\n",
    "    scale_params[i] = [df_train[i].mean(), df_train[i].var(), df_train[i].max(), df_train[i].min()]\n",
    "scale_params"
   ]
  },
  {
   "cell_type": "code",
   "execution_count": 28,
   "metadata": {},
   "outputs": [
    {
     "data": {
      "text/html": [
       "<div>\n",
       "<style scoped>\n",
       "    .dataframe tbody tr th:only-of-type {\n",
       "        vertical-align: middle;\n",
       "    }\n",
       "\n",
       "    .dataframe tbody tr th {\n",
       "        vertical-align: top;\n",
       "    }\n",
       "\n",
       "    .dataframe thead th {\n",
       "        text-align: right;\n",
       "    }\n",
       "</style>\n",
       "<table border=\"1\" class=\"dataframe\">\n",
       "  <thead>\n",
       "    <tr style=\"text-align: right;\">\n",
       "      <th></th>\n",
       "      <th>S&amp;P</th>\n",
       "      <th>currency</th>\n",
       "      <th>gold</th>\n",
       "      <th>kospi</th>\n",
       "      <th>kospi_shift</th>\n",
       "    </tr>\n",
       "  </thead>\n",
       "  <tbody>\n",
       "    <tr>\n",
       "      <th>5328</th>\n",
       "      <td>1.064961</td>\n",
       "      <td>0.713167</td>\n",
       "      <td>1.147731</td>\n",
       "      <td>0.759609</td>\n",
       "      <td>0.756894</td>\n",
       "    </tr>\n",
       "    <tr>\n",
       "      <th>5329</th>\n",
       "      <td>1.080395</td>\n",
       "      <td>0.698037</td>\n",
       "      <td>1.147611</td>\n",
       "      <td>0.756894</td>\n",
       "      <td>0.779221</td>\n",
       "    </tr>\n",
       "    <tr>\n",
       "      <th>5330</th>\n",
       "      <td>1.093247</td>\n",
       "      <td>0.684031</td>\n",
       "      <td>1.161090</td>\n",
       "      <td>0.756894</td>\n",
       "      <td>0.779221</td>\n",
       "    </tr>\n",
       "    <tr>\n",
       "      <th>5331</th>\n",
       "      <td>1.094936</td>\n",
       "      <td>0.679825</td>\n",
       "      <td>1.157929</td>\n",
       "      <td>0.779221</td>\n",
       "      <td>0.780501</td>\n",
       "    </tr>\n",
       "    <tr>\n",
       "      <th>5332</th>\n",
       "      <td>1.094936</td>\n",
       "      <td>0.679825</td>\n",
       "      <td>1.157929</td>\n",
       "      <td>0.780501</td>\n",
       "      <td>0.780501</td>\n",
       "    </tr>\n",
       "  </tbody>\n",
       "</table>\n",
       "</div>"
      ],
      "text/plain": [
       "           S&P  currency      gold     kospi  kospi_shift\n",
       "5328  1.064961  0.713167  1.147731  0.759609     0.756894\n",
       "5329  1.080395  0.698037  1.147611  0.756894     0.779221\n",
       "5330  1.093247  0.684031  1.161090  0.756894     0.779221\n",
       "5331  1.094936  0.679825  1.157929  0.779221     0.780501\n",
       "5332  1.094936  0.679825  1.157929  0.780501     0.780501"
      ]
     },
     "execution_count": 28,
     "metadata": {},
     "output_type": "execute_result"
    }
   ],
   "source": [
    "# scaling\n",
    "train_data = pd.DataFrame()\n",
    "test_data = pd.DataFrame()\n",
    "if SCALER == 'MINMAX':\n",
    "    for i in col_names[1:]:\n",
    "        train_data[i] = df_train[i].apply(lambda x: (x - scale_params.loc['min', i])/(scale_params.loc['max', i] - scale_params.loc['min', i]))\n",
    "        test_data[i] = df_test[i].apply(lambda x: (x - scale_params.loc['min', i])/(scale_params.loc['max', i] - scale_params.loc['min', i]))\n",
    "elif SCALER == 'NORMAL':\n",
    "    for i in col_names[1:]:\n",
    "        train_data[i] = df_train[i].apply(lambda x: (x - scale_params.loc['mean', i])/scale_params.loc['var', i])\n",
    "        test_data[i] = df_test[i].apply(lambda x: (x - scale_params.loc['mean', i])/scale_params.loc['var', i])\n",
    "test_data.tail()"
   ]
  },
  {
   "cell_type": "code",
   "execution_count": 29,
   "metadata": {},
   "outputs": [],
   "source": [
    "class StockDataset(Dataset):\n",
    "    def __init__(self, y, input_window=128, output_window=1, stride=1):\n",
    "        #총 데이터의 개수\n",
    "        L = y.shape[0]\n",
    "        #stride씩 움직일 때 생기는 총 sample의 개수\n",
    "        num_samples = (L - input_window - output_window) // stride + 1\n",
    "        start_pos = (L - input_window - output_window) % stride\n",
    "        iter_times = (L - input_window - output_window) // stride + 1\n",
    "        print(y.shape, num_samples, iter_times, start_pos, L)\n",
    "\n",
    "        #input과 output\n",
    "        X = np.zeros([input_window, num_samples])\n",
    "        Y = np.zeros([output_window, num_samples])\n",
    "\n",
    "        for i in np.arange(num_samples):\n",
    "            start_x = start_pos + i * stride\n",
    "            end_x = start_x + input_window\n",
    "            X[:,i] = y[start_x:end_x]\n",
    "\n",
    "            # end_y = start_y + output_window\n",
    "            # print(i, start_x, end_x)\n",
    "            Y[:,i] = y[end_x: end_x + output_window]\n",
    "        # print(X.shape, Y.shape)\n",
    "        X = X.reshape(X.shape[0], X.shape[1], 1).transpose((1,0,2))\n",
    "        Y = Y.reshape(Y.shape[0], Y.shape[1], 1).transpose((1,0,2))\n",
    "        print(X.shape, Y.shape)\n",
    "        self.x = X\n",
    "        self.y = Y\n",
    "        \n",
    "        self.len = len(X)\n",
    "    def __getitem__(self, i):\n",
    "        return self.x[i], self.y[i]\n",
    "    def __len__(self):\n",
    "        return self.len"
   ]
  },
  {
   "cell_type": "markdown",
   "metadata": {},
   "source": [
    "### 3. create dataloader"
   ]
  },
  {
   "cell_type": "code",
   "execution_count": 30,
   "metadata": {},
   "outputs": [
    {
     "name": "stdout",
     "output_type": "stream",
     "text": [
      "(5066,) 4938 4938 0 5066\n",
      "(4938, 128, 1) (4938, 1, 1)\n",
      "(267,) 139 139 0 267\n",
      "(139, 128, 1) (139, 1, 1)\n",
      "(128, 1) (1, 1)\n"
     ]
    }
   ],
   "source": [
    "train_dataset = StockDataset(train_data['kospi'], 128, 1, 1)\n",
    "train_dataloader = DataLoader(train_dataset, batch_size=BATCH_SIZE, shuffle=True)\n",
    "\n",
    "test_dataset = StockDataset(test_data['kospi'], 128, 1, 1)\n",
    "test_dataloader = DataLoader(test_dataset, batch_size=BATCH_SIZE, shuffle=False)\n",
    "print(next(iter(test_dataset))[0].shape, next(iter(test_dataset))[1].shape)\n",
    "# print(next(iter(test_dataset)))"
   ]
  }
 ],
 "metadata": {
  "kernelspec": {
   "display_name": "Python 3",
   "language": "python",
   "name": "python3"
  },
  "language_info": {
   "codemirror_mode": {
    "name": "ipython",
    "version": 3
   },
   "file_extension": ".py",
   "mimetype": "text/x-python",
   "name": "python",
   "nbconvert_exporter": "python",
   "pygments_lexer": "ipython3",
   "version": "3.11.8"
  }
 },
 "nbformat": 4,
 "nbformat_minor": 2
}
