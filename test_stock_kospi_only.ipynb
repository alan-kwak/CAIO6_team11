{
 "cells": [
  {
   "cell_type": "code",
   "execution_count": 166,
   "metadata": {},
   "outputs": [],
   "source": [
    "import pandas as pd\n",
    "import numpy as np\n",
    "import matplotlib.pyplot as plt\n",
    "import torch\n",
    "import torch.nn as nn\n",
    "from torch.utils.data import DataLoader, Dataset \n",
    "\n",
    "import tqdm\n",
    "from torch.autograd import Variable\n",
    "import argparse\n",
    "import math\n",
    "import torch.nn.functional as F\n",
    "from sklearn.model_selection import train_test_split"
   ]
  },
  {
   "cell_type": "code",
   "execution_count": 167,
   "metadata": {},
   "outputs": [
    {
     "data": {
      "text/html": [
       "<div>\n",
       "<style scoped>\n",
       "    .dataframe tbody tr th:only-of-type {\n",
       "        vertical-align: middle;\n",
       "    }\n",
       "\n",
       "    .dataframe tbody tr th {\n",
       "        vertical-align: top;\n",
       "    }\n",
       "\n",
       "    .dataframe thead th {\n",
       "        text-align: right;\n",
       "    }\n",
       "</style>\n",
       "<table border=\"1\" class=\"dataframe\">\n",
       "  <thead>\n",
       "    <tr style=\"text-align: right;\">\n",
       "      <th></th>\n",
       "      <th>Date</th>\n",
       "      <th>S&amp;P</th>\n",
       "      <th>currency</th>\n",
       "      <th>gold</th>\n",
       "      <th>kospi</th>\n",
       "    </tr>\n",
       "  </thead>\n",
       "  <tbody>\n",
       "    <tr>\n",
       "      <th>0</th>\n",
       "      <td>2003-12-01</td>\n",
       "      <td>1070.119995</td>\n",
       "      <td>1198.400024</td>\n",
       "      <td>402.700012</td>\n",
       "      <td>807.390015</td>\n",
       "    </tr>\n",
       "    <tr>\n",
       "      <th>1</th>\n",
       "      <td>2003-12-02</td>\n",
       "      <td>1066.619995</td>\n",
       "      <td>1195.000000</td>\n",
       "      <td>403.700012</td>\n",
       "      <td>807.780029</td>\n",
       "    </tr>\n",
       "    <tr>\n",
       "      <th>2</th>\n",
       "      <td>2003-12-03</td>\n",
       "      <td>1064.729980</td>\n",
       "      <td>1192.500000</td>\n",
       "      <td>403.899994</td>\n",
       "      <td>808.340027</td>\n",
       "    </tr>\n",
       "    <tr>\n",
       "      <th>3</th>\n",
       "      <td>2003-12-04</td>\n",
       "      <td>1069.719971</td>\n",
       "      <td>1190.099976</td>\n",
       "      <td>403.299988</td>\n",
       "      <td>805.130005</td>\n",
       "    </tr>\n",
       "    <tr>\n",
       "      <th>4</th>\n",
       "      <td>2003-12-05</td>\n",
       "      <td>1061.500000</td>\n",
       "      <td>1184.699951</td>\n",
       "      <td>406.399994</td>\n",
       "      <td>789.409973</td>\n",
       "    </tr>\n",
       "  </tbody>\n",
       "</table>\n",
       "</div>"
      ],
      "text/plain": [
       "         Date          S&P     currency        gold       kospi\n",
       "0  2003-12-01  1070.119995  1198.400024  402.700012  807.390015\n",
       "1  2003-12-02  1066.619995  1195.000000  403.700012  807.780029\n",
       "2  2003-12-03  1064.729980  1192.500000  403.899994  808.340027\n",
       "3  2003-12-04  1069.719971  1190.099976  403.299988  805.130005\n",
       "4  2003-12-05  1061.500000  1184.699951  406.399994  789.409973"
      ]
     },
     "execution_count": 167,
     "metadata": {},
     "output_type": "execute_result"
    }
   ],
   "source": [
    "df = pd.read_csv('./total.csv')\n",
    "df.head()"
   ]
  },
  {
   "cell_type": "code",
   "execution_count": 168,
   "metadata": {},
   "outputs": [
    {
     "data": {
      "text/plain": [
       "((4256,), (1065,))"
      ]
     },
     "execution_count": 168,
     "metadata": {},
     "output_type": "execute_result"
    }
   ],
   "source": [
    "# Gaussian transformation\n",
    "\n",
    "mean_k = df['kospi'].mean()\n",
    "var_k = df['kospi'].var()\n",
    "\n",
    "df_k = df['kospi'].copy()\n",
    "df_k = df_k.apply(lambda x: (x - mean_k)/var_k)\n",
    "\n",
    "# train-test split\n",
    "train_data = df_k.iloc[:int(len(df_k) * 0.8)]\n",
    "test_data = df_k.iloc[int(len(df_k) * 0.8):]\n",
    "\n",
    "train_data.shape, test_data.shape"
   ]
  },
  {
   "cell_type": "code",
   "execution_count": 169,
   "metadata": {},
   "outputs": [],
   "source": [
    "class Stockdataset(Dataset):\n",
    "    def __init__(self, data, input_size=128, day_interval=2):\n",
    "        self.data = data\n",
    "        self.len = len(data)\n",
    "        start_pos = (self.len - input_size -1) % day_interval\n",
    "        print(self.len, start_pos, (self.len - input_size -1) // day_interval)\n",
    "        X = []\n",
    "        Y = []\n",
    "        for i in range((self.len - input_size -1) // day_interval + 1):  # check iteration number \n",
    "            start = start_pos + i * day_interval\n",
    "            end = start + input_size    # -1 due to slicing loc not iloc\n",
    "            x_num = df_k.iloc[start:end].to_numpy()\n",
    "            X.append(x_num)\n",
    "            Y.append(df_k.iloc[end + 1])\n",
    "        self.x = X\n",
    "        self.y = Y\n",
    "        self.len = len(X)\n",
    "        # print(start, end)\n",
    "\n",
    "    def __len__(self):\n",
    "        return self.len\n",
    "\n",
    "    def __getitem__(self, index):\n",
    "        return self.x[index], self.y[index]"
   ]
  },
  {
   "cell_type": "code",
   "execution_count": 170,
   "metadata": {},
   "outputs": [],
   "source": [
    "IN_DIM = 128\n",
    "DAY_INT = 2\n",
    "BATCH_SIZE = 64"
   ]
  },
  {
   "cell_type": "code",
   "execution_count": 171,
   "metadata": {},
   "outputs": [
    {
     "name": "stdout",
     "output_type": "stream",
     "text": [
      "4256 1 2063\n",
      "1065 0 468\n",
      "(array([-0.00388298, -0.00388164, -0.00387972, -0.00389074, -0.00394472,\n",
      "       -0.00396055, -0.00395179, -0.00392676, -0.00393881, -0.00388748,\n",
      "       -0.00383227, -0.00387131, -0.00390805, -0.0038826 , -0.0038699 ,\n",
      "       -0.00389277, -0.0039019 , -0.00393394, -0.00393394, -0.00394664,\n",
      "       -0.00393431, -0.00387158, -0.00387158, -0.00387158, -0.00383536,\n",
      "       -0.00382561, -0.00382791, -0.00381541, -0.00382543, -0.00375292,\n",
      "       -0.00373396, -0.00374207, -0.00373798, -0.00375158, -0.00374372,\n",
      "       -0.00371333, -0.00369764, -0.00369764, -0.00369764, -0.00369764,\n",
      "       -0.0036713 , -0.00369194, -0.00370375, -0.00372476, -0.00374183,\n",
      "       -0.00371989, -0.00377146, -0.00378646, -0.00376785, -0.00373589,\n",
      "       -0.00368596, -0.00367899, -0.00364624, -0.00364071, -0.00362618,\n",
      "       -0.00362927, -0.00361719, -0.00364363, -0.003628  , -0.00364229,\n",
      "       -0.00364218, -0.00368658, -0.00367875, -0.00368565, -0.00362193,\n",
      "       -0.00362193, -0.00356771, -0.00357938, -0.00353948, -0.00354652,\n",
      "       -0.00356465, -0.00359391, -0.00364733, -0.00366824, -0.0037408 ,\n",
      "       -0.00372892, -0.00373623, -0.00365983, -0.00365832, -0.00362223,\n",
      "       -0.00368967, -0.00368116, -0.00369643, -0.00372507, -0.00368878,\n",
      "       -0.00365197, -0.00365612, -0.00363195, -0.00362423, -0.003621  ,\n",
      "       -0.003621  , -0.00354374, -0.0035309 , -0.00350711, -0.00354632,\n",
      "       -0.00350024, -0.00350446, -0.00350899, -0.00350899, -0.00356884,\n",
      "       -0.00355779, -0.0035001 , -0.00346216, -0.00348256, -0.00344118,\n",
      "       -0.00349722, -0.00351188, -0.00355871, -0.00364943, -0.00369259,\n",
      "       -0.00368136, -0.00367666, -0.00367666, -0.00377898, -0.00377534,\n",
      "       -0.00394036, -0.00393919, -0.00384968, -0.00394225, -0.00401665,\n",
      "       -0.00415221, -0.00410754, -0.00398407, -0.00401895, -0.00395519,\n",
      "       -0.00390959, -0.00396309, -0.00396309]), -0.0038516676838873465)\n"
     ]
    }
   ],
   "source": [
    "train_dataset = Stockdataset(train_data, input_size=IN_DIM, day_interval=DAY_INT)\n",
    "train_dataloader = DataLoader(train_dataset, batch_size=BATCH_SIZE, shuffle=True)\n",
    "\n",
    "test_dataset = Stockdataset(test_data, input_size=IN_DIM, day_interval=DAY_INT)\n",
    "test_dataloader = DataLoader(test_dataset, batch_size=BATCH_SIZE, shuffle=True)\n",
    "print(next(iter(test_dataset)))"
   ]
  },
  {
   "cell_type": "code",
   "execution_count": 172,
   "metadata": {},
   "outputs": [
    {
     "data": {
      "text/plain": [
       "128"
      ]
     },
     "execution_count": 172,
     "metadata": {},
     "output_type": "execute_result"
    }
   ],
   "source": [
    "len(test_dataset[0][0])"
   ]
  },
  {
   "cell_type": "code",
   "execution_count": 173,
   "metadata": {},
   "outputs": [],
   "source": [
    "class TFModel(nn.Module):\n",
    "    def __init__(self, iw, ow, d_model, nhead, nlayers, dropout=0.2):\n",
    "        super(TFModel, self).__init__()\n",
    "        self.encoder_layer = nn.TransformerEncoderLayer(d_model=d_model, nhead=nhead, dropout=dropout)\n",
    "        self.transformer_encoder = nn.TransformerEncoder(self.encoder_layer, num_layers=nlayers) \n",
    "        self.pos_encoder = PositionalEncoding(d_model, dropout)\n",
    "\n",
    "        self.encoder = nn.Sequential(\n",
    "            nn.Linear(iw, d_model//2),\n",
    "            nn.ReLU(),\n",
    "            nn.Linear(d_model//2, d_model)\n",
    "        )\n",
    "        \n",
    "        self.linear =  nn.Sequential(\n",
    "            nn.Linear(d_model, d_model//2),\n",
    "            nn.ReLU(),\n",
    "            nn.Linear(d_model//2, iw)\n",
    "        )\n",
    "\n",
    "        self.linear2 = nn.Sequential(\n",
    "            nn.Linear(iw, (iw+ow)//2),\n",
    "            nn.ReLU(),\n",
    "            nn.Linear((iw+ow)//2, ow)\n",
    "        ) \n",
    "\n",
    "    def generate_square_subsequent_mask(self, sz):\n",
    "        mask = (torch.triu(torch.ones(sz, sz)) == 1).transpose(0, 1)\n",
    "        mask = mask.float().masked_fill(mask == 0, float('-inf')).masked_fill(mask == 1, float(0.0))\n",
    "        return mask\n",
    "\n",
    "    def forward(self, src):\n",
    "        src = self.encoder(src)\n",
    "        src = self.pos_encoder(src)\n",
    "        output = self.transformer_encoder(src)\n",
    "        output = self.linear(output)\n",
    "        output = self.linear2(output)\n",
    "        return output\n",
    "\n",
    "class PositionalEncoding(nn.Module):\n",
    "    def __init__(self, d_model, dropout=0.1, max_len=5000):\n",
    "        super(PositionalEncoding, self).__init__()\n",
    "        self.dropout = nn.Dropout(p=dropout)\n",
    "\n",
    "        pe = torch.zeros(max_len, d_model)\n",
    "        position = torch.arange(0, max_len, dtype=torch.float).unsqueeze(1)\n",
    "        div_term = torch.exp(torch.arange(0, d_model, 2).float() * (-math.log(10000.0) / d_model))\n",
    "        pe[:, 0::2] = torch.sin(position * div_term)\n",
    "        pe[:, 1::2] = torch.cos(position * div_term)\n",
    "        pe = pe.unsqueeze(0).transpose(0, 1)\n",
    "        self.register_buffer('pe', pe)\n",
    "\n",
    "    def forward(self, x):\n",
    "        x = x + self.pe[:x.size(0), :]\n",
    "        return self.dropout(x)\n",
    "\n",
    "def gen_attention_mask(x):\n",
    "    mask = torch.eq(x, 0)\n",
    "    return mask"
   ]
  },
  {
   "cell_type": "code",
   "execution_count": 174,
   "metadata": {},
   "outputs": [
    {
     "name": "stderr",
     "output_type": "stream",
     "text": [
      "c:\\Users\\alan.kwak\\AppData\\Local\\Programs\\Python\\Python311\\Lib\\site-packages\\torch\\nn\\modules\\transformer.py:286: UserWarning: enable_nested_tensor is True, but self.use_nested_tensor is False because encoder_layer.self_attn.batch_first was not True(use batch_first for better inference performance)\n",
      "  warnings.warn(f\"enable_nested_tensor is True, but self.use_nested_tensor is False because {why_not_sparsity_fast_path}\")\n"
     ]
    }
   ],
   "source": [
    "device = torch.device(\"cuda\")\n",
    "lr = 1e-4\n",
    "model = TFModel(IN_DIM, 1, 256, 8, 4, 0.1).to(device)\n",
    "criterion = nn.MSELoss()\n",
    "optimizer = torch.optim.Adam(model.parameters(), lr=lr)"
   ]
  },
  {
   "cell_type": "code",
   "execution_count": 175,
   "metadata": {},
   "outputs": [
    {
     "name": "stderr",
     "output_type": "stream",
     "text": [
      "  0%|          | 0/1000 [00:00<?, ?it/s]c:\\Users\\alan.kwak\\AppData\\Local\\Programs\\Python\\Python311\\Lib\\site-packages\\torch\\nn\\modules\\loss.py:535: UserWarning: Using a target size (torch.Size([64])) that is different to the input size (torch.Size([64, 64, 1])). This will likely lead to incorrect results due to broadcasting. Please ensure they have the same size.\n",
      "  return F.mse_loss(input, target, reduction=self.reduction)\n",
      "c:\\Users\\alan.kwak\\AppData\\Local\\Programs\\Python\\Python311\\Lib\\site-packages\\torch\\nn\\modules\\loss.py:535: UserWarning: Using a target size (torch.Size([16])) that is different to the input size (torch.Size([16, 16, 1])). This will likely lead to incorrect results due to broadcasting. Please ensure they have the same size.\n",
      "  return F.mse_loss(input, target, reduction=self.reduction)\n",
      "loss: 0.000002: 100%|██████████| 1000/1000 [21:56<00:00,  1.32s/it]\n"
     ]
    }
   ],
   "source": [
    "epoch = 1000\n",
    "model.train()\n",
    "progress = tqdm.tqdm(range(epoch))\n",
    "for i in progress:\n",
    "    batchloss = 0.0\n",
    "    for (inputs, outputs) in train_dataloader:\n",
    "        optimizer.zero_grad()\n",
    "        # src_mask = model.generate_square_subsequent_mask(inputs.shape[1]).to(device)\n",
    "        result = model(inputs.float().to(device))\n",
    "        loss = criterion(result, outputs.float().to(device))\n",
    "        loss.backward()\n",
    "        optimizer.step()\n",
    "        batchloss += loss\n",
    "    progress.set_description(\"loss: {:0.6f}\".format(batchloss.cpu().item() / len(train_dataloader)))"
   ]
  },
  {
   "cell_type": "code",
   "execution_count": 176,
   "metadata": {},
   "outputs": [],
   "source": [
    "def evaluate():\n",
    "    # result = []\n",
    "    # for (inputs, outputs) in test_dataloader:\n",
    "    #     model.eval()\n",
    "    #     inputs = inputs.float().to(device)\n",
    "    #     # src_mask = model.generate_square_subsequent_mask(input.shape[1]).to(device)\n",
    "    #     predictions = model(inputs)\n",
    "    #     result = predictions.detach().cpu().numpy()\n",
    "    #     break\n",
    "    # return result\n",
    "    input = next(iter(test_dataloader))[0].float().to(device)\n",
    "    pred = model(input)\n",
    "    return pred.detach().cpu().numpy()"
   ]
  },
  {
   "cell_type": "code",
   "execution_count": 177,
   "metadata": {},
   "outputs": [
    {
     "name": "stdout",
     "output_type": "stream",
     "text": [
      "[[[-0.00058189]\n",
      "  [-0.00068307]\n",
      "  [-0.00070772]\n",
      "  ...\n",
      "  [-0.00068707]\n",
      "  [-0.00063811]\n",
      "  [-0.00064987]]\n",
      "\n",
      " [[-0.00072058]\n",
      "  [-0.00068352]\n",
      "  [-0.00064973]\n",
      "  ...\n",
      "  [-0.00065833]\n",
      "  [-0.0007312 ]\n",
      "  [-0.00062883]]\n",
      "\n",
      " [[-0.00063354]\n",
      "  [-0.00059854]\n",
      "  [-0.00047506]\n",
      "  ...\n",
      "  [-0.00058198]\n",
      "  [-0.00066437]\n",
      "  [-0.0006587 ]]\n",
      "\n",
      " ...\n",
      "\n",
      " [[-0.00059712]\n",
      "  [-0.00060043]\n",
      "  [-0.0006438 ]\n",
      "  ...\n",
      "  [-0.00072129]\n",
      "  [-0.00054869]\n",
      "  [-0.00069826]]\n",
      "\n",
      " [[-0.00069606]\n",
      "  [-0.00061799]\n",
      "  [-0.00065076]\n",
      "  ...\n",
      "  [-0.00064815]\n",
      "  [-0.00068636]\n",
      "  [-0.00064157]]\n",
      "\n",
      " [[-0.00063594]\n",
      "  [-0.00065537]\n",
      "  [-0.00063639]\n",
      "  ...\n",
      "  [-0.0006718 ]\n",
      "  [-0.00062346]\n",
      "  [-0.00071334]]]\n"
     ]
    },
    {
     "data": {
      "text/plain": [
       "64"
      ]
     },
     "execution_count": 177,
     "metadata": {},
     "output_type": "execute_result"
    }
   ],
   "source": [
    "result = evaluate()\n",
    "\n",
    "# result = result.shape(-1, 64)\n",
    "# result = result[:-1] * var_k + mean_k\n",
    "# real = test_data.to_numpy() * var_k + mean_k\n",
    "\n",
    "\n",
    "# plt.figure(figsize=(20,5))\n",
    "# plt.plot(range(400,744),real[400:], label=\"real\")\n",
    "# plt.plot(range(744-24*7,744),result, label=\"predict\")\n",
    "# plt.legend()\n",
    "# plt.show()\n",
    "print(result)\n",
    "len(result)"
   ]
  }
 ],
 "metadata": {
  "kernelspec": {
   "display_name": "Python 3",
   "language": "python",
   "name": "python3"
  },
  "language_info": {
   "codemirror_mode": {
    "name": "ipython",
    "version": 3
   },
   "file_extension": ".py",
   "mimetype": "text/x-python",
   "name": "python",
   "nbconvert_exporter": "python",
   "pygments_lexer": "ipython3",
   "version": "3.11.8"
  }
 },
 "nbformat": 4,
 "nbformat_minor": 2
}
