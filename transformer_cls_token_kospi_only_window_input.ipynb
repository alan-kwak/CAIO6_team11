{
 "cells": [
  {
   "cell_type": "markdown",
   "metadata": {},
   "source": [
    "## 0. Import libraries"
   ]
  },
  {
   "cell_type": "code",
   "execution_count": 921,
   "metadata": {},
   "outputs": [],
   "source": [
    "import torch\n",
    "import pandas as pd\n",
    "import numpy as np\n",
    "import math, copy, time\n",
    "import torch.nn as nn\n",
    "import matplotlib.pyplot as plt\n",
    "import torch.nn.functional as F\n",
    "from torch.utils.data import DataLoader, Dataset \n",
    "from torch.optim import Adam\n",
    "import tqdm\n",
    "from sklearn.metrics import accuracy_score, precision_score, recall_score, confusion_matrix"
   ]
  },
  {
   "cell_type": "markdown",
   "metadata": {},
   "source": [
    "## 1. Load Data"
   ]
  },
  {
   "cell_type": "code",
   "execution_count": 922,
   "metadata": {},
   "outputs": [
    {
     "data": {
      "text/html": [
       "<div>\n",
       "<style scoped>\n",
       "    .dataframe tbody tr th:only-of-type {\n",
       "        vertical-align: middle;\n",
       "    }\n",
       "\n",
       "    .dataframe tbody tr th {\n",
       "        vertical-align: top;\n",
       "    }\n",
       "\n",
       "    .dataframe thead th {\n",
       "        text-align: right;\n",
       "    }\n",
       "</style>\n",
       "<table border=\"1\" class=\"dataframe\">\n",
       "  <thead>\n",
       "    <tr style=\"text-align: right;\">\n",
       "      <th></th>\n",
       "      <th>Date</th>\n",
       "      <th>Open</th>\n",
       "      <th>High</th>\n",
       "      <th>Low</th>\n",
       "      <th>Close</th>\n",
       "      <th>Adj Close</th>\n",
       "      <th>Volume</th>\n",
       "    </tr>\n",
       "  </thead>\n",
       "  <tbody>\n",
       "    <tr>\n",
       "      <th>6758</th>\n",
       "      <td>2024-05-17</td>\n",
       "      <td>2751.469971</td>\n",
       "      <td>2752.169922</td>\n",
       "      <td>2724.620117</td>\n",
       "      <td>2724.620117</td>\n",
       "      <td>2724.620117</td>\n",
       "      <td>575900</td>\n",
       "    </tr>\n",
       "    <tr>\n",
       "      <th>6759</th>\n",
       "      <td>2024-05-20</td>\n",
       "      <td>2741.239990</td>\n",
       "      <td>2756.409912</td>\n",
       "      <td>2734.639893</td>\n",
       "      <td>2742.139893</td>\n",
       "      <td>2742.139893</td>\n",
       "      <td>582100</td>\n",
       "    </tr>\n",
       "    <tr>\n",
       "      <th>6760</th>\n",
       "      <td>2024-05-21</td>\n",
       "      <td>2733.030029</td>\n",
       "      <td>2734.479980</td>\n",
       "      <td>2719.739990</td>\n",
       "      <td>2724.179932</td>\n",
       "      <td>2724.179932</td>\n",
       "      <td>560800</td>\n",
       "    </tr>\n",
       "    <tr>\n",
       "      <th>6761</th>\n",
       "      <td>2024-05-22</td>\n",
       "      <td>2723.459961</td>\n",
       "      <td>2733.070068</td>\n",
       "      <td>2707.870117</td>\n",
       "      <td>2723.459961</td>\n",
       "      <td>2723.459961</td>\n",
       "      <td>484700</td>\n",
       "    </tr>\n",
       "    <tr>\n",
       "      <th>6762</th>\n",
       "      <td>2024-05-23</td>\n",
       "      <td>2719.030029</td>\n",
       "      <td>2734.270020</td>\n",
       "      <td>2704.000000</td>\n",
       "      <td>2721.810059</td>\n",
       "      <td>2721.810059</td>\n",
       "      <td>428079</td>\n",
       "    </tr>\n",
       "  </tbody>\n",
       "</table>\n",
       "</div>"
      ],
      "text/plain": [
       "            Date         Open         High          Low        Close  \\\n",
       "6758  2024-05-17  2751.469971  2752.169922  2724.620117  2724.620117   \n",
       "6759  2024-05-20  2741.239990  2756.409912  2734.639893  2742.139893   \n",
       "6760  2024-05-21  2733.030029  2734.479980  2719.739990  2724.179932   \n",
       "6761  2024-05-22  2723.459961  2733.070068  2707.870117  2723.459961   \n",
       "6762  2024-05-23  2719.030029  2734.270020  2704.000000  2721.810059   \n",
       "\n",
       "        Adj Close  Volume  \n",
       "6758  2724.620117  575900  \n",
       "6759  2742.139893  582100  \n",
       "6760  2724.179932  560800  \n",
       "6761  2723.459961  484700  \n",
       "6762  2721.810059  428079  "
      ]
     },
     "execution_count": 922,
     "metadata": {},
     "output_type": "execute_result"
    }
   ],
   "source": [
    "df = pd.read_csv('./kospi.csv')\n",
    "df.tail()"
   ]
  },
  {
   "cell_type": "code",
   "execution_count": 923,
   "metadata": {},
   "outputs": [
    {
     "data": {
      "text/html": [
       "<div>\n",
       "<style scoped>\n",
       "    .dataframe tbody tr th:only-of-type {\n",
       "        vertical-align: middle;\n",
       "    }\n",
       "\n",
       "    .dataframe tbody tr th {\n",
       "        vertical-align: top;\n",
       "    }\n",
       "\n",
       "    .dataframe thead th {\n",
       "        text-align: right;\n",
       "    }\n",
       "</style>\n",
       "<table border=\"1\" class=\"dataframe\">\n",
       "  <thead>\n",
       "    <tr style=\"text-align: right;\">\n",
       "      <th></th>\n",
       "      <th>Date</th>\n",
       "      <th>kospi</th>\n",
       "      <th>kospi_shift</th>\n",
       "    </tr>\n",
       "  </thead>\n",
       "  <tbody>\n",
       "    <tr>\n",
       "      <th>0</th>\n",
       "      <td>1996-12-11</td>\n",
       "      <td>704.679993</td>\n",
       "      <td>689.380005</td>\n",
       "    </tr>\n",
       "    <tr>\n",
       "      <th>1</th>\n",
       "      <td>1996-12-12</td>\n",
       "      <td>689.380005</td>\n",
       "      <td>689.070007</td>\n",
       "    </tr>\n",
       "    <tr>\n",
       "      <th>2</th>\n",
       "      <td>1996-12-13</td>\n",
       "      <td>689.070007</td>\n",
       "      <td>673.919983</td>\n",
       "    </tr>\n",
       "    <tr>\n",
       "      <th>3</th>\n",
       "      <td>1996-12-16</td>\n",
       "      <td>673.919983</td>\n",
       "      <td>663.349976</td>\n",
       "    </tr>\n",
       "    <tr>\n",
       "      <th>4</th>\n",
       "      <td>1996-12-17</td>\n",
       "      <td>663.349976</td>\n",
       "      <td>661.390015</td>\n",
       "    </tr>\n",
       "  </tbody>\n",
       "</table>\n",
       "</div>"
      ],
      "text/plain": [
       "         Date       kospi  kospi_shift\n",
       "0  1996-12-11  704.679993   689.380005\n",
       "1  1996-12-12  689.380005   689.070007\n",
       "2  1996-12-13  689.070007   673.919983\n",
       "3  1996-12-16  673.919983   663.349976\n",
       "4  1996-12-17  663.349976   661.390015"
      ]
     },
     "execution_count": 923,
     "metadata": {},
     "output_type": "execute_result"
    }
   ],
   "source": [
    "df = df.loc[:, ['Date', 'Adj Close']]\n",
    "df['kospi_shift'] = df['Adj Close'].shift(-1)\n",
    "df.columns = ['Date', 'kospi', 'kospi_shift']\n",
    "\n",
    "df.head()"
   ]
  },
  {
   "cell_type": "code",
   "execution_count": 924,
   "metadata": {},
   "outputs": [
    {
     "name": "stdout",
     "output_type": "stream",
     "text": [
      "['Date' 'kospi' 'kospi_shift']\n"
     ]
    }
   ],
   "source": [
    "col_names = df.columns.values\n",
    "print(col_names)"
   ]
  },
  {
   "cell_type": "code",
   "execution_count": 925,
   "metadata": {},
   "outputs": [
    {
     "data": {
      "text/html": [
       "<div>\n",
       "<style scoped>\n",
       "    .dataframe tbody tr th:only-of-type {\n",
       "        vertical-align: middle;\n",
       "    }\n",
       "\n",
       "    .dataframe tbody tr th {\n",
       "        vertical-align: top;\n",
       "    }\n",
       "\n",
       "    .dataframe thead th {\n",
       "        text-align: right;\n",
       "    }\n",
       "</style>\n",
       "<table border=\"1\" class=\"dataframe\">\n",
       "  <thead>\n",
       "    <tr style=\"text-align: right;\">\n",
       "      <th></th>\n",
       "      <th>Date</th>\n",
       "      <th>kospi</th>\n",
       "      <th>kospi_shift</th>\n",
       "      <th>kospi_diff</th>\n",
       "    </tr>\n",
       "  </thead>\n",
       "  <tbody>\n",
       "    <tr>\n",
       "      <th>6758</th>\n",
       "      <td>2024-05-17</td>\n",
       "      <td>2724.620117</td>\n",
       "      <td>2742.139893</td>\n",
       "      <td>1</td>\n",
       "    </tr>\n",
       "    <tr>\n",
       "      <th>6759</th>\n",
       "      <td>2024-05-20</td>\n",
       "      <td>2742.139893</td>\n",
       "      <td>2724.179932</td>\n",
       "      <td>0</td>\n",
       "    </tr>\n",
       "    <tr>\n",
       "      <th>6760</th>\n",
       "      <td>2024-05-21</td>\n",
       "      <td>2724.179932</td>\n",
       "      <td>2723.459961</td>\n",
       "      <td>0</td>\n",
       "    </tr>\n",
       "    <tr>\n",
       "      <th>6761</th>\n",
       "      <td>2024-05-22</td>\n",
       "      <td>2723.459961</td>\n",
       "      <td>2721.810059</td>\n",
       "      <td>0</td>\n",
       "    </tr>\n",
       "    <tr>\n",
       "      <th>6762</th>\n",
       "      <td>2024-05-23</td>\n",
       "      <td>2721.810059</td>\n",
       "      <td>NaN</td>\n",
       "      <td>1</td>\n",
       "    </tr>\n",
       "  </tbody>\n",
       "</table>\n",
       "</div>"
      ],
      "text/plain": [
       "            Date        kospi  kospi_shift  kospi_diff\n",
       "6758  2024-05-17  2724.620117  2742.139893           1\n",
       "6759  2024-05-20  2742.139893  2724.179932           0\n",
       "6760  2024-05-21  2724.179932  2723.459961           0\n",
       "6761  2024-05-22  2723.459961  2721.810059           0\n",
       "6762  2024-05-23  2721.810059          NaN           1"
      ]
     },
     "execution_count": 925,
     "metadata": {},
     "output_type": "execute_result"
    }
   ],
   "source": [
    "df['kospi_diff'] = df['kospi_shift'] - df['kospi']\n",
    "df['kospi_diff'] = df['kospi_diff'].apply(lambda x: 0 if x < 0 else 1)\n",
    "df.tail()"
   ]
  },
  {
   "cell_type": "code",
   "execution_count": 926,
   "metadata": {},
   "outputs": [],
   "source": [
    "# df = df.drop(['kospi_shift'], axis=1)\n",
    "# df.tail()"
   ]
  },
  {
   "cell_type": "code",
   "execution_count": 927,
   "metadata": {},
   "outputs": [],
   "source": [
    "# global variables and hyperparameter\n",
    "IN_DIM = 128\n",
    "DAY_INT = 1\n",
    "BATCH_SIZE = 64\n",
    "SCALER = 'MINMAX'   # 'NORMAL'\n",
    "# SCALER = 'NORMAL'   # 'NORMAL'\n",
    "TRAIN_TEST_SPLIT = 0.95\n",
    "LR = 1e-4"
   ]
  },
  {
   "cell_type": "markdown",
   "metadata": {},
   "source": [
    "## 2. Split data train and test"
   ]
  },
  {
   "cell_type": "code",
   "execution_count": 928,
   "metadata": {},
   "outputs": [
    {
     "name": "stdout",
     "output_type": "stream",
     "text": [
      "['Date' 'kospi' 'kospi_shift']\n"
     ]
    },
    {
     "data": {
      "text/html": [
       "<div>\n",
       "<style scoped>\n",
       "    .dataframe tbody tr th:only-of-type {\n",
       "        vertical-align: middle;\n",
       "    }\n",
       "\n",
       "    .dataframe tbody tr th {\n",
       "        vertical-align: top;\n",
       "    }\n",
       "\n",
       "    .dataframe thead th {\n",
       "        text-align: right;\n",
       "    }\n",
       "</style>\n",
       "<table border=\"1\" class=\"dataframe\">\n",
       "  <thead>\n",
       "    <tr style=\"text-align: right;\">\n",
       "      <th></th>\n",
       "      <th>kospi</th>\n",
       "    </tr>\n",
       "  </thead>\n",
       "  <tbody>\n",
       "    <tr>\n",
       "      <th>mean</th>\n",
       "      <td>1566.202960</td>\n",
       "    </tr>\n",
       "    <tr>\n",
       "      <th>var</th>\n",
       "      <td>515801.468025</td>\n",
       "    </tr>\n",
       "    <tr>\n",
       "      <th>max</th>\n",
       "      <td>3305.209961</td>\n",
       "    </tr>\n",
       "    <tr>\n",
       "      <th>min</th>\n",
       "      <td>280.000000</td>\n",
       "    </tr>\n",
       "  </tbody>\n",
       "</table>\n",
       "</div>"
      ],
      "text/plain": [
       "              kospi\n",
       "mean    1566.202960\n",
       "var   515801.468025\n",
       "max     3305.209961\n",
       "min      280.000000"
      ]
     },
     "execution_count": 928,
     "metadata": {},
     "output_type": "execute_result"
    }
   ],
   "source": [
    "# train test split\n",
    "df_train = df.iloc[:int(len(df) * TRAIN_TEST_SPLIT), :]\n",
    "df_test = df.iloc[int(len(df) * TRAIN_TEST_SPLIT): , :]\n",
    "# print(df_train.tail())\n",
    "# print(df_test.head())\n",
    "print(col_names)\n",
    "\n",
    "scale_params = pd.DataFrame(index=['mean', 'var', 'max', 'min'])\n",
    "# print(scale_params)\n",
    "for i in col_names[1:-1]:\n",
    "    # print(df_train[i])\n",
    "    scale_params[i] = [df_train[i].mean(), df_train[i].var(), df_train[i].max(), df_train[i].min()]\n",
    "scale_params"
   ]
  },
  {
   "cell_type": "code",
   "execution_count": 929,
   "metadata": {},
   "outputs": [
    {
     "data": {
      "text/html": [
       "<div>\n",
       "<style scoped>\n",
       "    .dataframe tbody tr th:only-of-type {\n",
       "        vertical-align: middle;\n",
       "    }\n",
       "\n",
       "    .dataframe tbody tr th {\n",
       "        vertical-align: top;\n",
       "    }\n",
       "\n",
       "    .dataframe thead th {\n",
       "        text-align: right;\n",
       "    }\n",
       "</style>\n",
       "<table border=\"1\" class=\"dataframe\">\n",
       "  <thead>\n",
       "    <tr style=\"text-align: right;\">\n",
       "      <th></th>\n",
       "      <th>kospi</th>\n",
       "      <th>0</th>\n",
       "      <th>1</th>\n",
       "    </tr>\n",
       "  </thead>\n",
       "  <tbody>\n",
       "    <tr>\n",
       "      <th>6758</th>\n",
       "      <td>0.808083</td>\n",
       "      <td>0.0</td>\n",
       "      <td>1.0</td>\n",
       "    </tr>\n",
       "    <tr>\n",
       "      <th>6759</th>\n",
       "      <td>0.813874</td>\n",
       "      <td>1.0</td>\n",
       "      <td>0.0</td>\n",
       "    </tr>\n",
       "    <tr>\n",
       "      <th>6760</th>\n",
       "      <td>0.807937</td>\n",
       "      <td>1.0</td>\n",
       "      <td>0.0</td>\n",
       "    </tr>\n",
       "    <tr>\n",
       "      <th>6761</th>\n",
       "      <td>0.807699</td>\n",
       "      <td>1.0</td>\n",
       "      <td>0.0</td>\n",
       "    </tr>\n",
       "    <tr>\n",
       "      <th>6762</th>\n",
       "      <td>0.807154</td>\n",
       "      <td>0.0</td>\n",
       "      <td>1.0</td>\n",
       "    </tr>\n",
       "  </tbody>\n",
       "</table>\n",
       "</div>"
      ],
      "text/plain": [
       "         kospi    0    1\n",
       "6758  0.808083  0.0  1.0\n",
       "6759  0.813874  1.0  0.0\n",
       "6760  0.807937  1.0  0.0\n",
       "6761  0.807699  1.0  0.0\n",
       "6762  0.807154  0.0  1.0"
      ]
     },
     "execution_count": 929,
     "metadata": {},
     "output_type": "execute_result"
    }
   ],
   "source": [
    "# scaling\n",
    "train_data = pd.DataFrame()\n",
    "test_data = pd.DataFrame()\n",
    "col_range = col_names[1:-1]\n",
    "# col_range = ['currency', 'kospi']\n",
    "if SCALER == 'MINMAX':\n",
    "    for i in col_range:\n",
    "        train_data[i] = df_train[i].apply(lambda x: (x - scale_params.loc['min', i])/(scale_params.loc['max', i] - scale_params.loc['min', i]))\n",
    "        test_data[i] = df_test[i].apply(lambda x: (x - scale_params.loc['min', i])/(scale_params.loc['max', i] - scale_params.loc['min', i]))\n",
    "elif SCALER == 'NORMAL':\n",
    "    for i in col_range:\n",
    "        train_data[i] = df_train[i].apply(lambda x: (x - scale_params.loc['mean', i])/scale_params.loc['var', i])\n",
    "        test_data[i] = df_test[i].apply(lambda x: (x - scale_params.loc['mean', i])/scale_params.loc['var', i])\n",
    "train_data = pd.concat([train_data['kospi'], pd.get_dummies(df_train['kospi_diff'].astype('str')).astype('float')], axis=1)\n",
    "# test_data['kospi_diff'] = df_test['kospi_diff']\n",
    "test_data = pd.concat([test_data['kospi'], pd.get_dummies(df_test['kospi_diff'].astype('str')).astype('float')], axis=1)\n",
    "test_data.tail()"
   ]
  },
  {
   "cell_type": "code",
   "execution_count": 930,
   "metadata": {},
   "outputs": [],
   "source": [
    "class StockDataset(Dataset):\n",
    "    def __init__(self, x, y, input_window=128, output_window=1, stride=1):\n",
    "        #총 데이터의 개수\n",
    "        L = y.shape[0]\n",
    "        #stride씩 움직일 때 생기는 총 sample의 개수\n",
    "        num_samples = (L - input_window - output_window) // stride + 1\n",
    "        start_pos = (L - input_window - output_window) % stride\n",
    "        iter_times = (L - input_window - output_window) // stride + 1\n",
    "        print(y.shape, num_samples, iter_times, start_pos, L)\n",
    "\n",
    "        #input과 output\n",
    "        X = np.zeros([input_window, num_samples])\n",
    "        Y = np.zeros([output_window, num_samples, y.shape[1]])\n",
    "\n",
    "        for i in np.arange(num_samples):\n",
    "            start_x = start_pos + i * stride\n",
    "            end_x = start_x + input_window\n",
    "            X[:,i] = x[start_x:end_x]\n",
    "\n",
    "            # end_y = start_y + output_window\n",
    "            # print(i, start_x, end_x)\n",
    "            Y[:,i] = y.iloc[end_x: end_x + output_window, :]\n",
    "        # print(X.shape, Y.shape)\n",
    "        X = X.reshape(X.shape[0], X.shape[1], 1).transpose((1,0,2))\n",
    "        Y = Y.reshape(Y.shape[0], Y.shape[1], 2).transpose((1,0,2))\n",
    "        print(X.shape, Y.shape)\n",
    "        self.x = X\n",
    "        self.y = Y\n",
    "        \n",
    "        self.len = len(X)\n",
    "    def __getitem__(self, i):\n",
    "        return self.x[i], self.y[i]\n",
    "    def __len__(self):\n",
    "        return self.len"
   ]
  },
  {
   "cell_type": "code",
   "execution_count": 931,
   "metadata": {},
   "outputs": [
    {
     "name": "stdout",
     "output_type": "stream",
     "text": [
      "      kospi    0    1\n",
      "0  0.140380  1.0  0.0\n",
      "1  0.135323  1.0  0.0\n",
      "2  0.135220  1.0  0.0\n",
      "(6424, 2) 6296 6296 0 6424\n",
      "(6296, 128, 1) (6296, 1, 2)\n"
     ]
    }
   ],
   "source": [
    "print(train_data.iloc[0:3, :])\n",
    "train_dataset = StockDataset(train_data['kospi'], train_data.loc[:, ['0', '1']], 128, 1, 1)\n",
    "# (5072, 5)"
   ]
  },
  {
   "cell_type": "markdown",
   "metadata": {},
   "source": [
    "### 3. create dataloader"
   ]
  },
  {
   "cell_type": "code",
   "execution_count": 932,
   "metadata": {},
   "outputs": [
    {
     "name": "stdout",
     "output_type": "stream",
     "text": [
      "(6424, 2) 6296 6296 0 6424\n",
      "(6296, 128, 1) (6296, 1, 2)\n",
      "(339, 2) 211 211 0 339\n",
      "(211, 128, 1) (211, 1, 2)\n",
      "99 6296 (128, 1) (1, 2)\n"
     ]
    }
   ],
   "source": [
    "train_dataset = StockDataset(train_data['kospi'], train_data.loc[:, ['0', '1']], 128, 1, 1)\n",
    "train_dataloader = DataLoader(train_dataset, batch_size=BATCH_SIZE, shuffle=True)\n",
    "\n",
    "test_dataset = StockDataset(test_data['kospi'], test_data.loc[:, ['0', '1']], 128, 1, 1)\n",
    "test_dataloader = DataLoader(test_dataset, batch_size=BATCH_SIZE, shuffle=False)\n",
    "a1 = next(iter(train_dataset))\n",
    "print(len(train_dataloader), len(train_dataloader.dataset), a1[0].shape, a1[1].shape)\n",
    "# print(a1)"
   ]
  },
  {
   "cell_type": "markdown",
   "metadata": {},
   "source": [
    "## 4. Make a Transformer model"
   ]
  },
  {
   "cell_type": "markdown",
   "metadata": {},
   "source": [
    "In this sections, we will implement the building blocks of the transformer: [Positional encoding](#1a), [Multi-head attention](#1b) and [Position wise feedforward network](#1c)"
   ]
  },
  {
   "cell_type": "markdown",
   "metadata": {},
   "source": [
    "### a. Sinusoidal Positional Encoding\n",
    "<a id='1a'></a>\n",
    "In this section, we will implement sinusoidal positional encoding\n",
    "\n",
    "$$\\begin{align}\n",
    "PE(pos, 2i) &= \\sin \\left( pos / 10000^{2i / d_{model}} \\right)  \\\\\n",
    "PE(pos, 2i+1) &= \\cos \\left( pos / 10000^{2i / d_{model}} \\right)  \n",
    "\\end{align}$$"
   ]
  },
  {
   "cell_type": "code",
   "execution_count": 933,
   "metadata": {},
   "outputs": [],
   "source": [
    "class PositionalEncoding(nn.Module):\n",
    "    def __init__(self, d_model , max_len, device):\n",
    "        \"\"\"\n",
    "        d_model: dimension of model\n",
    "        max_len: maximum sequence length\n",
    "        device: 'cuda' or 'cpu'\n",
    "        \"\"\"\n",
    "        super().__init__()\n",
    "        self.encoding = torch.zeros(max_len, d_model, device=device)\n",
    "        self.encoding.required_grad = False\n",
    "\n",
    "        pos = torch.arange(0, max_len, device=device)\n",
    "        pos = pos.float().unsqueeze(dim=1) # [a, b, ...] -> [[a], [b], [c], ...]\n",
    "\n",
    "        _2i = torch.arange(0, d_model, step=2, device=device) # i is d_model and step=2 means 2*i\n",
    "        self.encoding[:, 0::2] = torch.sin(pos / (10000 ** (_2i / d_model)))\n",
    "        self.encoding[:, 1::2] = torch.cos(pos / (10000 ** (_2i / d_model)))\n",
    "    \n",
    "    def forward(self, x):\n",
    "        # x: Tensor, shape ``[batch_size, seq_len, embedding_dim]\n",
    "        # d_model = 512\n",
    "        # print(x.size())\n",
    "        batch_size, seq_len = x.size()[:2]\n",
    "        pe = self.encoding[:seq_len, :]\n",
    "        return pe"
   ]
  },
  {
   "cell_type": "code",
   "execution_count": 934,
   "metadata": {},
   "outputs": [
    {
     "data": {
      "image/png": "[encoded data removed]",
      "text/plain": [
       "<Figure size 640x480 with 2 Axes>"
      ]
     },
     "metadata": {},
     "output_type": "display_data"
    }
   ],
   "source": [
    "sample_pos_encoding = PositionalEncoding(128, 50, device='cpu')\n",
    "\n",
    "plt.pcolormesh(sample_pos_encoding.encoding.numpy(), cmap='RdBu')\n",
    "plt.xlabel('Depth')\n",
    "plt.ylabel('Position')\n",
    "plt.colorbar()\n",
    "plt.show()\n"
   ]
  },
  {
   "cell_type": "markdown",
   "metadata": {},
   "source": [
    "### b. Scaled dot product attention"
   ]
  },
  {
   "cell_type": "markdown",
   "metadata": {},
   "source": [
    "__Scaled dot product:__\n",
    "![picture](./assets/transformer_2.png)"
   ]
  },
  {
   "cell_type": "code",
   "execution_count": 935,
   "metadata": {},
   "outputs": [],
   "source": [
    "class ScaleDotProductAttention(nn.Module):\n",
    "    \"\"\"\n",
    "    Query: given setence\n",
    "    Key: same with query(encoder)\n",
    "    Value: same with key\n",
    "    \"\"\"\n",
    "\n",
    "    def __init__(self):\n",
    "        super().__init__()\n",
    "        self.softmax = nn.Softmax(dim=-1)\n",
    "    \n",
    "    def forward(self, q, k, v, mask=None, e=1e-12):\n",
    "        # input: 4 dimension tensor\n",
    "        # [batch_size, head, length, d_tensor]\n",
    "        batch_size, head, length, d_tensor = k.size()\n",
    "\n",
    "        # 1. q @ K.T\n",
    "        k_t = k.transpose(2, 3)\n",
    "        score = (q @ k_t) / math.sqrt(d_tensor)\n",
    "\n",
    "        # 2. masking(decoder self attention only)\n",
    "        if mask is not None:\n",
    "            score = score.masked_fill(mask == 0, -10000)\n",
    "        \n",
    "        # 3. pass them softmax to [0, 1] range\n",
    "        score = self.softmax(score)\n",
    "\n",
    "        # 4. multiply with value\n",
    "        v = score @ v\n",
    "\n",
    "        return v, score"
   ]
  },
  {
   "cell_type": "markdown",
   "metadata": {},
   "source": [
    "### c. MultiheadAttention\n",
    "<a id='1b'></a>\n",
    "Equation:\n",
    "\n",
    "$$\\begin{align} \\text{MultiHead}(Q, K, V) &= \\text{Concat}(head_1, ...., head_h) W^O \\\\\n",
    "\\text{where head}_i &= \\text{Attention} \\left( QW^Q_i, K W^K_i, VW^v_i \\right)\n",
    "\\end{align}$$"
   ]
  },
  {
   "cell_type": "code",
   "execution_count": 936,
   "metadata": {},
   "outputs": [],
   "source": [
    "class MultiHeadAttention(nn.Module):\n",
    "    def __init__(self, d_model, n_head):\n",
    "        super().__init__()\n",
    "        self.n_head = n_head\n",
    "        self.attention = ScaleDotProductAttention()\n",
    "        self.w_q = nn.Linear(d_model, d_model)\n",
    "        self.w_k = nn.Linear(d_model, d_model)\n",
    "        self.w_v = nn.Linear(d_model, d_model)\n",
    "        self.w_concat = nn.Linear(d_model, d_model)\n",
    "    \n",
    "    def forward(self, q, k, v, mask=None):\n",
    "        # 1. dot product with weight matrices\n",
    "        q, k, v = self.w_q(q), self.w_k(k), self.w_v(v)\n",
    "\n",
    "        # 2. split tensor by heads\n",
    "        q, k, v = self.split(q), self.split(k), self.split(v)\n",
    "\n",
    "        # 3. scale dot product\n",
    "        out, attention = self.attention(q, k, v, mask=mask)\n",
    "\n",
    "        # 4. concat and pass to linear layer\n",
    "        out = self.concat(out)\n",
    "        out = self.w_concat(out)\n",
    "\n",
    "        return out\n",
    "    \n",
    "    def split(self, tensor):\n",
    "        '''\n",
    "        split tensor by heads\n",
    "        tensor: [batch_size, seq_len, d_model]\n",
    "        return: [batch_size, head, seq_len, d_tensor] --- d_model = head * d_tensor\n",
    "        '''\n",
    "        batch_size, seq_len, d_model = tensor.size()\n",
    "        d_tensor = d_model // self.n_head\n",
    "        tensor = tensor.view(batch_size, seq_len, self.n_head, d_tensor).transpose(1, 2)\n",
    "        # split by # of heads\n",
    "        return tensor\n",
    "    \n",
    "    def concat(self, tensor):\n",
    "        '''\n",
    "        inverse of split(tensor)\n",
    "        tensor: [batch_size, head, seq_len, d_tensor]\n",
    "        return: [batch_size, seq_len, d_model]\n",
    "        '''\n",
    "        batch_size, head, seq_len, d_tensor = tensor.size()\n",
    "        d_model = head * d_tensor\n",
    "\n",
    "        tensor = tensor.transpose(1, 2).contiguous().view(batch_size, seq_len, d_model)\n",
    "        return tensor\n",
    "        "
   ]
  },
  {
   "cell_type": "markdown",
   "metadata": {},
   "source": [
    "### d. Position-wise feed forward network\n",
    "<a id='1c'></a>\n",
    "In this section, we will implement position-wise feed forward network\n",
    "\n",
    "$$\\text{FFN}(x) = \\max \\left(0, x W_1 + b_1 \\right) W_2 + b_2$$"
   ]
  },
  {
   "cell_type": "code",
   "execution_count": 937,
   "metadata": {},
   "outputs": [],
   "source": [
    "class PositionwiseFeedForward(nn.Module):\n",
    "    def __init__(self, d_model, hidden, dropout):\n",
    "        super().__init__()\n",
    "        self.linear1 = nn.Linear(d_model, hidden)\n",
    "        self.linear2 = nn.Linear(hidden, d_model)\n",
    "        self.relu = nn.ReLU()\n",
    "        self.dropout = nn.Dropout(p=dropout)\n",
    "    \n",
    "    def forward(self, x):\n",
    "        x = self.linear1(x)\n",
    "        x = self.relu(x)\n",
    "        x = self.dropout(x)\n",
    "        x = self.linear2(x)\n",
    "        return x"
   ]
  },
  {
   "cell_type": "markdown",
   "metadata": {},
   "source": [
    "### e. Layer Normalization"
   ]
  },
  {
   "cell_type": "code",
   "execution_count": 938,
   "metadata": {},
   "outputs": [],
   "source": [
    "class LayerNorm(nn.Module):\n",
    "    def __init__(self, d_model, eps=1e-12):\n",
    "        super().__init__()\n",
    "        self.gamma = nn.Parameter(torch.ones(d_model))\n",
    "        self.beta = nn.Parameter(torch.zeros(d_model))\n",
    "        self.eps = eps\n",
    "    \n",
    "    def forward(self, x):\n",
    "        mean = x.mean(-1, keepdim=True)\n",
    "        var = x.var(-1, keepdim=True)\n",
    "        # -1 to get mean and var for the last dimension(d_model)\n",
    "\n",
    "        out = (x - mean) / torch.sqrt(var + self.eps)\n",
    "        out = self.gamma * out + self.beta\n",
    "        return out"
   ]
  },
  {
   "cell_type": "markdown",
   "metadata": {},
   "source": [
    "## 5. Embedding input data\n",
    "\n",
    "make 1 input dimension data to d_model dimentions"
   ]
  },
  {
   "cell_type": "code",
   "execution_count": 939,
   "metadata": {},
   "outputs": [],
   "source": [
    "class LinearEmbedding(nn.Module):\n",
    "    def __init__(self, dropout, d_model):\n",
    "        '''\n",
    "        data: [batch_size, seq_len, 1]\n",
    "        In this model, only kospi input window\n",
    "        '''\n",
    "        super().__init__()\n",
    "        self.d_model = d_model\n",
    "        self.linear1 = nn.Linear(1, d_model//2)\n",
    "        self.linear2 = nn.Linear(d_model//2, d_model)\n",
    "        self.relu = nn.ReLU()\n",
    "        self.dropout = nn.Dropout(p=dropout)\n",
    "        self.layernorm1 = LayerNorm(d_model//2)\n",
    "        self.layernorm2 = LayerNorm(d_model)\n",
    "    \n",
    "    def forward(self, x):\n",
    "        '''\n",
    "        input: [batch_size, seq_len, 1]\n",
    "        output: [batch_size, seq_len, d_model]\n",
    "        '''\n",
    "        batch_size, sel_len, x_len = x.size()\n",
    "        cls_token = torch.rand((x.size()[0], x.size()[1], x.size()[-1]), device=x.device)\n",
    "        # print(cls_token.size(), x.size()) # torch.Size([64, 128, 1]) torch.Size([64, 128, 1])\n",
    "        # for i in range(batch_size):\n",
    "        #     print(x[i, :2, :])\n",
    "        # x = torch.concat([cls_token, x], dim=2) # add CLS token for attention. pos [ , , , -1]\n",
    "        x[:, 0, 0] = cls_token[:, 0, 0]\n",
    "        # print(x.size())\n",
    "        # for i in range(batch_size):\n",
    "        #     print(x[i, :2, :])\n",
    "        # residual = x\n",
    "        x = self.linear1(x)\n",
    "        x = self.relu(x)\n",
    "        x = self.dropout(x)\n",
    "        x = self.layernorm1(x)\n",
    "        x = self.linear2(x)\n",
    "        x = self.relu(x)\n",
    "        x = self.layernorm2(x)\n",
    "        # print('linear embedding output shape:', x.size())\n",
    "        return x\n"
   ]
  },
  {
   "cell_type": "code",
   "execution_count": 940,
   "metadata": {},
   "outputs": [],
   "source": [
    "class EmbeddingAttention(nn.Module):\n",
    "    def __init__(self, model_d):\n",
    "        super().__init__()\n",
    "        self.w_q = nn.Linear(model_d, model_d)\n",
    "        self.w_k = nn.Linear(model_d, model_d)\n",
    "        self.w_v = nn.Linear(model_d, model_d)\n",
    "        self.softmax = nn.Softmax(dim=-1)\n",
    "    \n",
    "    def forward(self, q, k, v, mask=None, e=1e-12):\n",
    "        # q: 4 dimension tensor\n",
    "        # [batch_size, seq_len, length, model_d] q length is 1 and k, v length is 4\n",
    "        batch_size, seq_len, length, model_d = k.size()\n",
    "        q, k, v = self.w_q(q), self.w_k(k), self.w_v(v)\n",
    "\n",
    "        # 1. q @ K.T\n",
    "        k_t = k.transpose(2, 3)\n",
    "        # print('q_size:', q.size(), ' , k_t_size:', k_t.size())\n",
    "        score = (q @ k_t) / math.sqrt(model_d)\n",
    "\n",
    "        # 2. masking(decoder self attention only)\n",
    "        if mask is not None:\n",
    "            score = score.masked_fill(mask == 0, -10000)\n",
    "        \n",
    "        # 3. pass them softmax to [0, 1] range\n",
    "        score = self.softmax(score)\n",
    "\n",
    "        # 4. multiply with value\n",
    "        v = score @ v\n",
    "\n",
    "        return v, score"
   ]
  },
  {
   "cell_type": "code",
   "execution_count": 941,
   "metadata": {},
   "outputs": [],
   "source": [
    "class TrnasformerEmbedding(nn.Module):\n",
    "    '''\n",
    "    d_model: dimension of input data\n",
    "    seq_len: max length of sequence\n",
    "    '''\n",
    "    def __init__(self, dropout, d_model, seq_len, device):\n",
    "        super().__init__()\n",
    "        self.lin_emb = LinearEmbedding(dropout, d_model)\n",
    "        self.emb_attn = EmbeddingAttention(d_model)\n",
    "        self.pos_emb = PositionalEncoding(d_model, seq_len, device)\n",
    "        self.dropout = nn.Dropout(p=dropout)\n",
    "\n",
    "    def forward(self, x):\n",
    "        lin_emb = self.lin_emb(x)\n",
    "        # attn_emb, score = self.emb_attn(lin_emb[:, :, -1, :].unsqueeze(2), lin_emb[:, :, :-1, :], lin_emb[:, :, :-1, :])\n",
    "        # attn_emb = attn_emb.squeeze(2)\n",
    "        pos_emb = self.pos_emb(x)\n",
    "        # print('attn_emb:', attn_emb.size())\n",
    "        # print('pos_emb:', pos_emb.size())\n",
    "        return self.dropout(lin_emb + pos_emb)"
   ]
  },
  {
   "cell_type": "markdown",
   "metadata": {},
   "source": [
    "## 6. Encoder Layer\n",
    "Trnasformer Encoder Except Embedding"
   ]
  },
  {
   "cell_type": "code",
   "execution_count": 942,
   "metadata": {},
   "outputs": [],
   "source": [
    "class EncoderLayer(nn.Module):\n",
    "    def __init__(self, d_model, ffn_hidden, n_head, dropout):\n",
    "        super().__init__()\n",
    "        self.attention = MultiHeadAttention(d_model=d_model, n_head=n_head)\n",
    "        # self.normal1 = LayerNorm(d_model=d_model)\n",
    "        self.normal1 = nn.LayerNorm(d_model)\n",
    "        self.dropout1 = nn.Dropout(p=dropout)\n",
    "\n",
    "        self.ffn = PositionwiseFeedForward(d_model=d_model, hidden=ffn_hidden, dropout=dropout)\n",
    "        # self.normal2 = LayerNorm(d_model=d_model)\n",
    "        self.normal2 = nn.LayerNorm(d_model)\n",
    "        self.dropout2 = nn.Dropout(p=dropout)\n",
    "    \n",
    "    def forward(self, x, src_mask=None):\n",
    "        # 1. multihead Attention\n",
    "        residual = x\n",
    "        x = self.attention(x, x, x)\n",
    "\n",
    "        # 2. add and norm\n",
    "        x = self.dropout1(x)\n",
    "        x = self.normal1(x + residual)\n",
    "\n",
    "        # 3. positionwise FFN\n",
    "        residual = x\n",
    "        x = self.ffn(x)\n",
    "\n",
    "        # 4. add and norm\n",
    "        x = self.dropout2(x)\n",
    "        x = self.normal2(x + residual)\n",
    "\n",
    "        return x"
   ]
  },
  {
   "cell_type": "markdown",
   "metadata": {},
   "source": [
    "## 7. Encoder\n",
    "Build Embedding and Encoder Block"
   ]
  },
  {
   "cell_type": "code",
   "execution_count": 943,
   "metadata": {},
   "outputs": [],
   "source": [
    "class Encoder(nn.Module):\n",
    "    def __init__(self, seq_len, d_model, ffn_hidden, n_head, dropout, n_layers, device):\n",
    "        super().__init__()\n",
    "        self.emb = TrnasformerEmbedding(dropout, d_model, seq_len, device)\n",
    "        self.layers = nn.ModuleList([EncoderLayer(d_model, ffn_hidden, n_head, dropout)\n",
    "                                     for _ in range(n_layers)])\n",
    "    \n",
    "    def forward(self, x):\n",
    "        x = self.emb(x)\n",
    "        for layer in self.layers:\n",
    "            x = layer(x)\n",
    "        \n",
    "        return x"
   ]
  },
  {
   "cell_type": "markdown",
   "metadata": {},
   "source": [
    "## 8. Transformer Encoder\n",
    "Only use encoder module and FFN "
   ]
  },
  {
   "cell_type": "code",
   "execution_count": 944,
   "metadata": {},
   "outputs": [],
   "source": [
    "class TransformerEncoder(nn.Module):\n",
    "    def __init__(self, seq_len, d_model, ffn_hidden, n_head, dropout, n_layers, device):\n",
    "        super().__init__()\n",
    "        self.encoder = Encoder(seq_len, d_model, ffn_hidden, n_head, dropout, n_layers, device)\n",
    "        # self.flatten = nn.Flatten()\n",
    "        self.flatten_dim = seq_len * d_model\n",
    "        self.linear1 = nn.Linear(d_model, d_model // 2)\n",
    "        self.linear2 = nn.Linear(d_model // 2, d_model // 4)\n",
    "        self.linear3 = nn.Linear(d_model // 4, 2)   # binary classification\n",
    "        self.layernorm1 = nn.LayerNorm(d_model // 2)        \n",
    "        self.layernorm2 = nn.LayerNorm(d_model // 4)        \n",
    "\n",
    "        self.dropout = nn.Dropout(p=dropout)\n",
    "        self.relu = nn.ReLU()\n",
    "        self.sigmoid = nn.Sigmoid()\n",
    "    \n",
    "    def forward(self, x):\n",
    "        x = self.encoder(x)\n",
    "        # x = self.encoder(x)[:, 0, :]\n",
    "        # x = self.flatten(x)\n",
    "        # print(x.size())\n",
    "        x = self.linear1(x)[:, 0, :]\n",
    "        # x = self.linear1(x)\n",
    "        # print(x.size())\n",
    "        x = self.relu(x)\n",
    "        x = self.dropout(x)\n",
    "        x = self.layernorm1(x)\n",
    "        \n",
    "        x = self.linear2(x)\n",
    "        x = self.relu(x)\n",
    "        x = self.dropout(x)\n",
    "        x = self.layernorm2(x)\n",
    "        x = self.linear3(x)\n",
    "        x = self.sigmoid(x)\n",
    "        \n",
    "        return x"
   ]
  },
  {
   "cell_type": "markdown",
   "metadata": {},
   "source": [
    "## 9. model, loss_fn, optimizer\n"
   ]
  },
  {
   "cell_type": "code",
   "execution_count": 945,
   "metadata": {},
   "outputs": [
    {
     "name": "stdout",
     "output_type": "stream",
     "text": [
      "64 128 1\n"
     ]
    }
   ],
   "source": [
    "# next(iter(train_dataloader)).shape\n",
    "# torch.cuda.empty.cache()\n",
    "batch_size, seq_len, input_dim = next(iter(train_dataloader))[0].size()\n",
    "print(batch_size, seq_len, input_dim)\n",
    "device = 'cuda' if torch.cuda.is_available() else 'cpu'\n",
    "model_d = 512\n",
    "dropout = 0.2\n",
    "ffn_hidden = model_d // 2\n",
    "n_layers = 4\n",
    "n_head = 2\n",
    "lr = 1e-3\n",
    "lr_sched = True"
   ]
  },
  {
   "cell_type": "code",
   "execution_count": 946,
   "metadata": {},
   "outputs": [],
   "source": [
    "model = TransformerEncoder(seq_len, model_d, ffn_hidden, n_head, dropout, n_layers, device).to(device)\n",
    "loss_fn = nn.CrossEntropyLoss()\n",
    "optimizer = torch.optim.Adam(params=model.parameters(), lr = lr)\n",
    "if lr_sched == True:\n",
    "    # scheduler = torch.optim.lr_scheduler.LambdaLR(optimizer=optimizer,\n",
    "    #                                     lr_lambda=lambda epoch: 0.95 ** epoch,\n",
    "    #                                     last_epoch=-1,\n",
    "    #                                     verbose=False)\n",
    "    # scheduler = torch.optim.lr_scheduler.ExponentialLR(optimizer, gamma=0.95)\n",
    "    scheduler = torch.optim.lr_scheduler.StepLR(optimizer, step_size=100, gamma=0.5)"
   ]
  },
  {
   "cell_type": "code",
   "execution_count": 947,
   "metadata": {},
   "outputs": [
    {
     "data": {
      "text/plain": [
       "TransformerEncoder(\n",
       "  (encoder): Encoder(\n",
       "    (emb): TrnasformerEmbedding(\n",
       "      (lin_emb): LinearEmbedding(\n",
       "        (linear1): Linear(in_features=1, out_features=256, bias=True)\n",
       "        (linear2): Linear(in_features=256, out_features=512, bias=True)\n",
       "        (relu): ReLU()\n",
       "        (dropout): Dropout(p=0.2, inplace=False)\n",
       "        (layernorm1): LayerNorm()\n",
       "        (layernorm2): LayerNorm()\n",
       "      )\n",
       "      (emb_attn): EmbeddingAttention(\n",
       "        (w_q): Linear(in_features=512, out_features=512, bias=True)\n",
       "        (w_k): Linear(in_features=512, out_features=512, bias=True)\n",
       "        (w_v): Linear(in_features=512, out_features=512, bias=True)\n",
       "        (softmax): Softmax(dim=-1)\n",
       "      )\n",
       "      (pos_emb): PositionalEncoding()\n",
       "      (dropout): Dropout(p=0.2, inplace=False)\n",
       "    )\n",
       "    (layers): ModuleList(\n",
       "      (0-3): 4 x EncoderLayer(\n",
       "        (attention): MultiHeadAttention(\n",
       "          (attention): ScaleDotProductAttention(\n",
       "            (softmax): Softmax(dim=-1)\n",
       "          )\n",
       "          (w_q): Linear(in_features=512, out_features=512, bias=True)\n",
       "          (w_k): Linear(in_features=512, out_features=512, bias=True)\n",
       "          (w_v): Linear(in_features=512, out_features=512, bias=True)\n",
       "          (w_concat): Linear(in_features=512, out_features=512, bias=True)\n",
       "        )\n",
       "        (normal1): LayerNorm((512,), eps=1e-05, elementwise_affine=True)\n",
       "        (dropout1): Dropout(p=0.2, inplace=False)\n",
       "        (ffn): PositionwiseFeedForward(\n",
       "          (linear1): Linear(in_features=512, out_features=256, bias=True)\n",
       "          (linear2): Linear(in_features=256, out_features=512, bias=True)\n",
       "          (relu): ReLU()\n",
       "          (dropout): Dropout(p=0.2, inplace=False)\n",
       "        )\n",
       "        (normal2): LayerNorm((512,), eps=1e-05, elementwise_affine=True)\n",
       "        (dropout2): Dropout(p=0.2, inplace=False)\n",
       "      )\n",
       "    )\n",
       "  )\n",
       "  (linear1): Linear(in_features=512, out_features=256, bias=True)\n",
       "  (linear2): Linear(in_features=256, out_features=128, bias=True)\n",
       "  (linear3): Linear(in_features=128, out_features=2, bias=True)\n",
       "  (layernorm1): LayerNorm((256,), eps=1e-05, elementwise_affine=True)\n",
       "  (layernorm2): LayerNorm((128,), eps=1e-05, elementwise_affine=True)\n",
       "  (dropout): Dropout(p=0.2, inplace=False)\n",
       "  (relu): ReLU()\n",
       "  (sigmoid): Sigmoid()\n",
       ")"
      ]
     },
     "execution_count": 947,
     "metadata": {},
     "output_type": "execute_result"
    }
   ],
   "source": [
    "model"
   ]
  },
  {
   "cell_type": "markdown",
   "metadata": {},
   "source": [
    "## 10. Train and Test function"
   ]
  },
  {
   "cell_type": "code",
   "execution_count": 948,
   "metadata": {},
   "outputs": [
    {
     "name": "stdout",
     "output_type": "stream",
     "text": [
      "torch.Size([64, 128, 1])\n",
      "torch.Size([64, 128, 512])\n"
     ]
    }
   ],
   "source": [
    "linear_model = LinearEmbedding(0.2, model_d).to(device)\n",
    "in_x, in_y = next(iter(train_dataloader))\n",
    "in_x = in_x.to(device).float()\n",
    "out = linear_model(in_x)\n",
    "out.size()\n",
    "print(in_x.size())\n",
    "print(out.size())"
   ]
  },
  {
   "cell_type": "code",
   "execution_count": 949,
   "metadata": {},
   "outputs": [],
   "source": [
    "# a = torch.rand((64, 128, 1, 1024))\n",
    "# b = torch.rand((64, 128, 1024, 4))\n",
    "# c = a @ b\n",
    "# print(a[:, :, -1, :].unsqueeze(2).size())\n",
    "# c.size()"
   ]
  },
  {
   "cell_type": "code",
   "execution_count": 950,
   "metadata": {},
   "outputs": [
    {
     "data": {
      "text/plain": [
       "torch.Size([64, 128, 512])"
      ]
     },
     "execution_count": 950,
     "metadata": {},
     "output_type": "execute_result"
    }
   ],
   "source": [
    "emb_model = TrnasformerEmbedding(0.2, model_d, seq_len, device).to(device)\n",
    "in_x, in_y = next(iter(train_dataloader))\n",
    "in_x = in_x.to(device).float()\n",
    "out = emb_model(in_x)\n",
    "out.size()"
   ]
  },
  {
   "cell_type": "code",
   "execution_count": 951,
   "metadata": {},
   "outputs": [
    {
     "name": "stdout",
     "output_type": "stream",
     "text": [
      "torch.Size([64, 128, 512])\n",
      "torch.Size([64, 1, 2])\n",
      "torch.Size([128])\n"
     ]
    }
   ],
   "source": [
    "encoder_model = Encoder(seq_len, model_d, ffn_hidden, n_head, dropout, n_layers, device).to(device)\n",
    "in_x, in_y = next(iter(train_dataloader))\n",
    "in_x = in_x.to(device).float()\n",
    "out = encoder_model(in_x)\n",
    "print(out.size())\n",
    "print(in_y.shape)\n",
    "print(in_y.contiguous().view(-1).shape)"
   ]
  },
  {
   "cell_type": "code",
   "execution_count": 952,
   "metadata": {},
   "outputs": [
    {
     "name": "stdout",
     "output_type": "stream",
     "text": [
      "torch.Size([64, 2])\n",
      "torch.Size([64, 1, 2])\n",
      "torch.Size([128])\n"
     ]
    }
   ],
   "source": [
    "in_x, in_y = next(iter(train_dataloader))\n",
    "in_x = in_x.to(device).float()\n",
    "out = model(in_x)\n",
    "print(out.size())\n",
    "print(in_y.shape)\n",
    "print(in_y.contiguous().view(-1).shape)"
   ]
  },
  {
   "cell_type": "code",
   "execution_count": 953,
   "metadata": {},
   "outputs": [
    {
     "name": "stdout",
     "output_type": "stream",
     "text": [
      "tensor([[0.3062, 0.6016],\n",
      "        [0.5675, 0.6609],\n",
      "        [0.5663, 0.3908],\n",
      "        [0.2851, 0.3095],\n",
      "        [0.3969, 0.4494],\n",
      "        [0.2195, 0.5150],\n",
      "        [0.3091, 0.3302],\n",
      "        [0.3398, 0.6113],\n",
      "        [0.4933, 0.5500],\n",
      "        [0.4943, 0.5579]], device='cuda:0', grad_fn=<SliceBackward0>)\n",
      "tensor([[[0., 1.]],\n",
      "\n",
      "        [[0., 1.]],\n",
      "\n",
      "        [[0., 1.]],\n",
      "\n",
      "        [[1., 0.]],\n",
      "\n",
      "        [[1., 0.]],\n",
      "\n",
      "        [[1., 0.]],\n",
      "\n",
      "        [[1., 0.]],\n",
      "\n",
      "        [[1., 0.]],\n",
      "\n",
      "        [[1., 0.]],\n",
      "\n",
      "        [[0., 1.]]], dtype=torch.float64)\n"
     ]
    },
    {
     "data": {
      "text/plain": [
       "0.5563235878944397"
      ]
     },
     "execution_count": 953,
     "metadata": {},
     "output_type": "execute_result"
    }
   ],
   "source": [
    "print(out[:10])\n",
    "print(in_y[:10])\n",
    "loss = loss_fn(out[0].float(), in_y[0][0].to(device).float())\n",
    "loss.item()"
   ]
  },
  {
   "cell_type": "code",
   "execution_count": 954,
   "metadata": {},
   "outputs": [
    {
     "name": "stdout",
     "output_type": "stream",
     "text": [
      "epochs: 0, loss: 68.716323, lr:  0.001\n",
      "epochs: 1, loss: 68.529038, lr:  0.001\n",
      "epochs: 2, loss: 68.464493, lr:  0.001\n",
      "epochs: 3, loss: 68.464252, lr:  0.001\n"
     ]
    },
    {
     "ename": "KeyboardInterrupt",
     "evalue": "",
     "output_type": "error",
     "traceback": [
      "\u001b[1;31m---------------------------------------------------------------------------\u001b[0m",
      "\u001b[1;31mKeyboardInterrupt\u001b[0m                         Traceback (most recent call last)",
      "Cell \u001b[1;32mIn[954], line 20\u001b[0m\n\u001b[0;32m     17\u001b[0m     \u001b[38;5;66;03m# torch.nn.utils.clip_grad_norm(model.parameters(), 0.5)  # when using scheduler, it is not for grad exploding\u001b[39;00m\n\u001b[0;32m     18\u001b[0m     optimizer\u001b[38;5;241m.\u001b[39mstep()\n\u001b[1;32m---> 20\u001b[0m     epoch_loss \u001b[38;5;241m+\u001b[39m\u001b[38;5;241m=\u001b[39m \u001b[43mloss\u001b[49m\u001b[38;5;241;43m.\u001b[39;49m\u001b[43mitem\u001b[49m\u001b[43m(\u001b[49m\u001b[43m)\u001b[49m\n\u001b[0;32m     22\u001b[0m \u001b[38;5;28mprint\u001b[39m(\u001b[38;5;124mf\u001b[39m\u001b[38;5;124m'\u001b[39m\u001b[38;5;124mepochs: \u001b[39m\u001b[38;5;132;01m{\u001b[39;00mi\u001b[38;5;132;01m}\u001b[39;00m\u001b[38;5;124m, loss: \u001b[39m\u001b[38;5;132;01m{\u001b[39;00mepoch_loss\u001b[38;5;132;01m:\u001b[39;00m\u001b[38;5;124m.6f\u001b[39m\u001b[38;5;132;01m}\u001b[39;00m\u001b[38;5;124m, lr: \u001b[39m\u001b[38;5;124m'\u001b[39m, \u001b[38;5;28mround\u001b[39m(optimizer\u001b[38;5;241m.\u001b[39mparam_groups[\u001b[38;5;241m0\u001b[39m][\u001b[38;5;124m'\u001b[39m\u001b[38;5;124mlr\u001b[39m\u001b[38;5;124m'\u001b[39m], \u001b[38;5;241m8\u001b[39m))\n\u001b[0;32m     23\u001b[0m \u001b[38;5;28;01mif\u001b[39;00m lr_sched \u001b[38;5;241m==\u001b[39m \u001b[38;5;28;01mTrue\u001b[39;00m:\n",
      "\u001b[1;31mKeyboardInterrupt\u001b[0m: "
     ]
    }
   ],
   "source": [
    "epochs = 1000\n",
    "loss_np = np.zeros((epochs, 2))\n",
    "df_loss = pd.DataFrame(loss_np, columns=['epoch', 'loss'])\n",
    "for i in range(epochs):\n",
    "    epoch_loss = 0\n",
    "    for inputs, labels in train_dataloader:\n",
    "        inputs = inputs.to(device).float()\n",
    "        labels = labels.to(device)\n",
    "        # print(inputs.size(), labels.size())\n",
    "\n",
    "        optimizer.zero_grad()\n",
    "        output = model(inputs)\n",
    "        # print(output.size())\n",
    "        loss = loss_fn(output.squeeze(1).float(), labels.squeeze().float())\n",
    "        # print(loss)\n",
    "        loss.backward()\n",
    "        # torch.nn.utils.clip_grad_norm(model.parameters(), 0.5)  # when using scheduler, it is not for grad exploding\n",
    "        optimizer.step()\n",
    "\n",
    "        epoch_loss += loss.item()\n",
    "    \n",
    "    print(f'epochs: {i}, loss: {epoch_loss:.6f}, lr: ', round(optimizer.param_groups[0]['lr'], 8))\n",
    "    if lr_sched == True:\n",
    "        scheduler.step()\n",
    "    df_loss.loc[i, :] = [i, epoch_loss]"
   ]
  },
  {
   "cell_type": "code",
   "execution_count": null,
   "metadata": {},
   "outputs": [
    {
     "name": "stdout",
     "output_type": "stream",
     "text": [
      "transormer_kospi_w_other_window_model_d512seqlen128_layaers4_nhead2.pt\n"
     ]
    },
    {
     "data": {
      "text/html": [
       "<div>\n",
       "<style scoped>\n",
       "    .dataframe tbody tr th:only-of-type {\n",
       "        vertical-align: middle;\n",
       "    }\n",
       "\n",
       "    .dataframe tbody tr th {\n",
       "        vertical-align: top;\n",
       "    }\n",
       "\n",
       "    .dataframe thead th {\n",
       "        text-align: right;\n",
       "    }\n",
       "</style>\n",
       "<table border=\"1\" class=\"dataframe\">\n",
       "  <thead>\n",
       "    <tr style=\"text-align: right;\">\n",
       "      <th></th>\n",
       "      <th>epoch</th>\n",
       "      <th>loss</th>\n",
       "    </tr>\n",
       "  </thead>\n",
       "  <tbody>\n",
       "    <tr>\n",
       "      <th>0</th>\n",
       "      <td>0.0</td>\n",
       "      <td>54.829432</td>\n",
       "    </tr>\n",
       "    <tr>\n",
       "      <th>1</th>\n",
       "      <td>1.0</td>\n",
       "      <td>53.956519</td>\n",
       "    </tr>\n",
       "    <tr>\n",
       "      <th>2</th>\n",
       "      <td>2.0</td>\n",
       "      <td>53.945283</td>\n",
       "    </tr>\n",
       "    <tr>\n",
       "      <th>3</th>\n",
       "      <td>3.0</td>\n",
       "      <td>53.934084</td>\n",
       "    </tr>\n",
       "    <tr>\n",
       "      <th>4</th>\n",
       "      <td>4.0</td>\n",
       "      <td>53.942394</td>\n",
       "    </tr>\n",
       "    <tr>\n",
       "      <th>...</th>\n",
       "      <td>...</td>\n",
       "      <td>...</td>\n",
       "    </tr>\n",
       "    <tr>\n",
       "      <th>95</th>\n",
       "      <td>95.0</td>\n",
       "      <td>53.924703</td>\n",
       "    </tr>\n",
       "    <tr>\n",
       "      <th>96</th>\n",
       "      <td>96.0</td>\n",
       "      <td>53.921212</td>\n",
       "    </tr>\n",
       "    <tr>\n",
       "      <th>97</th>\n",
       "      <td>97.0</td>\n",
       "      <td>53.927131</td>\n",
       "    </tr>\n",
       "    <tr>\n",
       "      <th>98</th>\n",
       "      <td>98.0</td>\n",
       "      <td>53.931064</td>\n",
       "    </tr>\n",
       "    <tr>\n",
       "      <th>99</th>\n",
       "      <td>99.0</td>\n",
       "      <td>53.923471</td>\n",
       "    </tr>\n",
       "  </tbody>\n",
       "</table>\n",
       "<p>100 rows × 2 columns</p>\n",
       "</div>"
      ],
      "text/plain": [
       "    epoch       loss\n",
       "0     0.0  54.829432\n",
       "1     1.0  53.956519\n",
       "2     2.0  53.945283\n",
       "3     3.0  53.934084\n",
       "4     4.0  53.942394\n",
       "..    ...        ...\n",
       "95   95.0  53.924703\n",
       "96   96.0  53.921212\n",
       "97   97.0  53.927131\n",
       "98   98.0  53.931064\n",
       "99   99.0  53.923471\n",
       "\n",
       "[100 rows x 2 columns]"
      ]
     },
     "execution_count": 265,
     "metadata": {},
     "output_type": "execute_result"
    }
   ],
   "source": [
    "# save_path = 'transormer_cts_token_kospi_only_model_d_' + str(model_d) +'seqlen' + str(seq_len) + '_layaers' + str(n_layers) + '_nhead' + str(n_head) + '.pt'\n",
    "# # save_path = 'kospi_only.pt'\n",
    "# torch.save(model.state_dict(), save_path)\n",
    "# print(save_path)\n",
    "# df_loss"
   ]
  },
  {
   "cell_type": "code",
   "execution_count": null,
   "metadata": {},
   "outputs": [
    {
     "data": {
      "image/png": "[encoded data removed]",
      "text/plain": [
       "<Figure size 2000x500 with 1 Axes>"
      ]
     },
     "metadata": {},
     "output_type": "display_data"
    }
   ],
   "source": [
    "plt.figure(figsize=(20, 5))\n",
    "plt.plot(df_loss.loc[:, 'epoch'], df_loss.loc[:, 'loss'])\n",
    "plt.show()"
   ]
  },
  {
   "cell_type": "code",
   "execution_count": null,
   "metadata": {},
   "outputs": [],
   "source": []
  },
  {
   "cell_type": "code",
   "execution_count": null,
   "metadata": {},
   "outputs": [],
   "source": [
    "test_result = pd.DataFrame(columns=['pred', 'real'])\n",
    "num = 0\n",
    "\n",
    "with torch.no_grad():\n",
    "    for _, data in enumerate(test_dataloader):\n",
    "        inputs = data[0].to(device).float()\n",
    "        # outputs = data[1].to(device).float()\n",
    "        outputs = data[1].squeeze()\n",
    "        \n",
    "        pred = model(inputs)\n",
    "        for i in range(len(pred)):\n",
    "            pred_ = pred.detach().cpu().numpy()[i][0]\n",
    "            # pred_ = 1 if pred_ > 0.5 else 0\n",
    "            # print(out_scaled)\n",
    "            test_result.loc[num] = [pred_, outputs[i].cpu().numpy()]\n",
    "            num += 1"
   ]
  },
  {
   "cell_type": "code",
   "execution_count": null,
   "metadata": {},
   "outputs": [],
   "source": [
    "test_result['pred_'] = np.where(test_result['pred']> 0.5, 1 , 0)"
   ]
  },
  {
   "cell_type": "code",
   "execution_count": null,
   "metadata": {},
   "outputs": [
    {
     "data": {
      "text/html": [
       "<div>\n",
       "<style scoped>\n",
       "    .dataframe tbody tr th:only-of-type {\n",
       "        vertical-align: middle;\n",
       "    }\n",
       "\n",
       "    .dataframe tbody tr th {\n",
       "        vertical-align: top;\n",
       "    }\n",
       "\n",
       "    .dataframe thead th {\n",
       "        text-align: right;\n",
       "    }\n",
       "</style>\n",
       "<table border=\"1\" class=\"dataframe\">\n",
       "  <thead>\n",
       "    <tr style=\"text-align: right;\">\n",
       "      <th></th>\n",
       "      <th>pred</th>\n",
       "      <th>real</th>\n",
       "      <th>pred_</th>\n",
       "    </tr>\n",
       "  </thead>\n",
       "  <tbody>\n",
       "    <tr>\n",
       "      <th>0</th>\n",
       "      <td>0.470366</td>\n",
       "      <td>0.6669077351054039</td>\n",
       "      <td>0</td>\n",
       "    </tr>\n",
       "    <tr>\n",
       "      <th>1</th>\n",
       "      <td>0.470366</td>\n",
       "      <td>0.6582677012568363</td>\n",
       "      <td>0</td>\n",
       "    </tr>\n",
       "    <tr>\n",
       "      <th>2</th>\n",
       "      <td>0.470366</td>\n",
       "      <td>0.6603793654134782</td>\n",
       "      <td>0</td>\n",
       "    </tr>\n",
       "    <tr>\n",
       "      <th>3</th>\n",
       "      <td>0.470366</td>\n",
       "      <td>0.6536420387917257</td>\n",
       "      <td>0</td>\n",
       "    </tr>\n",
       "    <tr>\n",
       "      <th>4</th>\n",
       "      <td>0.470366</td>\n",
       "      <td>0.6513602253411171</td>\n",
       "      <td>0</td>\n",
       "    </tr>\n",
       "    <tr>\n",
       "      <th>...</th>\n",
       "      <td>...</td>\n",
       "      <td>...</td>\n",
       "      <td>...</td>\n",
       "    </tr>\n",
       "    <tr>\n",
       "      <th>135</th>\n",
       "      <td>0.470366</td>\n",
       "      <td>0.7776665218776749</td>\n",
       "      <td>0</td>\n",
       "    </tr>\n",
       "    <tr>\n",
       "      <th>136</th>\n",
       "      <td>0.470366</td>\n",
       "      <td>0.7776665218776749</td>\n",
       "      <td>0</td>\n",
       "    </tr>\n",
       "    <tr>\n",
       "      <th>137</th>\n",
       "      <td>0.470366</td>\n",
       "      <td>0.7864303435866145</td>\n",
       "      <td>0</td>\n",
       "    </tr>\n",
       "    <tr>\n",
       "      <th>138</th>\n",
       "      <td>0.470366</td>\n",
       "      <td>0.7754542977886941</td>\n",
       "      <td>0</td>\n",
       "    </tr>\n",
       "    <tr>\n",
       "      <th>139</th>\n",
       "      <td>0.470366</td>\n",
       "      <td>0.782230148778892</td>\n",
       "      <td>0</td>\n",
       "    </tr>\n",
       "  </tbody>\n",
       "</table>\n",
       "<p>140 rows × 3 columns</p>\n",
       "</div>"
      ],
      "text/plain": [
       "         pred                real  pred_\n",
       "0    0.470366  0.6669077351054039      0\n",
       "1    0.470366  0.6582677012568363      0\n",
       "2    0.470366  0.6603793654134782      0\n",
       "3    0.470366  0.6536420387917257      0\n",
       "4    0.470366  0.6513602253411171      0\n",
       "..        ...                 ...    ...\n",
       "135  0.470366  0.7776665218776749      0\n",
       "136  0.470366  0.7776665218776749      0\n",
       "137  0.470366  0.7864303435866145      0\n",
       "138  0.470366  0.7754542977886941      0\n",
       "139  0.470366   0.782230148778892      0\n",
       "\n",
       "[140 rows x 3 columns]"
      ]
     },
     "execution_count": 269,
     "metadata": {},
     "output_type": "execute_result"
    }
   ],
   "source": [
    "test_result"
   ]
  },
  {
   "cell_type": "code",
   "execution_count": null,
   "metadata": {},
   "outputs": [
    {
     "data": {
      "image/png": "[encoded data removed]",
      "text/plain": [
       "<Figure size 2000x500 with 1 Axes>"
      ]
     },
     "metadata": {},
     "output_type": "display_data"
    }
   ],
   "source": [
    "plt.figure(figsize=(20, 5))\n",
    "# plt.plot(idx_num, test_result['pred'], label='pred')\n",
    "# plt.plot(range(len(test_result)), test_result['pred_rescale'], label='pred')\n",
    "plt.scatter(range(len(test_result)), test_result['pred_'], label='pred')\n",
    "plt.plot(range(len(test_result)), test_result['real'], 'g--', label='real')\n",
    "plt.legend()\n",
    "plt.show()"
   ]
  },
  {
   "cell_type": "code",
   "execution_count": null,
   "metadata": {},
   "outputs": [
    {
     "data": {
      "image/png": "[encoded data removed]",
      "text/plain": [
       "<Figure size 2000x500 with 1 Axes>"
      ]
     },
     "metadata": {},
     "output_type": "display_data"
    }
   ],
   "source": [
    "plt.figure(figsize=(20, 5))\n",
    "# plt.plot(idx_num, test_result['pred'], label='pred')\n",
    "plt.scatter(range(20), test_result.iloc[-20: , 2], label='pred')\n",
    "plt.plot(range(20), test_result.iloc[-20: , 1], 'g--', label='real')\n",
    "# plt.scatter(range(len(test_result)), test_result['pred'], label='pred')\n",
    "# plt.plot(range(len(test_result)), test_result['real'], 'g--', label='real')\n",
    "plt.legend()\n",
    "plt.show()"
   ]
  },
  {
   "cell_type": "code",
   "execution_count": null,
   "metadata": {},
   "outputs": [
    {
     "data": {
      "image/png": "[encoded data removed]",
      "text/plain": [
       "<Figure size 2000x500 with 1 Axes>"
      ]
     },
     "metadata": {},
     "output_type": "display_data"
    }
   ],
   "source": [
    "plt.figure(figsize=(20, 5))\n",
    "# plt.plot(idx_num, test_result['pred'], label='pred')\n",
    "plt.scatter(range(20), test_result.iloc[-50:-30 , 2], label='pred')\n",
    "plt.plot(range(20), test_result.iloc[-50:-30 , 1], 'g--', label='real')\n",
    "# plt.scatter(range(len(test_result)), test_result['pred'], label='pred')\n",
    "# plt.plot(range(len(test_result)), test_result['real'], 'g--', label='real')\n",
    "plt.legend()\n",
    "plt.show()"
   ]
  },
  {
   "cell_type": "markdown",
   "metadata": {},
   "source": [
    "## 11. evaluation metrics\n",
    "MAPE, MSE"
   ]
  },
  {
   "cell_type": "code",
   "execution_count": null,
   "metadata": {},
   "outputs": [],
   "source": [
    "test_result['real'] = test_result['real'].astype('int')"
   ]
  },
  {
   "cell_type": "code",
   "execution_count": null,
   "metadata": {},
   "outputs": [
    {
     "name": "stdout",
     "output_type": "stream",
     "text": [
      "ACC: 1.0000, Precision: 0.0000, Recall: 0.0000\n",
      "[[140]]\n"
     ]
    },
    {
     "name": "stderr",
     "output_type": "stream",
     "text": [
      "c:\\Users\\alan.kwak\\AppData\\Local\\Programs\\Python\\Python311\\Lib\\site-packages\\sklearn\\metrics\\_classification.py:1509: UndefinedMetricWarning: Precision is ill-defined and being set to 0.0 due to no predicted samples. Use `zero_division` parameter to control this behavior.\n",
      "  _warn_prf(average, modifier, f\"{metric.capitalize()} is\", len(result))\n",
      "c:\\Users\\alan.kwak\\AppData\\Local\\Programs\\Python\\Python311\\Lib\\site-packages\\sklearn\\metrics\\_classification.py:1509: UndefinedMetricWarning: Recall is ill-defined and being set to 0.0 due to no true samples. Use `zero_division` parameter to control this behavior.\n",
      "  _warn_prf(average, modifier, f\"{metric.capitalize()} is\", len(result))\n",
      "c:\\Users\\alan.kwak\\AppData\\Local\\Programs\\Python\\Python311\\Lib\\site-packages\\sklearn\\metrics\\_classification.py:386: UserWarning: A single label was found in 'y_true' and 'y_pred'. For the confusion matrix to have the correct shape, use the 'labels' parameter to pass all known labels.\n",
      "  warnings.warn(\n"
     ]
    }
   ],
   "source": [
    "accuracy = accuracy_score(test_result['real'], test_result['pred_'])\n",
    "precision = precision_score(test_result['real'], test_result['pred_'])\n",
    "recall = recall_score(test_result['real'], test_result['pred_'])\n",
    "cm = confusion_matrix(test_result['real'], test_result['pred_'])\n",
    "print(f'ACC: {accuracy:.4f}, Precision: {precision:.4f}, Recall: {recall:.4f}')\n",
    "print(cm)"
   ]
  },
  {
   "cell_type": "code",
   "execution_count": null,
   "metadata": {},
   "outputs": [
    {
     "data": {
      "text/plain": [
       "<Axes: >"
      ]
     },
     "execution_count": 275,
     "metadata": {},
     "output_type": "execute_result"
    },
    {
     "data": {
      "image/png": "[encoded data removed]",
      "text/plain": [
       "<Figure size 640x480 with 2 Axes>"
      ]
     },
     "metadata": {},
     "output_type": "display_data"
    }
   ],
   "source": [
    "import seaborn as sns\n",
    "sns.heatmap(cm, annot=True)"
   ]
  }
 ],
 "metadata": {
  "kernelspec": {
   "display_name": "Python 3",
   "language": "python",
   "name": "python3"
  },
  "language_info": {
   "codemirror_mode": {
    "name": "ipython",
    "version": 3
   },
   "file_extension": ".py",
   "mimetype": "text/x-python",
   "name": "python",
   "nbconvert_exporter": "python",
   "pygments_lexer": "ipython3",
   "version": "3.11.8"
  }
 },
 "nbformat": 4,
 "nbformat_minor": 2
}
